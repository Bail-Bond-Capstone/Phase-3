{
  "nbformat": 4,
  "nbformat_minor": 0,
  "metadata": {
    "colab": {
      "name": "NMR_MultiClass.ipynb",
      "provenance": []
    },
    "kernelspec": {
      "name": "python3",
      "display_name": "Python 3"
    },
    "language_info": {
      "name": "python"
    }
  },
  "cells": [
    {
      "cell_type": "markdown",
      "source": [
        "# Predict NMR Outcomes\n",
        "  Now that we have predicted whether or not their are NMR outcomes, we can predict what precisely they are.\n",
        "\n",
        "  For this, we need to use multi-label classifiers\n",
        "\n",
        "  Sources: <https://scikit-learn.org/stable/modules/multiclass.html#multilabel-classification>"
      ],
      "metadata": {
        "id": "6xSS7e95jTz4"
      }
    },
    {
      "cell_type": "markdown",
      "source": [
        "# Prepare the Data"
      ],
      "metadata": {
        "id": "fT_oW4rNkOQq"
      }
    },
    {
      "cell_type": "code",
      "source": [
        "#Import Libraries\n",
        "import numpy as np\n",
        "import pandas as pd\n",
        "pd.set_option('display.max_rows', 500)\n",
        "pd.set_option('display.max_columns', None)\n",
        "import matplotlib.pyplot as plt\n",
        "\n",
        "\n",
        "from sklearn.preprocessing import OneHotEncoder\n",
        "from sklearn.pipeline import Pipeline\n",
        "from sklearn.compose import make_column_transformer\n",
        "!pip install category_encoders\n",
        "from category_encoders import LeaveOneOutEncoder\n",
        "\n",
        "import seaborn as sns\n",
        "\n",
        "from sklearn.model_selection import GridSearchCV\n",
        "\n",
        "from sklearn import metrics\n",
        "from sklearn.linear_model import LogisticRegression\n",
        "from sklearn.linear_model import LogisticRegressionCV\n",
        "from sklearn.model_selection import train_test_split\n",
        "from sklearn import svm\n",
        "from sklearn.metrics import classification_report, confusion_matrix\n",
        "from sklearn.ensemble import RandomForestClassifier\n",
        "from sklearn.model_selection import RandomizedSearchCV\n",
        "from sklearn.naive_bayes import GaussianNB\n",
        "from sklearn.neighbors import KNeighborsClassifier\n",
        "from sklearn.svm import SVC\n",
        "from sklearn.multioutput import MultiOutputClassifier\n",
        "from sklearn.preprocessing import StandardScaler\n",
        "import tensorflow as tf\n",
        "from tensorflow import keras\n",
        "from keras.models import Sequential\n",
        "from keras.layers import Dense"
      ],
      "metadata": {
        "colab": {
          "base_uri": "https://localhost:8080/"
        },
        "id": "y92cwI93kIde",
        "outputId": "d4c534e0-5472-4142-e539-8d136bf10288"
      },
      "execution_count": 1,
      "outputs": [
        {
          "output_type": "stream",
          "name": "stdout",
          "text": [
            "Collecting category_encoders\n",
            "  Downloading category_encoders-2.4.1-py2.py3-none-any.whl (80 kB)\n",
            "\u001b[?25l\r\u001b[K     |████                            | 10 kB 21.0 MB/s eta 0:00:01\r\u001b[K     |████████                        | 20 kB 13.3 MB/s eta 0:00:01\r\u001b[K     |████████████▏                   | 30 kB 9.5 MB/s eta 0:00:01\r\u001b[K     |████████████████▏               | 40 kB 8.6 MB/s eta 0:00:01\r\u001b[K     |████████████████████▎           | 51 kB 4.3 MB/s eta 0:00:01\r\u001b[K     |████████████████████████▎       | 61 kB 5.1 MB/s eta 0:00:01\r\u001b[K     |████████████████████████████▍   | 71 kB 5.4 MB/s eta 0:00:01\r\u001b[K     |████████████████████████████████| 80 kB 3.9 MB/s \n",
            "\u001b[?25hRequirement already satisfied: statsmodels>=0.9.0 in /usr/local/lib/python3.7/dist-packages (from category_encoders) (0.10.2)\n",
            "Requirement already satisfied: patsy>=0.5.1 in /usr/local/lib/python3.7/dist-packages (from category_encoders) (0.5.2)\n",
            "Requirement already satisfied: scipy>=1.0.0 in /usr/local/lib/python3.7/dist-packages (from category_encoders) (1.4.1)\n",
            "Requirement already satisfied: pandas>=0.21.1 in /usr/local/lib/python3.7/dist-packages (from category_encoders) (1.3.5)\n",
            "Requirement already satisfied: scikit-learn>=0.20.0 in /usr/local/lib/python3.7/dist-packages (from category_encoders) (1.0.2)\n",
            "Requirement already satisfied: numpy>=1.14.0 in /usr/local/lib/python3.7/dist-packages (from category_encoders) (1.21.6)\n",
            "Requirement already satisfied: python-dateutil>=2.7.3 in /usr/local/lib/python3.7/dist-packages (from pandas>=0.21.1->category_encoders) (2.8.2)\n",
            "Requirement already satisfied: pytz>=2017.3 in /usr/local/lib/python3.7/dist-packages (from pandas>=0.21.1->category_encoders) (2022.1)\n",
            "Requirement already satisfied: six in /usr/local/lib/python3.7/dist-packages (from patsy>=0.5.1->category_encoders) (1.15.0)\n",
            "Requirement already satisfied: joblib>=0.11 in /usr/local/lib/python3.7/dist-packages (from scikit-learn>=0.20.0->category_encoders) (1.1.0)\n",
            "Requirement already satisfied: threadpoolctl>=2.0.0 in /usr/local/lib/python3.7/dist-packages (from scikit-learn>=0.20.0->category_encoders) (3.1.0)\n",
            "Installing collected packages: category-encoders\n",
            "Successfully installed category-encoders-2.4.1\n"
          ]
        },
        {
          "output_type": "stream",
          "name": "stderr",
          "text": [
            "/usr/local/lib/python3.7/dist-packages/statsmodels/tools/_testing.py:19: FutureWarning: pandas.util.testing is deprecated. Use the functions in the public API at pandas.testing instead.\n",
            "  import pandas.util.testing as tm\n"
          ]
        }
      ]
    },
    {
      "cell_type": "code",
      "source": [
        "#select only columns applicable to classifier\n",
        "use_col = ['Gender', 'Race', 'Ethnicity', 'Age_at_Crime',\n",
        "            'Age_at_Arrest', 'Court_ORI',\n",
        "            'Judge_Name', 'Arrest_Type', 'Offense_Date',\n",
        "            'Top_Charge_Severity_at_Arrest', 'Top_Charge_Weight_at_Arrest',\n",
        "            'Top_Charge_at_Arrest_Violent_Felony_Ind', 'Arraign Charge Category',\n",
        "            'Representation_Type', 'prior_vfo_cnt', \n",
        "            'prior_nonvfo_cnt', 'prior_misd_cnt',\n",
        "            'supervision', 'NMR_at_Arraign', 'Pretrial_Supervision_at_Arraign',\n",
        "            'Contact_Pretrial_Service_Agency',\n",
        "            'Electronic_Monitoring', 'Travel_Restrictions',\n",
        "            'Passport_Surrender','No_Firearms_or_Weapons',\n",
        "            'Maintain_Employment', 'Maintain_Housing',\n",
        "            'Maintain_School', 'Placement_in_Mandatory_Program',\n",
        "            'Removal_to_Hospital', 'Obey_Order_of_Protection',\n",
        "            'Obey_Court_Conditions-Family_Offense', 'Other_NMR']\n",
        "#This is for when we want to make x, y sets\n",
        "pred_cols = ['NMR_at_Arraign', 'Pretrial_Supervision_at_Arraign',\n",
        "             'Contact_Pretrial_Service_Agency',\n",
        "             'Electronic_Monitoring', 'Travel_Restrictions',\n",
        "             'Passport_Surrender','No_Firearms_or_Weapons',\n",
        "             'Maintain_Employment', 'Maintain_Housing',\n",
        "             'Maintain_School', 'Placement_in_Mandatory_Program',\n",
        "             'Removal_to_Hospital', 'Obey_Order_of_Protection',\n",
        "             'Obey_Court_Conditions-Family_Offense', 'Other_NMR']\n",
        "#Load Data\n",
        "df = pd.read_pickle(\"clean_df.pkl\")\n",
        "df = df.filter(use_col)\n",
        "\n",
        "#Filter rows so we are only looking at 2018 to present years\n",
        "df = df[pd.DatetimeIndex(df['Offense_Date']).year >= 2018 ].reset_index(drop = True)\n",
        "\n",
        "#create df where no nan in NMF column\n",
        "df = df[df['NMR_at_Arraign'].notna()]"
      ],
      "metadata": {
        "id": "9aj-XyZkkPzk"
      },
      "execution_count": 2,
      "outputs": []
    },
    {
      "cell_type": "code",
      "source": [
        "#Tidy the data so that it is complete\n",
        "\n",
        "#Change nan to 'Unkown' in categorical data\n",
        "categories_list = ['Gender', 'Race', 'Ethnicity',\n",
        "                   'Judge_Name', 'Top_Charge_Severity_at_Arrest', 'Top_Charge_Weight_at_Arrest',\n",
        "                   'Top_Charge_at_Arrest_Violent_Felony_Ind', 'Arraign Charge Category',\n",
        "                   'Representation_Type' ]\n",
        "#In the categorical data change the nan values to 'Unknown'\n",
        "df[categories_list] = df[categories_list].fillna('Unknown')\n",
        "\n",
        "#Replace Age_at_Crime and Age_at_Arrest with median\n",
        "crime_age_median = df['Age_at_Crime'].median()\n",
        "arrest_age_median = df['Age_at_Arrest'].median()\n",
        "df['Age_at_Crime'].fillna(crime_age_median, inplace = True)\n",
        "df['Age_at_Arrest'].fillna(arrest_age_median, inplace = True)\n",
        "\n",
        "#Replace nan with a random value with correct weighted probability (to match the population)\n",
        "vfo_choices = [0.0, 1.0, 2.0]\n",
        "df['prior_vfo_cnt'] = df['prior_vfo_cnt'].apply(lambda l: l if not np.isnan(l) else float(np.random.choice(vfo_choices, p=[0.84, 0.13, 0.03])))\n",
        "nonvfo_choices = [0.0, 1.0, 2.0, 3.0, 4.0]\n",
        "df['prior_nonvfo_cnt'] = df['prior_nonvfo_cnt'].apply(lambda l: l if not np.isnan(l) else float(np.random.choice(nonvfo_choices, 1, p=[0.74, 0.14, 0.06, 0.03, 0.03])))\n",
        "misd_choices = [0.0, 1.0, 2.0, 3.0, 4.0, 5.0, 6.0, 7.0, 8.0, 9.0, 1.0]\n",
        "df['prior_misd_cnt'] = df['prior_misd_cnt'].apply(lambda l: l if not np.isnan(l) else float(np.random.choice(misd_choices, 1, p=[0.54, 0.13, 0.08, 0.07, 0.05, 0.04, 0.03, 0.02, 0.02, 0.01, 0.01])))\n",
        "supervision_choices = [0.0, 1.0]\n",
        "df['supervision'] = df['supervision'].apply(lambda l: l if not np.isnan(l) else float(np.random.choice(supervision_choices, 1, p=[0.91, 0.09])))\n",
        "\n",
        "#For NMR_at_Arraign and below change N to 0.0 and Y to 1.0\n",
        "binary_list = ['Top_Charge_at_Arrest_Violent_Felony_Ind','NMR_at_Arraign', 'Pretrial_Supervision_at_Arraign', 'Contact_Pretrial_Service_Agency',\n",
        "               'Electronic_Monitoring', 'Travel_Restrictions', 'Passport_Surrender', 'No_Firearms_or_Weapons',\n",
        "               'Maintain_Employment', 'Maintain_Housing', 'Maintain_School', 'Placement_in_Mandatory_Program',\n",
        "               'Removal_to_Hospital', 'Obey_Order_of_Protection', 'Obey_Court_Conditions-Family_Offense', 'Other_NMR']\n",
        "\n",
        "for i in binary_list:\n",
        "  df[i] = df[i].map({'Y': 1.0 ,'N': 0.0})\n",
        "\n",
        "#Make the age into age groups for both age at crime and age at arrest\n",
        "df.loc[df['Age_at_Crime'] <= 17, 'age_group_crime'] = 0\n",
        "df.loc[df['Age_at_Crime'].between(17,24, inclusive = True), 'age_group_crime'] = 1\n",
        "df.loc[df['Age_at_Crime'].between(25,34, inclusive = True), 'age_group_crime'] = 2\n",
        "df.loc[df['Age_at_Crime'].between(35,44, inclusive = True), 'age_group_crime'] = 3\n",
        "df.loc[df['Age_at_Crime'].between(45,54, inclusive = True), 'age_group_crime'] = 4\n",
        "df.loc[df['Age_at_Crime'].between(55,64, inclusive = True), 'age_group_crime'] = 5\n",
        "df.loc[df['Age_at_Crime'] >= 65, 'age_group_crime'] = 6\n",
        "\n",
        "df.loc[df['Age_at_Arrest'] <= 17, 'age_group_arrest'] = 0\n",
        "df.loc[df['Age_at_Arrest'].between(17,24, inclusive = True), 'age_group_arrest'] = 1\n",
        "df.loc[df['Age_at_Arrest'].between(25,34, inclusive = True), 'age_group_arrest'] = 2\n",
        "df.loc[df['Age_at_Arrest'].between(35,44, inclusive = True), 'age_group_arrest'] = 3\n",
        "df.loc[df['Age_at_Arrest'].between(45,54, inclusive = True), 'age_group_arrest'] = 4\n",
        "df.loc[df['Age_at_Arrest'].between(55,64, inclusive = True), 'age_group_arrest'] = 5\n",
        "df.loc[df['Age_at_Arrest'] >= 65, 'age_group_arrest'] = 6\n",
        "\n",
        "df['Court_ORI'].unique()\n",
        "##Remove Letters from Court ORI because they are consistent in each\n",
        "df['Court_ORI'] = df[\"Court_ORI\"].str.replace(\"[NYJ]\",\"\")\n",
        "#Convert Court ORI from string to int\n",
        "df['Court_ORI'] = [int(i) for i in df['Court_ORI']]\n",
        "\n",
        "#Make arrest type binary 'DAT' = 1, 'Custody' = 0\n",
        "df['Arrest_Type'] = df['Arrest_Type'].map({'DAT': 1.0 ,'Custody': 0.0})\n",
        "\n",
        "#For Top Charge Severity at Arrest Change them into integers based on severity\n",
        "#0- Unknown, 1-Violation, 2-Infraction, 3-Misdemeanor, 4-Felony\n",
        "df['Top_Charge_Severity_at_Arrest'] = df[\"Top_Charge_Severity_at_Arrest\"].replace(\"Unknown\",\"0.0\")\n",
        "df['Top_Charge_Severity_at_Arrest'] = df[\"Top_Charge_Severity_at_Arrest\"].replace(\"Violation\",\"1.0\")\n",
        "df['Top_Charge_Severity_at_Arrest'] = df[\"Top_Charge_Severity_at_Arrest\"].replace(\"Infraction\",\"2.0\")\n",
        "df['Top_Charge_Severity_at_Arrest'] = df[\"Top_Charge_Severity_at_Arrest\"].replace(\"Misdemeanor\",\"3.0\")\n",
        "df['Top_Charge_Severity_at_Arrest'] = df[\"Top_Charge_Severity_at_Arrest\"].replace(\"Felony\",\"4.0\")\n",
        "\n",
        "#For Top Charge Weight at Arrest give integers weights based on severity\n",
        "#0-Unknown, 1-V, 2-I, 3-UM, 4-BM, 5-AM, 6-EF, 7-DF, 8-CF, 9-BF, 10-AF\n",
        "df['Top_Charge_Weight_at_Arrest'] = df[\"Top_Charge_Weight_at_Arrest\"].replace(\"Unknown\", 0.0)\n",
        "df['Top_Charge_Weight_at_Arrest'] = df[\"Top_Charge_Weight_at_Arrest\"].replace(\"V\", 1.0)\n",
        "df['Top_Charge_Weight_at_Arrest'] = df[\"Top_Charge_Weight_at_Arrest\"].replace(\"I\", 2.0)\n",
        "df['Top_Charge_Weight_at_Arrest'] = df[\"Top_Charge_Weight_at_Arrest\"].replace(\"UM\", 3.0)\n",
        "df['Top_Charge_Weight_at_Arrest'] = df[\"Top_Charge_Weight_at_Arrest\"].replace(\"BM\", 4.0)\n",
        "df['Top_Charge_Weight_at_Arrest'] = df[\"Top_Charge_Weight_at_Arrest\"].replace(\"AM\", 5.0)\n",
        "df['Top_Charge_Weight_at_Arrest'] = df[\"Top_Charge_Weight_at_Arrest\"].replace(\"EF\", 6.0)\n",
        "df['Top_Charge_Weight_at_Arrest'] = df[\"Top_Charge_Weight_at_Arrest\"].replace(\"DF\", 7.0)\n",
        "df['Top_Charge_Weight_at_Arrest'] = df[\"Top_Charge_Weight_at_Arrest\"].replace(\"CF\", 8.0)\n",
        "df['Top_Charge_Weight_at_Arrest'] = df[\"Top_Charge_Weight_at_Arrest\"].replace(\"BF\", 9.0)\n",
        "df['Top_Charge_Weight_at_Arrest'] = df[\"Top_Charge_Weight_at_Arrest\"].replace(\"AF\", 10.0)"
      ],
      "metadata": {
        "colab": {
          "base_uri": "https://localhost:8080/"
        },
        "id": "CJzdz7_8lAew",
        "outputId": "ae1f9e29-e88d-4264-a8b7-17ee855ddd13"
      },
      "execution_count": 3,
      "outputs": [
        {
          "output_type": "stream",
          "name": "stderr",
          "text": [
            "/usr/local/lib/python3.7/dist-packages/ipykernel_launcher.py:38: FutureWarning: Boolean inputs to the `inclusive` argument are deprecated infavour of `both` or `neither`.\n",
            "/usr/local/lib/python3.7/dist-packages/ipykernel_launcher.py:39: FutureWarning: Boolean inputs to the `inclusive` argument are deprecated infavour of `both` or `neither`.\n",
            "/usr/local/lib/python3.7/dist-packages/ipykernel_launcher.py:40: FutureWarning: Boolean inputs to the `inclusive` argument are deprecated infavour of `both` or `neither`.\n",
            "/usr/local/lib/python3.7/dist-packages/ipykernel_launcher.py:41: FutureWarning: Boolean inputs to the `inclusive` argument are deprecated infavour of `both` or `neither`.\n",
            "/usr/local/lib/python3.7/dist-packages/ipykernel_launcher.py:42: FutureWarning: Boolean inputs to the `inclusive` argument are deprecated infavour of `both` or `neither`.\n",
            "/usr/local/lib/python3.7/dist-packages/ipykernel_launcher.py:46: FutureWarning: Boolean inputs to the `inclusive` argument are deprecated infavour of `both` or `neither`.\n",
            "/usr/local/lib/python3.7/dist-packages/ipykernel_launcher.py:47: FutureWarning: Boolean inputs to the `inclusive` argument are deprecated infavour of `both` or `neither`.\n",
            "/usr/local/lib/python3.7/dist-packages/ipykernel_launcher.py:48: FutureWarning: Boolean inputs to the `inclusive` argument are deprecated infavour of `both` or `neither`.\n",
            "/usr/local/lib/python3.7/dist-packages/ipykernel_launcher.py:49: FutureWarning: Boolean inputs to the `inclusive` argument are deprecated infavour of `both` or `neither`.\n",
            "/usr/local/lib/python3.7/dist-packages/ipykernel_launcher.py:50: FutureWarning: Boolean inputs to the `inclusive` argument are deprecated infavour of `both` or `neither`.\n",
            "/usr/local/lib/python3.7/dist-packages/ipykernel_launcher.py:55: FutureWarning: The default value of regex will change from True to False in a future version.\n"
          ]
        }
      ]
    },
    {
      "cell_type": "code",
      "source": [
        "pred_col = []\n",
        "pred_1_count = []\n",
        "for x in pred_cols:\n",
        "  print(x)\n",
        "  y = df[x].value_counts()[1]\n",
        "  print(df[x].value_counts()[1])\n",
        "  pred_col.append(x)\n",
        "  pred_1_count.append(y)\n",
        "\n",
        "del pred_col[0]\n",
        "del pred_1_count[0]"
      ],
      "metadata": {
        "colab": {
          "base_uri": "https://localhost:8080/"
        },
        "id": "AxTJU00F80ki",
        "outputId": "f7ce839c-bd1b-47cf-92cb-6746f867df47"
      },
      "execution_count": 13,
      "outputs": [
        {
          "output_type": "stream",
          "name": "stdout",
          "text": [
            "NMR_at_Arraign\n",
            "26546\n",
            "Pretrial_Supervision_at_Arraign\n",
            "11628\n",
            "Contact_Pretrial_Service_Agency\n",
            "13678\n",
            "Electronic_Monitoring\n",
            "1447\n",
            "Travel_Restrictions\n",
            "335\n",
            "Passport_Surrender\n",
            "32\n",
            "No_Firearms_or_Weapons\n",
            "1685\n",
            "Maintain_Employment\n",
            "21\n",
            "Maintain_Housing\n",
            "7\n",
            "Maintain_School\n",
            "3\n",
            "Placement_in_Mandatory_Program\n",
            "17\n",
            "Removal_to_Hospital\n",
            "7\n",
            "Obey_Order_of_Protection\n",
            "204\n",
            "Obey_Court_Conditions-Family_Offense\n",
            "15\n",
            "Other_NMR\n",
            "4174\n"
          ]
        }
      ]
    },
    {
      "cell_type": "code",
      "source": [
        "fig = plt.figure()\n",
        "fig.set_figheight(20)\n",
        "plt.pie(pred_1_count, autopct=\"%1.1f%%\")\n",
        "plt.title(\"Non-Monetary Restrictions\")\n",
        "\n",
        "plt.figsize=(10, 10)\n",
        "\n",
        "plt.legend(pred_col,\n",
        "          title=\"Non-Monetary Restrictions\",\n",
        "          loc=\"center left\",\n",
        "          bbox_to_anchor=(1, 0, 0.5, 1))\n",
        "plt.show()"
      ],
      "metadata": {
        "colab": {
          "base_uri": "https://localhost:8080/",
          "height": 382
        },
        "id": "R1jqDoaV92oe",
        "outputId": "176f2cfc-59b6-4e66-d89d-a65f856ef53b"
      },
      "execution_count": 23,
      "outputs": [
        {
          "output_type": "display_data",
          "data": {
            "text/plain": [
              "<Figure size 432x1440 with 1 Axes>"
            ],
            "image/png": "[encoded data removed]"
          },
          "metadata": {}
        }
      ]
    },
    {
      "cell_type": "code",
      "source": [
        "#Separate to features and labels\n",
        "df_clean = df.drop(['Age_at_Crime', 'Age_at_Arrest', 'Offense_Date'], axis = 1)\n",
        "features = df_clean.drop(pred_cols, axis = 1)\n",
        "labels = df['NMR_at_Arraign'].copy()"
      ],
      "metadata": {
        "id": "crW0XJbmlHEP"
      },
      "execution_count": null,
      "outputs": []
    },
    {
      "cell_type": "code",
      "source": [
        "#Transform Categorical data Numerical \n",
        "\n",
        "#For columns with 10 categories or less, OneHotEncode\n",
        "ohe_categories = ['Gender', 'Race', 'Ethnicity']\n",
        "\n",
        "features = pd.get_dummies(features, columns = ohe_categories)"
      ],
      "metadata": {
        "id": "trNL6n9Llaf0"
      },
      "execution_count": null,
      "outputs": []
    },
    {
      "cell_type": "code",
      "source": [
        "#For columns with too many categories apply leave one out encoder\n",
        "enc = LeaveOneOutEncoder(cols=['Judge_Name', 'Representation_Type', 'Arraign Charge Category'])\n",
        "features =  enc.fit_transform(features, labels)\n",
        "features.head()"
      ],
      "metadata": {
        "colab": {
          "base_uri": "https://localhost:8080/",
          "height": 305
        },
        "id": "VnA17PwIldv0",
        "outputId": "44ba1d9a-0338-4cfc-a021-15503baa7ebb"
      },
      "execution_count": null,
      "outputs": [
        {
          "output_type": "execute_result",
          "data": {
            "text/plain": [
              "   Court_ORI  Judge_Name  Arrest_Type Top_Charge_Severity_at_Arrest  \\\n",
              "0      30033    0.150000          1.0                           3.0   \n",
              "1      30033    0.141361          0.0                           3.0   \n",
              "2      29013    0.025061          1.0                           3.0   \n",
              "3      14011    0.007955          1.0                           3.0   \n",
              "4      14011    0.001621          1.0                           3.0   \n",
              "\n",
              "   Top_Charge_Weight_at_Arrest  Top_Charge_at_Arrest_Violent_Felony_Ind  \\\n",
              "0                          5.0                                      0.0   \n",
              "1                          5.0                                      0.0   \n",
              "2                          5.0                                      0.0   \n",
              "3                          5.0                                      0.0   \n",
              "4                          3.0                                      0.0   \n",
              "\n",
              "   Arraign Charge Category  Representation_Type  prior_vfo_cnt  \\\n",
              "0                 0.092990             0.089994            0.0   \n",
              "1                 0.111830             0.111493            0.0   \n",
              "2                 0.117247             0.035369            0.0   \n",
              "3                 0.117247             0.089994            0.0   \n",
              "4                 0.019769             0.089994            0.0   \n",
              "\n",
              "   prior_nonvfo_cnt  prior_misd_cnt  supervision  age_group_crime  \\\n",
              "0               0.0             0.0          0.0              3.0   \n",
              "1               1.0            10.0          0.0              3.0   \n",
              "2               0.0             0.0          0.0              1.0   \n",
              "3               0.0             0.0          0.0              1.0   \n",
              "4               1.0             0.0          0.0              3.0   \n",
              "\n",
              "   age_group_arrest  Gender_Female  Gender_Male  Gender_Unknown  \\\n",
              "0               3.0              0            1               0   \n",
              "1               3.0              0            1               0   \n",
              "2               1.0              0            1               0   \n",
              "3               1.0              0            1               0   \n",
              "4               3.0              0            1               0   \n",
              "\n",
              "   Race_American Indian/Alaskan Native  Race_Asian/Pacific Islander  \\\n",
              "0                                    0                            0   \n",
              "1                                    0                            0   \n",
              "2                                    0                            0   \n",
              "3                                    0                            0   \n",
              "4                                    0                            0   \n",
              "\n",
              "   Race_Black  Race_Other  Race_Unknown  Race_White  Ethnicity_Hispanic  \\\n",
              "0           1           0             0           0                   0   \n",
              "1           0           0             0           1                   0   \n",
              "2           0           0             0           1                   0   \n",
              "3           0           0             0           1                   0   \n",
              "4           0           0             1           0                   0   \n",
              "\n",
              "   Ethnicity_Non Hispanic  Ethnicity_Unknown  \n",
              "0                       1                  0  \n",
              "1                       1                  0  \n",
              "2                       1                  0  \n",
              "3                       1                  0  \n",
              "4                       0                  1  "
            ],
            "text/html": [
              "\n",
              "  <div id=\"df-26e1407e-e57f-491b-a456-5561db80dbec\">\n",
              "    <div class=\"colab-df-container\">\n",
              "      <div>\n",
              "<style scoped>\n",
              "    .dataframe tbody tr th:only-of-type {\n",
              "        vertical-align: middle;\n",
              "    }\n",
              "\n",
              "    .dataframe tbody tr th {\n",
              "        vertical-align: top;\n",
              "    }\n",
              "\n",
              "    .dataframe thead th {\n",
              "        text-align: right;\n",
              "    }\n",
              "</style>\n",
              "<table border=\"1\" class=\"dataframe\">\n",
              "  <thead>\n",
              "    <tr style=\"text-align: right;\">\n",
              "      <th></th>\n",
              "      <th>Court_ORI</th>\n",
              "      <th>Judge_Name</th>\n",
              "      <th>Arrest_Type</th>\n",
              "      <th>Top_Charge_Severity_at_Arrest</th>\n",
              "      <th>Top_Charge_Weight_at_Arrest</th>\n",
              "      <th>Top_Charge_at_Arrest_Violent_Felony_Ind</th>\n",
              "      <th>Arraign Charge Category</th>\n",
              "      <th>Representation_Type</th>\n",
              "      <th>prior_vfo_cnt</th>\n",
              "      <th>prior_nonvfo_cnt</th>\n",
              "      <th>prior_misd_cnt</th>\n",
              "      <th>supervision</th>\n",
              "      <th>age_group_crime</th>\n",
              "      <th>age_group_arrest</th>\n",
              "      <th>Gender_Female</th>\n",
              "      <th>Gender_Male</th>\n",
              "      <th>Gender_Unknown</th>\n",
              "      <th>Race_American Indian/Alaskan Native</th>\n",
              "      <th>Race_Asian/Pacific Islander</th>\n",
              "      <th>Race_Black</th>\n",
              "      <th>Race_Other</th>\n",
              "      <th>Race_Unknown</th>\n",
              "      <th>Race_White</th>\n",
              "      <th>Ethnicity_Hispanic</th>\n",
              "      <th>Ethnicity_Non Hispanic</th>\n",
              "      <th>Ethnicity_Unknown</th>\n",
              "    </tr>\n",
              "  </thead>\n",
              "  <tbody>\n",
              "    <tr>\n",
              "      <th>0</th>\n",
              "      <td>30033</td>\n",
              "      <td>0.150000</td>\n",
              "      <td>1.0</td>\n",
              "      <td>3.0</td>\n",
              "      <td>5.0</td>\n",
              "      <td>0.0</td>\n",
              "      <td>0.092990</td>\n",
              "      <td>0.089994</td>\n",
              "      <td>0.0</td>\n",
              "      <td>0.0</td>\n",
              "      <td>0.0</td>\n",
              "      <td>0.0</td>\n",
              "      <td>3.0</td>\n",
              "      <td>3.0</td>\n",
              "      <td>0</td>\n",
              "      <td>1</td>\n",
              "      <td>0</td>\n",
              "      <td>0</td>\n",
              "      <td>0</td>\n",
              "      <td>1</td>\n",
              "      <td>0</td>\n",
              "      <td>0</td>\n",
              "      <td>0</td>\n",
              "      <td>0</td>\n",
              "      <td>1</td>\n",
              "      <td>0</td>\n",
              "    </tr>\n",
              "    <tr>\n",
              "      <th>1</th>\n",
              "      <td>30033</td>\n",
              "      <td>0.141361</td>\n",
              "      <td>0.0</td>\n",
              "      <td>3.0</td>\n",
              "      <td>5.0</td>\n",
              "      <td>0.0</td>\n",
              "      <td>0.111830</td>\n",
              "      <td>0.111493</td>\n",
              "      <td>0.0</td>\n",
              "      <td>1.0</td>\n",
              "      <td>10.0</td>\n",
              "      <td>0.0</td>\n",
              "      <td>3.0</td>\n",
              "      <td>3.0</td>\n",
              "      <td>0</td>\n",
              "      <td>1</td>\n",
              "      <td>0</td>\n",
              "      <td>0</td>\n",
              "      <td>0</td>\n",
              "      <td>0</td>\n",
              "      <td>0</td>\n",
              "      <td>0</td>\n",
              "      <td>1</td>\n",
              "      <td>0</td>\n",
              "      <td>1</td>\n",
              "      <td>0</td>\n",
              "    </tr>\n",
              "    <tr>\n",
              "      <th>2</th>\n",
              "      <td>29013</td>\n",
              "      <td>0.025061</td>\n",
              "      <td>1.0</td>\n",
              "      <td>3.0</td>\n",
              "      <td>5.0</td>\n",
              "      <td>0.0</td>\n",
              "      <td>0.117247</td>\n",
              "      <td>0.035369</td>\n",
              "      <td>0.0</td>\n",
              "      <td>0.0</td>\n",
              "      <td>0.0</td>\n",
              "      <td>0.0</td>\n",
              "      <td>1.0</td>\n",
              "      <td>1.0</td>\n",
              "      <td>0</td>\n",
              "      <td>1</td>\n",
              "      <td>0</td>\n",
              "      <td>0</td>\n",
              "      <td>0</td>\n",
              "      <td>0</td>\n",
              "      <td>0</td>\n",
              "      <td>0</td>\n",
              "      <td>1</td>\n",
              "      <td>0</td>\n",
              "      <td>1</td>\n",
              "      <td>0</td>\n",
              "    </tr>\n",
              "    <tr>\n",
              "      <th>3</th>\n",
              "      <td>14011</td>\n",
              "      <td>0.007955</td>\n",
              "      <td>1.0</td>\n",
              "      <td>3.0</td>\n",
              "      <td>5.0</td>\n",
              "      <td>0.0</td>\n",
              "      <td>0.117247</td>\n",
              "      <td>0.089994</td>\n",
              "      <td>0.0</td>\n",
              "      <td>0.0</td>\n",
              "      <td>0.0</td>\n",
              "      <td>0.0</td>\n",
              "      <td>1.0</td>\n",
              "      <td>1.0</td>\n",
              "      <td>0</td>\n",
              "      <td>1</td>\n",
              "      <td>0</td>\n",
              "      <td>0</td>\n",
              "      <td>0</td>\n",
              "      <td>0</td>\n",
              "      <td>0</td>\n",
              "      <td>0</td>\n",
              "      <td>1</td>\n",
              "      <td>0</td>\n",
              "      <td>1</td>\n",
              "      <td>0</td>\n",
              "    </tr>\n",
              "    <tr>\n",
              "      <th>4</th>\n",
              "      <td>14011</td>\n",
              "      <td>0.001621</td>\n",
              "      <td>1.0</td>\n",
              "      <td>3.0</td>\n",
              "      <td>3.0</td>\n",
              "      <td>0.0</td>\n",
              "      <td>0.019769</td>\n",
              "      <td>0.089994</td>\n",
              "      <td>0.0</td>\n",
              "      <td>1.0</td>\n",
              "      <td>0.0</td>\n",
              "      <td>0.0</td>\n",
              "      <td>3.0</td>\n",
              "      <td>3.0</td>\n",
              "      <td>0</td>\n",
              "      <td>1</td>\n",
              "      <td>0</td>\n",
              "      <td>0</td>\n",
              "      <td>0</td>\n",
              "      <td>0</td>\n",
              "      <td>0</td>\n",
              "      <td>1</td>\n",
              "      <td>0</td>\n",
              "      <td>0</td>\n",
              "      <td>0</td>\n",
              "      <td>1</td>\n",
              "    </tr>\n",
              "  </tbody>\n",
              "</table>\n",
              "</div>\n",
              "      <button class=\"colab-df-convert\" onclick=\"convertToInteractive('df-26e1407e-e57f-491b-a456-5561db80dbec')\"\n",
              "              title=\"Convert this dataframe to an interactive table.\"\n",
              "              style=\"display:none;\">\n",
              "        \n",
              "  <svg xmlns=\"http://www.w3.org/2000/svg\" height=\"24px\"viewBox=\"0 0 24 24\"\n",
              "       width=\"24px\">\n",
              "    <path d=\"M0 0h24v24H0V0z\" fill=\"none\"/>\n",
              "    <path d=\"M18.56 5.44l.94 2.06.94-2.06 2.06-.94-2.06-.94-.94-2.06-.94 2.06-2.06.94zm-11 1L8.5 8.5l.94-2.06 2.06-.94-2.06-.94L8.5 2.5l-.94 2.06-2.06.94zm10 10l.94 2.06.94-2.06 2.06-.94-2.06-.94-.94-2.06-.94 2.06-2.06.94z\"/><path d=\"M17.41 7.96l-1.37-1.37c-.4-.4-.92-.59-1.43-.59-.52 0-1.04.2-1.43.59L10.3 9.45l-7.72 7.72c-.78.78-.78 2.05 0 2.83L4 21.41c.39.39.9.59 1.41.59.51 0 1.02-.2 1.41-.59l7.78-7.78 2.81-2.81c.8-.78.8-2.07 0-2.86zM5.41 20L4 18.59l7.72-7.72 1.47 1.35L5.41 20z\"/>\n",
              "  </svg>\n",
              "      </button>\n",
              "      \n",
              "  <style>\n",
              "    .colab-df-container {\n",
              "      display:flex;\n",
              "      flex-wrap:wrap;\n",
              "      gap: 12px;\n",
              "    }\n",
              "\n",
              "    .colab-df-convert {\n",
              "      background-color: #E8F0FE;\n",
              "      border: none;\n",
              "      border-radius: 50%;\n",
              "      cursor: pointer;\n",
              "      display: none;\n",
              "      fill: #1967D2;\n",
              "      height: 32px;\n",
              "      padding: 0 0 0 0;\n",
              "      width: 32px;\n",
              "    }\n",
              "\n",
              "    .colab-df-convert:hover {\n",
              "      background-color: #E2EBFA;\n",
              "      box-shadow: 0px 1px 2px rgba(60, 64, 67, 0.3), 0px 1px 3px 1px rgba(60, 64, 67, 0.15);\n",
              "      fill: #174EA6;\n",
              "    }\n",
              "\n",
              "    [theme=dark] .colab-df-convert {\n",
              "      background-color: #3B4455;\n",
              "      fill: #D2E3FC;\n",
              "    }\n",
              "\n",
              "    [theme=dark] .colab-df-convert:hover {\n",
              "      background-color: #434B5C;\n",
              "      box-shadow: 0px 1px 3px 1px rgba(0, 0, 0, 0.15);\n",
              "      filter: drop-shadow(0px 1px 2px rgba(0, 0, 0, 0.3));\n",
              "      fill: #FFFFFF;\n",
              "    }\n",
              "  </style>\n",
              "\n",
              "      <script>\n",
              "        const buttonEl =\n",
              "          document.querySelector('#df-26e1407e-e57f-491b-a456-5561db80dbec button.colab-df-convert');\n",
              "        buttonEl.style.display =\n",
              "          google.colab.kernel.accessAllowed ? 'block' : 'none';\n",
              "\n",
              "        async function convertToInteractive(key) {\n",
              "          const element = document.querySelector('#df-26e1407e-e57f-491b-a456-5561db80dbec');\n",
              "          const dataTable =\n",
              "            await google.colab.kernel.invokeFunction('convertToInteractive',\n",
              "                                                     [key], {});\n",
              "          if (!dataTable) return;\n",
              "\n",
              "          const docLinkHtml = 'Like what you see? Visit the ' +\n",
              "            '<a target=\"_blank\" href=https://colab.research.google.com/notebooks/data_table.ipynb>data table notebook</a>'\n",
              "            + ' to learn more about interactive tables.';\n",
              "          element.innerHTML = '';\n",
              "          dataTable['output_type'] = 'display_data';\n",
              "          await google.colab.output.renderOutput(dataTable, element);\n",
              "          const docLink = document.createElement('div');\n",
              "          docLink.innerHTML = docLinkHtml;\n",
              "          element.appendChild(docLink);\n",
              "        }\n",
              "      </script>\n",
              "    </div>\n",
              "  </div>\n",
              "  "
            ]
          },
          "metadata": {},
          "execution_count": 6
        }
      ]
    },
    {
      "cell_type": "code",
      "source": [
        "#Feature Scaling\n",
        "\n",
        "scaler = StandardScaler()\n",
        "\n",
        "features_scaled = scaler.fit_transform(features)\n",
        "features_scaled\n",
        "\n",
        "feature = pd.DataFrame(features_scaled)\n",
        "feature.shape"
      ],
      "metadata": {
        "colab": {
          "base_uri": "https://localhost:8080/"
        },
        "id": "Mwm7F3fTlgTz",
        "outputId": "53716c19-2bcf-4965-f716-4a37780b05e5"
      },
      "execution_count": null,
      "outputs": [
        {
          "output_type": "execute_result",
          "data": {
            "text/plain": [
              "(278454, 26)"
            ]
          },
          "metadata": {},
          "execution_count": 7
        }
      ]
    },
    {
      "cell_type": "code",
      "source": [
        "##Selec dataframe with only rows were NMR exists\n",
        "#Create dataframe of only NMR\n",
        "NMR_index = labels.loc[df_clean['NMR_at_Arraign'] == 1].index\n",
        "NMR_index = NMR_index.to_list()\n",
        "print(len(NMR_index))\n",
        "#Features for all rows that have NMR_at_Arraign as 1\n",
        "NMR_features = feature[feature.index.isin(NMR_index)].reset_index(drop = True)\n",
        "print(NMR_features.shape)\n",
        "#Prepare_labels\n",
        "NMR_labels = df_clean[pred_cols].copy()\n",
        "NMR_labels = NMR_labels.rename(columns={'Obey_Court_Conditions-Family_Offense': 'Family_Offense'})\n",
        "NMR_labels = NMR_labels[NMR_labels.index.isin(NMR_index)].reset_index(drop = True)\n",
        "NMR_labels_df = NMR_labels.drop(['NMR_at_Arraign'], axis = 1)\n",
        "print(NMR_labels.shape)\n",
        "NMR_labels.head()"
      ],
      "metadata": {
        "colab": {
          "base_uri": "https://localhost:8080/",
          "height": 323
        },
        "id": "lcYc4Wxxlj3q",
        "outputId": "770f8744-7ccb-4cac-c021-82cc355b6b32"
      },
      "execution_count": null,
      "outputs": [
        {
          "output_type": "stream",
          "name": "stdout",
          "text": [
            "26546\n",
            "(26546, 26)\n",
            "(26546, 15)\n"
          ]
        },
        {
          "output_type": "execute_result",
          "data": {
            "text/plain": [
              "   NMR_at_Arraign  Pretrial_Supervision_at_Arraign  \\\n",
              "0             1.0                              1.0   \n",
              "1             1.0                              1.0   \n",
              "2             1.0                              0.0   \n",
              "3             1.0                              0.0   \n",
              "4             1.0                              1.0   \n",
              "\n",
              "   Contact_Pretrial_Service_Agency  Electronic_Monitoring  \\\n",
              "0                              0.0                    0.0   \n",
              "1                              0.0                    0.0   \n",
              "2                              0.0                    0.0   \n",
              "3                              1.0                    0.0   \n",
              "4                              0.0                    0.0   \n",
              "\n",
              "   Travel_Restrictions  Passport_Surrender  No_Firearms_or_Weapons  \\\n",
              "0                  0.0                 0.0                     0.0   \n",
              "1                  0.0                 0.0                     0.0   \n",
              "2                  0.0                 0.0                     0.0   \n",
              "3                  0.0                 0.0                     0.0   \n",
              "4                  0.0                 0.0                     0.0   \n",
              "\n",
              "   Maintain_Employment  Maintain_Housing  Maintain_School  \\\n",
              "0                  0.0               0.0              0.0   \n",
              "1                  0.0               0.0              0.0   \n",
              "2                  0.0               0.0              0.0   \n",
              "3                  0.0               0.0              0.0   \n",
              "4                  0.0               0.0              0.0   \n",
              "\n",
              "   Placement_in_Mandatory_Program  Removal_to_Hospital  \\\n",
              "0                             0.0                  0.0   \n",
              "1                             0.0                  0.0   \n",
              "2                             0.0                  0.0   \n",
              "3                             0.0                  0.0   \n",
              "4                             0.0                  0.0   \n",
              "\n",
              "   Obey_Order_of_Protection  Family_Offense  Other_NMR  \n",
              "0                       0.0             0.0        0.0  \n",
              "1                       0.0             0.0        0.0  \n",
              "2                       0.0             0.0        1.0  \n",
              "3                       0.0             0.0        0.0  \n",
              "4                       0.0             0.0        0.0  "
            ],
            "text/html": [
              "\n",
              "  <div id=\"df-4b2b76fc-d149-4d62-aef8-97a2fac5832a\">\n",
              "    <div class=\"colab-df-container\">\n",
              "      <div>\n",
              "<style scoped>\n",
              "    .dataframe tbody tr th:only-of-type {\n",
              "        vertical-align: middle;\n",
              "    }\n",
              "\n",
              "    .dataframe tbody tr th {\n",
              "        vertical-align: top;\n",
              "    }\n",
              "\n",
              "    .dataframe thead th {\n",
              "        text-align: right;\n",
              "    }\n",
              "</style>\n",
              "<table border=\"1\" class=\"dataframe\">\n",
              "  <thead>\n",
              "    <tr style=\"text-align: right;\">\n",
              "      <th></th>\n",
              "      <th>NMR_at_Arraign</th>\n",
              "      <th>Pretrial_Supervision_at_Arraign</th>\n",
              "      <th>Contact_Pretrial_Service_Agency</th>\n",
              "      <th>Electronic_Monitoring</th>\n",
              "      <th>Travel_Restrictions</th>\n",
              "      <th>Passport_Surrender</th>\n",
              "      <th>No_Firearms_or_Weapons</th>\n",
              "      <th>Maintain_Employment</th>\n",
              "      <th>Maintain_Housing</th>\n",
              "      <th>Maintain_School</th>\n",
              "      <th>Placement_in_Mandatory_Program</th>\n",
              "      <th>Removal_to_Hospital</th>\n",
              "      <th>Obey_Order_of_Protection</th>\n",
              "      <th>Family_Offense</th>\n",
              "      <th>Other_NMR</th>\n",
              "    </tr>\n",
              "  </thead>\n",
              "  <tbody>\n",
              "    <tr>\n",
              "      <th>0</th>\n",
              "      <td>1.0</td>\n",
              "      <td>1.0</td>\n",
              "      <td>0.0</td>\n",
              "      <td>0.0</td>\n",
              "      <td>0.0</td>\n",
              "      <td>0.0</td>\n",
              "      <td>0.0</td>\n",
              "      <td>0.0</td>\n",
              "      <td>0.0</td>\n",
              "      <td>0.0</td>\n",
              "      <td>0.0</td>\n",
              "      <td>0.0</td>\n",
              "      <td>0.0</td>\n",
              "      <td>0.0</td>\n",
              "      <td>0.0</td>\n",
              "    </tr>\n",
              "    <tr>\n",
              "      <th>1</th>\n",
              "      <td>1.0</td>\n",
              "      <td>1.0</td>\n",
              "      <td>0.0</td>\n",
              "      <td>0.0</td>\n",
              "      <td>0.0</td>\n",
              "      <td>0.0</td>\n",
              "      <td>0.0</td>\n",
              "      <td>0.0</td>\n",
              "      <td>0.0</td>\n",
              "      <td>0.0</td>\n",
              "      <td>0.0</td>\n",
              "      <td>0.0</td>\n",
              "      <td>0.0</td>\n",
              "      <td>0.0</td>\n",
              "      <td>0.0</td>\n",
              "    </tr>\n",
              "    <tr>\n",
              "      <th>2</th>\n",
              "      <td>1.0</td>\n",
              "      <td>0.0</td>\n",
              "      <td>0.0</td>\n",
              "      <td>0.0</td>\n",
              "      <td>0.0</td>\n",
              "      <td>0.0</td>\n",
              "      <td>0.0</td>\n",
              "      <td>0.0</td>\n",
              "      <td>0.0</td>\n",
              "      <td>0.0</td>\n",
              "      <td>0.0</td>\n",
              "      <td>0.0</td>\n",
              "      <td>0.0</td>\n",
              "      <td>0.0</td>\n",
              "      <td>1.0</td>\n",
              "    </tr>\n",
              "    <tr>\n",
              "      <th>3</th>\n",
              "      <td>1.0</td>\n",
              "      <td>0.0</td>\n",
              "      <td>1.0</td>\n",
              "      <td>0.0</td>\n",
              "      <td>0.0</td>\n",
              "      <td>0.0</td>\n",
              "      <td>0.0</td>\n",
              "      <td>0.0</td>\n",
              "      <td>0.0</td>\n",
              "      <td>0.0</td>\n",
              "      <td>0.0</td>\n",
              "      <td>0.0</td>\n",
              "      <td>0.0</td>\n",
              "      <td>0.0</td>\n",
              "      <td>0.0</td>\n",
              "    </tr>\n",
              "    <tr>\n",
              "      <th>4</th>\n",
              "      <td>1.0</td>\n",
              "      <td>1.0</td>\n",
              "      <td>0.0</td>\n",
              "      <td>0.0</td>\n",
              "      <td>0.0</td>\n",
              "      <td>0.0</td>\n",
              "      <td>0.0</td>\n",
              "      <td>0.0</td>\n",
              "      <td>0.0</td>\n",
              "      <td>0.0</td>\n",
              "      <td>0.0</td>\n",
              "      <td>0.0</td>\n",
              "      <td>0.0</td>\n",
              "      <td>0.0</td>\n",
              "      <td>0.0</td>\n",
              "    </tr>\n",
              "  </tbody>\n",
              "</table>\n",
              "</div>\n",
              "      <button class=\"colab-df-convert\" onclick=\"convertToInteractive('df-4b2b76fc-d149-4d62-aef8-97a2fac5832a')\"\n",
              "              title=\"Convert this dataframe to an interactive table.\"\n",
              "              style=\"display:none;\">\n",
              "        \n",
              "  <svg xmlns=\"http://www.w3.org/2000/svg\" height=\"24px\"viewBox=\"0 0 24 24\"\n",
              "       width=\"24px\">\n",
              "    <path d=\"M0 0h24v24H0V0z\" fill=\"none\"/>\n",
              "    <path d=\"M18.56 5.44l.94 2.06.94-2.06 2.06-.94-2.06-.94-.94-2.06-.94 2.06-2.06.94zm-11 1L8.5 8.5l.94-2.06 2.06-.94-2.06-.94L8.5 2.5l-.94 2.06-2.06.94zm10 10l.94 2.06.94-2.06 2.06-.94-2.06-.94-.94-2.06-.94 2.06-2.06.94z\"/><path d=\"M17.41 7.96l-1.37-1.37c-.4-.4-.92-.59-1.43-.59-.52 0-1.04.2-1.43.59L10.3 9.45l-7.72 7.72c-.78.78-.78 2.05 0 2.83L4 21.41c.39.39.9.59 1.41.59.51 0 1.02-.2 1.41-.59l7.78-7.78 2.81-2.81c.8-.78.8-2.07 0-2.86zM5.41 20L4 18.59l7.72-7.72 1.47 1.35L5.41 20z\"/>\n",
              "  </svg>\n",
              "      </button>\n",
              "      \n",
              "  <style>\n",
              "    .colab-df-container {\n",
              "      display:flex;\n",
              "      flex-wrap:wrap;\n",
              "      gap: 12px;\n",
              "    }\n",
              "\n",
              "    .colab-df-convert {\n",
              "      background-color: #E8F0FE;\n",
              "      border: none;\n",
              "      border-radius: 50%;\n",
              "      cursor: pointer;\n",
              "      display: none;\n",
              "      fill: #1967D2;\n",
              "      height: 32px;\n",
              "      padding: 0 0 0 0;\n",
              "      width: 32px;\n",
              "    }\n",
              "\n",
              "    .colab-df-convert:hover {\n",
              "      background-color: #E2EBFA;\n",
              "      box-shadow: 0px 1px 2px rgba(60, 64, 67, 0.3), 0px 1px 3px 1px rgba(60, 64, 67, 0.15);\n",
              "      fill: #174EA6;\n",
              "    }\n",
              "\n",
              "    [theme=dark] .colab-df-convert {\n",
              "      background-color: #3B4455;\n",
              "      fill: #D2E3FC;\n",
              "    }\n",
              "\n",
              "    [theme=dark] .colab-df-convert:hover {\n",
              "      background-color: #434B5C;\n",
              "      box-shadow: 0px 1px 3px 1px rgba(0, 0, 0, 0.15);\n",
              "      filter: drop-shadow(0px 1px 2px rgba(0, 0, 0, 0.3));\n",
              "      fill: #FFFFFF;\n",
              "    }\n",
              "  </style>\n",
              "\n",
              "      <script>\n",
              "        const buttonEl =\n",
              "          document.querySelector('#df-4b2b76fc-d149-4d62-aef8-97a2fac5832a button.colab-df-convert');\n",
              "        buttonEl.style.display =\n",
              "          google.colab.kernel.accessAllowed ? 'block' : 'none';\n",
              "\n",
              "        async function convertToInteractive(key) {\n",
              "          const element = document.querySelector('#df-4b2b76fc-d149-4d62-aef8-97a2fac5832a');\n",
              "          const dataTable =\n",
              "            await google.colab.kernel.invokeFunction('convertToInteractive',\n",
              "                                                     [key], {});\n",
              "          if (!dataTable) return;\n",
              "\n",
              "          const docLinkHtml = 'Like what you see? Visit the ' +\n",
              "            '<a target=\"_blank\" href=https://colab.research.google.com/notebooks/data_table.ipynb>data table notebook</a>'\n",
              "            + ' to learn more about interactive tables.';\n",
              "          element.innerHTML = '';\n",
              "          dataTable['output_type'] = 'display_data';\n",
              "          await google.colab.output.renderOutput(dataTable, element);\n",
              "          const docLink = document.createElement('div');\n",
              "          docLink.innerHTML = docLinkHtml;\n",
              "          element.appendChild(docLink);\n",
              "        }\n",
              "      </script>\n",
              "    </div>\n",
              "  </div>\n",
              "  "
            ]
          },
          "metadata": {},
          "execution_count": 8
        }
      ]
    },
    {
      "cell_type": "code",
      "source": [
        "NMR_labels['Pretrial_Supervision_at_Arraign'].value_counts()\n",
        "NMR_labels.columns"
      ],
      "metadata": {
        "colab": {
          "base_uri": "https://localhost:8080/"
        },
        "id": "g4yaKk0pl3GD",
        "outputId": "8fdd19d9-d510-40b9-cfb9-1e3930a305f4"
      },
      "execution_count": null,
      "outputs": [
        {
          "output_type": "execute_result",
          "data": {
            "text/plain": [
              "Index(['NMR_at_Arraign', 'Pretrial_Supervision_at_Arraign',\n",
              "       'Contact_Pretrial_Service_Agency', 'Electronic_Monitoring',\n",
              "       'Travel_Restrictions', 'Passport_Surrender', 'No_Firearms_or_Weapons',\n",
              "       'Maintain_Employment', 'Maintain_Housing', 'Maintain_School',\n",
              "       'Placement_in_Mandatory_Program', 'Removal_to_Hospital',\n",
              "       'Obey_Order_of_Protection', 'Family_Offense', 'Other_NMR'],\n",
              "      dtype='object')"
            ]
          },
          "metadata": {},
          "execution_count": 9
        }
      ]
    },
    {
      "cell_type": "code",
      "source": [
        "#Look at the frequency of each category, try removing for improved accuracy\n",
        "for column in NMR_labels.columns:\n",
        "  #print(column)\n",
        "  print(NMR_labels[column].value_counts(normalize=True),' \\n')"
      ],
      "metadata": {
        "colab": {
          "base_uri": "https://localhost:8080/"
        },
        "id": "qWvJZvKVmGJQ",
        "outputId": "d5ab1140-0fcb-4e20-8eca-1a67819856c6"
      },
      "execution_count": null,
      "outputs": [
        {
          "output_type": "stream",
          "name": "stdout",
          "text": [
            "1.0    1.0\n",
            "Name: NMR_at_Arraign, dtype: float64  \n",
            "\n",
            "0.0    0.561968\n",
            "1.0    0.438032\n",
            "Name: Pretrial_Supervision_at_Arraign, dtype: float64  \n",
            "\n",
            "1.0    0.515257\n",
            "0.0    0.484743\n",
            "Name: Contact_Pretrial_Service_Agency, dtype: float64  \n",
            "\n",
            "0.0    0.945491\n",
            "1.0    0.054509\n",
            "Name: Electronic_Monitoring, dtype: float64  \n",
            "\n",
            "0.0    0.98738\n",
            "1.0    0.01262\n",
            "Name: Travel_Restrictions, dtype: float64  \n",
            "\n",
            "0.0    0.998795\n",
            "1.0    0.001205\n",
            "Name: Passport_Surrender, dtype: float64  \n",
            "\n",
            "0.0    0.936525\n",
            "1.0    0.063475\n",
            "Name: No_Firearms_or_Weapons, dtype: float64  \n",
            "\n",
            "0.0    0.999209\n",
            "1.0    0.000791\n",
            "Name: Maintain_Employment, dtype: float64  \n",
            "\n",
            "0.0    0.999736\n",
            "1.0    0.000264\n",
            "Name: Maintain_Housing, dtype: float64  \n",
            "\n",
            "0.0    0.999887\n",
            "1.0    0.000113\n",
            "Name: Maintain_School, dtype: float64  \n",
            "\n",
            "0.0    0.99936\n",
            "1.0    0.00064\n",
            "Name: Placement_in_Mandatory_Program, dtype: float64  \n",
            "\n",
            "0.0    0.999736\n",
            "1.0    0.000264\n",
            "Name: Removal_to_Hospital, dtype: float64  \n",
            "\n",
            "0.0    0.992315\n",
            "1.0    0.007685\n",
            "Name: Obey_Order_of_Protection, dtype: float64  \n",
            "\n",
            "0.0    0.999435\n",
            "1.0    0.000565\n",
            "Name: Family_Offense, dtype: float64  \n",
            "\n",
            "0.0    0.842764\n",
            "1.0    0.157236\n",
            "Name: Other_NMR, dtype: float64  \n",
            "\n"
          ]
        }
      ]
    },
    {
      "cell_type": "code",
      "source": [
        "#Remove columns with less than 1% \n",
        "remove_columns = ['Family_Offense', 'Obey_Order_of_Protection', 'Removal_to_Hospital', 'Placement_in_Mandatory_Program',\n",
        "                  'Maintain_School', 'Maintain_Housing', 'Maintain_Employment', 'Passport_Surrender']\n",
        "NMR_labels_df = NMR_labels_df.drop(NMR_labels_df[remove_columns], axis = 1)\n",
        "NMR_labels_df.head()"
      ],
      "metadata": {
        "colab": {
          "base_uri": "https://localhost:8080/",
          "height": 270
        },
        "id": "b2wXl_wKr7QX",
        "outputId": "5f01ac8d-2166-434e-efeb-29d66ad93fbd"
      },
      "execution_count": null,
      "outputs": [
        {
          "output_type": "execute_result",
          "data": {
            "text/plain": [
              "   Pretrial_Supervision_at_Arraign  Contact_Pretrial_Service_Agency  \\\n",
              "0                              1.0                              0.0   \n",
              "1                              1.0                              0.0   \n",
              "2                              0.0                              0.0   \n",
              "3                              0.0                              1.0   \n",
              "4                              1.0                              0.0   \n",
              "\n",
              "   Electronic_Monitoring  Travel_Restrictions  No_Firearms_or_Weapons  \\\n",
              "0                    0.0                  0.0                     0.0   \n",
              "1                    0.0                  0.0                     0.0   \n",
              "2                    0.0                  0.0                     0.0   \n",
              "3                    0.0                  0.0                     0.0   \n",
              "4                    0.0                  0.0                     0.0   \n",
              "\n",
              "   Other_NMR  \n",
              "0        0.0  \n",
              "1        0.0  \n",
              "2        1.0  \n",
              "3        0.0  \n",
              "4        0.0  "
            ],
            "text/html": [
              "\n",
              "  <div id=\"df-d416279c-e076-4bea-8e57-59c8fdc8ec47\">\n",
              "    <div class=\"colab-df-container\">\n",
              "      <div>\n",
              "<style scoped>\n",
              "    .dataframe tbody tr th:only-of-type {\n",
              "        vertical-align: middle;\n",
              "    }\n",
              "\n",
              "    .dataframe tbody tr th {\n",
              "        vertical-align: top;\n",
              "    }\n",
              "\n",
              "    .dataframe thead th {\n",
              "        text-align: right;\n",
              "    }\n",
              "</style>\n",
              "<table border=\"1\" class=\"dataframe\">\n",
              "  <thead>\n",
              "    <tr style=\"text-align: right;\">\n",
              "      <th></th>\n",
              "      <th>Pretrial_Supervision_at_Arraign</th>\n",
              "      <th>Contact_Pretrial_Service_Agency</th>\n",
              "      <th>Electronic_Monitoring</th>\n",
              "      <th>Travel_Restrictions</th>\n",
              "      <th>No_Firearms_or_Weapons</th>\n",
              "      <th>Other_NMR</th>\n",
              "    </tr>\n",
              "  </thead>\n",
              "  <tbody>\n",
              "    <tr>\n",
              "      <th>0</th>\n",
              "      <td>1.0</td>\n",
              "      <td>0.0</td>\n",
              "      <td>0.0</td>\n",
              "      <td>0.0</td>\n",
              "      <td>0.0</td>\n",
              "      <td>0.0</td>\n",
              "    </tr>\n",
              "    <tr>\n",
              "      <th>1</th>\n",
              "      <td>1.0</td>\n",
              "      <td>0.0</td>\n",
              "      <td>0.0</td>\n",
              "      <td>0.0</td>\n",
              "      <td>0.0</td>\n",
              "      <td>0.0</td>\n",
              "    </tr>\n",
              "    <tr>\n",
              "      <th>2</th>\n",
              "      <td>0.0</td>\n",
              "      <td>0.0</td>\n",
              "      <td>0.0</td>\n",
              "      <td>0.0</td>\n",
              "      <td>0.0</td>\n",
              "      <td>1.0</td>\n",
              "    </tr>\n",
              "    <tr>\n",
              "      <th>3</th>\n",
              "      <td>0.0</td>\n",
              "      <td>1.0</td>\n",
              "      <td>0.0</td>\n",
              "      <td>0.0</td>\n",
              "      <td>0.0</td>\n",
              "      <td>0.0</td>\n",
              "    </tr>\n",
              "    <tr>\n",
              "      <th>4</th>\n",
              "      <td>1.0</td>\n",
              "      <td>0.0</td>\n",
              "      <td>0.0</td>\n",
              "      <td>0.0</td>\n",
              "      <td>0.0</td>\n",
              "      <td>0.0</td>\n",
              "    </tr>\n",
              "  </tbody>\n",
              "</table>\n",
              "</div>\n",
              "      <button class=\"colab-df-convert\" onclick=\"convertToInteractive('df-d416279c-e076-4bea-8e57-59c8fdc8ec47')\"\n",
              "              title=\"Convert this dataframe to an interactive table.\"\n",
              "              style=\"display:none;\">\n",
              "        \n",
              "  <svg xmlns=\"http://www.w3.org/2000/svg\" height=\"24px\"viewBox=\"0 0 24 24\"\n",
              "       width=\"24px\">\n",
              "    <path d=\"M0 0h24v24H0V0z\" fill=\"none\"/>\n",
              "    <path d=\"M18.56 5.44l.94 2.06.94-2.06 2.06-.94-2.06-.94-.94-2.06-.94 2.06-2.06.94zm-11 1L8.5 8.5l.94-2.06 2.06-.94-2.06-.94L8.5 2.5l-.94 2.06-2.06.94zm10 10l.94 2.06.94-2.06 2.06-.94-2.06-.94-.94-2.06-.94 2.06-2.06.94z\"/><path d=\"M17.41 7.96l-1.37-1.37c-.4-.4-.92-.59-1.43-.59-.52 0-1.04.2-1.43.59L10.3 9.45l-7.72 7.72c-.78.78-.78 2.05 0 2.83L4 21.41c.39.39.9.59 1.41.59.51 0 1.02-.2 1.41-.59l7.78-7.78 2.81-2.81c.8-.78.8-2.07 0-2.86zM5.41 20L4 18.59l7.72-7.72 1.47 1.35L5.41 20z\"/>\n",
              "  </svg>\n",
              "      </button>\n",
              "      \n",
              "  <style>\n",
              "    .colab-df-container {\n",
              "      display:flex;\n",
              "      flex-wrap:wrap;\n",
              "      gap: 12px;\n",
              "    }\n",
              "\n",
              "    .colab-df-convert {\n",
              "      background-color: #E8F0FE;\n",
              "      border: none;\n",
              "      border-radius: 50%;\n",
              "      cursor: pointer;\n",
              "      display: none;\n",
              "      fill: #1967D2;\n",
              "      height: 32px;\n",
              "      padding: 0 0 0 0;\n",
              "      width: 32px;\n",
              "    }\n",
              "\n",
              "    .colab-df-convert:hover {\n",
              "      background-color: #E2EBFA;\n",
              "      box-shadow: 0px 1px 2px rgba(60, 64, 67, 0.3), 0px 1px 3px 1px rgba(60, 64, 67, 0.15);\n",
              "      fill: #174EA6;\n",
              "    }\n",
              "\n",
              "    [theme=dark] .colab-df-convert {\n",
              "      background-color: #3B4455;\n",
              "      fill: #D2E3FC;\n",
              "    }\n",
              "\n",
              "    [theme=dark] .colab-df-convert:hover {\n",
              "      background-color: #434B5C;\n",
              "      box-shadow: 0px 1px 3px 1px rgba(0, 0, 0, 0.15);\n",
              "      filter: drop-shadow(0px 1px 2px rgba(0, 0, 0, 0.3));\n",
              "      fill: #FFFFFF;\n",
              "    }\n",
              "  </style>\n",
              "\n",
              "      <script>\n",
              "        const buttonEl =\n",
              "          document.querySelector('#df-d416279c-e076-4bea-8e57-59c8fdc8ec47 button.colab-df-convert');\n",
              "        buttonEl.style.display =\n",
              "          google.colab.kernel.accessAllowed ? 'block' : 'none';\n",
              "\n",
              "        async function convertToInteractive(key) {\n",
              "          const element = document.querySelector('#df-d416279c-e076-4bea-8e57-59c8fdc8ec47');\n",
              "          const dataTable =\n",
              "            await google.colab.kernel.invokeFunction('convertToInteractive',\n",
              "                                                     [key], {});\n",
              "          if (!dataTable) return;\n",
              "\n",
              "          const docLinkHtml = 'Like what you see? Visit the ' +\n",
              "            '<a target=\"_blank\" href=https://colab.research.google.com/notebooks/data_table.ipynb>data table notebook</a>'\n",
              "            + ' to learn more about interactive tables.';\n",
              "          element.innerHTML = '';\n",
              "          dataTable['output_type'] = 'display_data';\n",
              "          await google.colab.output.renderOutput(dataTable, element);\n",
              "          const docLink = document.createElement('div');\n",
              "          docLink.innerHTML = docLinkHtml;\n",
              "          element.appendChild(docLink);\n",
              "        }\n",
              "      </script>\n",
              "    </div>\n",
              "  </div>\n",
              "  "
            ]
          },
          "metadata": {},
          "execution_count": 11
        }
      ]
    },
    {
      "cell_type": "code",
      "source": [
        "NMR_labels_df.columns"
      ],
      "metadata": {
        "colab": {
          "base_uri": "https://localhost:8080/"
        },
        "id": "BwgG3I04_BDF",
        "outputId": "e7e50806-aa3c-450a-c076-f8d91da74ef9"
      },
      "execution_count": null,
      "outputs": [
        {
          "output_type": "execute_result",
          "data": {
            "text/plain": [
              "Index(['Pretrial_Supervision_at_Arraign', 'Contact_Pretrial_Service_Agency',\n",
              "       'Electronic_Monitoring', 'Travel_Restrictions',\n",
              "       'No_Firearms_or_Weapons', 'Other_NMR'],\n",
              "      dtype='object')"
            ]
          },
          "metadata": {},
          "execution_count": 12
        }
      ]
    },
    {
      "cell_type": "code",
      "source": [
        "NMR_labels_df.shape"
      ],
      "metadata": {
        "colab": {
          "base_uri": "https://localhost:8080/"
        },
        "id": "MdvMA-qKt-tY",
        "outputId": "66a7c86b-391a-4813-e57e-f7e55286c3b9"
      },
      "execution_count": null,
      "outputs": [
        {
          "output_type": "execute_result",
          "data": {
            "text/plain": [
              "(26546, 6)"
            ]
          },
          "metadata": {},
          "execution_count": 13
        }
      ]
    },
    {
      "cell_type": "markdown",
      "source": [
        "# Train Test Set"
      ],
      "metadata": {
        "id": "6MCjN5khowI4"
      }
    },
    {
      "cell_type": "code",
      "source": [
        "NMR_labels = np.asarray(NMR_labels_df)\n",
        "NMR_labels.shape\n",
        "\n",
        "#Make Train and test sets\n",
        "xtrain, xtest, ytrain, ytest = train_test_split(NMR_features, NMR_labels, train_size = .70, random_state = 3)\n",
        "print(len(xtest))"
      ],
      "metadata": {
        "colab": {
          "base_uri": "https://localhost:8080/"
        },
        "id": "qEk4JPLkoyYU",
        "outputId": "869e44aa-cf24-4538-8ea8-b1aab9fe33c2"
      },
      "execution_count": null,
      "outputs": [
        {
          "output_type": "stream",
          "name": "stdout",
          "text": [
            "7964\n"
          ]
        }
      ]
    },
    {
      "cell_type": "markdown",
      "source": [
        "# Prediction Models\n",
        "\n",
        "We will start with models that are designed for multioutput.  Then we will look at MultiOutput and MultiLabel that transform binary classifiers to be multioutput classifiers.  Last but not least if time we will look at Neural Networks"
      ],
      "metadata": {
        "id": "0uh__UaxpHYR"
      }
    },
    {
      "cell_type": "markdown",
      "source": [
        "# Decision Trees\n",
        "<https://machinelearningknowledge.ai/decision-tree-classifier-in-python-sklearn-with-example/#Test_Accuracy>"
      ],
      "metadata": {
        "id": "mjBXz6OJpgNT"
      }
    },
    {
      "cell_type": "code",
      "source": [
        "from sklearn.tree import DecisionTreeClassifier"
      ],
      "metadata": {
        "id": "bij6MeDnpfX0"
      },
      "execution_count": null,
      "outputs": []
    },
    {
      "cell_type": "code",
      "source": [
        "dt_clf = DecisionTreeClassifier(random_state=3)\n",
        "dt_clf.fit(xtrain, ytrain)"
      ],
      "metadata": {
        "colab": {
          "base_uri": "https://localhost:8080/"
        },
        "id": "fhJQ-IEXpFoS",
        "outputId": "f155c878-4ff1-4804-aaf9-482416abab72"
      },
      "execution_count": null,
      "outputs": [
        {
          "output_type": "execute_result",
          "data": {
            "text/plain": [
              "DecisionTreeClassifier(random_state=3)"
            ]
          },
          "metadata": {},
          "execution_count": 16
        }
      ]
    },
    {
      "cell_type": "code",
      "source": [
        "dt_y_predict = dt_clf.predict(xtest)\n",
        "from sklearn.metrics import accuracy_score,classification_report,confusion_matrix\n",
        "\n",
        "print(\"Decision Trees Accuracy:\", metrics.accuracy_score(ytest, dt_y_predict))"
      ],
      "metadata": {
        "colab": {
          "base_uri": "https://localhost:8080/"
        },
        "id": "ApFS5okUrZQU",
        "outputId": "b381a22b-7393-4087-9772-6a9132a2292b"
      },
      "execution_count": null,
      "outputs": [
        {
          "output_type": "stream",
          "name": "stdout",
          "text": [
            "Decision Trees Accuracy: 0.4840532395781015\n"
          ]
        }
      ]
    },
    {
      "cell_type": "markdown",
      "source": [
        "# K Nearest Neighbors"
      ],
      "metadata": {
        "id": "QhzmIlXpsKJh"
      }
    },
    {
      "cell_type": "code",
      "source": [
        "from sklearn.neighbors import KNeighborsClassifier"
      ],
      "metadata": {
        "id": "FvVjHqOgtRr5"
      },
      "execution_count": null,
      "outputs": []
    },
    {
      "cell_type": "code",
      "source": [
        "knn_clf = KNeighborsClassifier()\n",
        "knn_clf.fit(xtrain, ytrain)"
      ],
      "metadata": {
        "colab": {
          "base_uri": "https://localhost:8080/"
        },
        "id": "MVLr3Ii1fvHf",
        "outputId": "59431241-f56d-454e-a517-fda81d4eb14a"
      },
      "execution_count": null,
      "outputs": [
        {
          "output_type": "execute_result",
          "data": {
            "text/plain": [
              "KNeighborsClassifier()"
            ]
          },
          "metadata": {},
          "execution_count": 19
        }
      ]
    },
    {
      "cell_type": "code",
      "source": [
        "knn_y_predict = knn_clf.predict(xtest)\n",
        "knn_score = accuracy_score(ytest,knn_y_predict)\n",
        "print('KNN Acuracy:', knn_score)"
      ],
      "metadata": {
        "colab": {
          "base_uri": "https://localhost:8080/"
        },
        "id": "zVMwfbnyf9eb",
        "outputId": "932e4d2c-c013-41a4-9f45-957ae19811c1"
      },
      "execution_count": null,
      "outputs": [
        {
          "output_type": "stream",
          "name": "stdout",
          "text": [
            "KNN Acuracy: 0.40268709191361124\n"
          ]
        }
      ]
    },
    {
      "cell_type": "markdown",
      "source": [
        "# MLP Classifier"
      ],
      "metadata": {
        "id": "j76-gXgMiCpL"
      }
    },
    {
      "cell_type": "code",
      "source": [
        "from sklearn.neural_network import MLPClassifier"
      ],
      "metadata": {
        "id": "4oGVRDaPiVzE"
      },
      "execution_count": null,
      "outputs": []
    },
    {
      "cell_type": "code",
      "source": [
        "mlp_clf = MLPClassifier(random_state=1, max_iter=300)\n",
        "mlp_clf.fit(xtrain, ytrain)\n"
      ],
      "metadata": {
        "colab": {
          "base_uri": "https://localhost:8080/"
        },
        "id": "lQF_41j_iipL",
        "outputId": "192d103b-e082-4a42-ace6-75ca14173ca0"
      },
      "execution_count": null,
      "outputs": [
        {
          "output_type": "stream",
          "name": "stderr",
          "text": [
            "/usr/local/lib/python3.7/dist-packages/sklearn/neural_network/_multilayer_perceptron.py:696: ConvergenceWarning: Stochastic Optimizer: Maximum iterations (300) reached and the optimization hasn't converged yet.\n",
            "  ConvergenceWarning,\n"
          ]
        },
        {
          "output_type": "execute_result",
          "data": {
            "text/plain": [
              "MLPClassifier(max_iter=300, random_state=1)"
            ]
          },
          "metadata": {},
          "execution_count": 22
        }
      ]
    },
    {
      "cell_type": "code",
      "source": [
        "mlp_y_predict = mlp_clf.predict(xtest)\n",
        "print('MLP Classifier:', accuracy_score(ytest,mlp_y_predict))"
      ],
      "metadata": {
        "colab": {
          "base_uri": "https://localhost:8080/"
        },
        "id": "OKAEd1mKiybY",
        "outputId": "d1e81887-6133-42ea-aae9-dc19ec185542"
      },
      "execution_count": null,
      "outputs": [
        {
          "output_type": "stream",
          "name": "stdout",
          "text": [
            "MLP Classifier: 0.45454545454545453\n"
          ]
        }
      ]
    },
    {
      "cell_type": "markdown",
      "source": [
        "# Radius Neighbors Classifier"
      ],
      "metadata": {
        "id": "Gih0VXE9j0S_"
      }
    },
    {
      "cell_type": "code",
      "source": [
        "from sklearn.neighbors import RadiusNeighborsClassifier"
      ],
      "metadata": {
        "id": "ONJgu5ExjzQj"
      },
      "execution_count": null,
      "outputs": []
    },
    {
      "cell_type": "code",
      "source": [
        "rnn_clf = RadiusNeighborsClassifier(radius=10.0)\n",
        "rnn_clf.fit(xtrain, ytrain)"
      ],
      "metadata": {
        "colab": {
          "base_uri": "https://localhost:8080/"
        },
        "id": "Apv9ILSQkOrS",
        "outputId": "b3d87ac4-0871-44f8-c6c9-fa48b202c202"
      },
      "execution_count": null,
      "outputs": [
        {
          "output_type": "execute_result",
          "data": {
            "text/plain": [
              "RadiusNeighborsClassifier(radius=10.0)"
            ]
          },
          "metadata": {},
          "execution_count": 25
        }
      ]
    },
    {
      "cell_type": "code",
      "source": [
        "#Rerunn when we remove outliers\n",
        "rnn_y_predict = rnn_clf.predict(xtest)\n",
        "print('Radius Neighbors Classifier:', accuracy_score(ytest,rnn_y_predict))"
      ],
      "metadata": {
        "colab": {
          "base_uri": "https://localhost:8080/"
        },
        "id": "4OAJLMoOkmyg",
        "outputId": "c80fcea6-549d-401e-d0f2-59fecca535ea"
      },
      "execution_count": null,
      "outputs": [
        {
          "output_type": "stream",
          "name": "stdout",
          "text": [
            "Radius Neighbors Classifier: 0.40268709191361124\n"
          ]
        }
      ]
    },
    {
      "cell_type": "markdown",
      "source": [
        "# Random Forest Classifier"
      ],
      "metadata": {
        "id": "d1CuWQFjk6gJ"
      }
    },
    {
      "cell_type": "code",
      "source": [
        "from sklearn.ensemble import RandomForestClassifier"
      ],
      "metadata": {
        "id": "cgab_-Lak54n"
      },
      "execution_count": null,
      "outputs": []
    },
    {
      "cell_type": "code",
      "source": [
        "rf_clf = RandomForestClassifier(max_depth=2, random_state=0)\n",
        "rf_clf.fit(xtrain, ytrain)"
      ],
      "metadata": {
        "colab": {
          "base_uri": "https://localhost:8080/"
        },
        "id": "TDtFzQbMksS_",
        "outputId": "4f1b1144-839b-45a6-aaad-b96f7ca4b05a"
      },
      "execution_count": null,
      "outputs": [
        {
          "output_type": "execute_result",
          "data": {
            "text/plain": [
              "RandomForestClassifier(max_depth=2, random_state=0)"
            ]
          },
          "metadata": {},
          "execution_count": 28
        }
      ]
    },
    {
      "cell_type": "code",
      "source": [
        "rf_y_predict = rf_clf.predict(xtest)\n",
        "print('Random Forest Classifier:', accuracy_score(ytest,rf_y_predict))"
      ],
      "metadata": {
        "colab": {
          "base_uri": "https://localhost:8080/"
        },
        "id": "e7ftw49slp-B",
        "outputId": "f95b9367-8b71-4505-a16b-0a70c676a30b"
      },
      "execution_count": null,
      "outputs": [
        {
          "output_type": "stream",
          "name": "stdout",
          "text": [
            "Random Forest Classifier: 0.4453792064289302\n"
          ]
        }
      ]
    },
    {
      "cell_type": "markdown",
      "source": [
        "# Neural Network"
      ],
      "metadata": {
        "id": "cEs2mGCcmjqK"
      }
    },
    {
      "cell_type": "code",
      "source": [
        "nn_model = keras.Sequential([\n",
        "                             keras.layers.Flatten(input_shape=(26,)),\n",
        "                             keras.layers.Dense(16, activation=tf.nn.relu),\n",
        "                             keras.layers.Dense(16, activation=tf.nn.relu),\n",
        "                             keras.layers.Dense(6, activation=tf.nn.sigmoid),\n",
        "                             ])\n",
        "\n",
        "nn_model.compile(optimizer='adam',\n",
        "                 loss='binary_crossentropy',\n",
        "                 metrics=['accuracy'])\n",
        "\n",
        "nn_model.fit(xtrain, ytrain, epochs=50, batch_size=1)\n",
        "\n",
        "test_loss, test_acc = nn_model.evaluate(xtest, ytest)\n",
        "print('Test accuracy:', test_acc)"
      ],
      "metadata": {
        "colab": {
          "base_uri": "https://localhost:8080/"
        },
        "id": "ZGo2eKedBE7F",
        "outputId": "3761f9b8-28ca-4a0a-e1d1-c34ac19aaad2"
      },
      "execution_count": null,
      "outputs": [
        {
          "output_type": "stream",
          "name": "stdout",
          "text": [
            "Epoch 1/50\n",
            "18582/18582 [==============================] - 31s 2ms/step - loss: 0.3752 - accuracy: 0.5661\n",
            "Epoch 2/50\n",
            "18582/18582 [==============================] - 27s 1ms/step - loss: 0.3513 - accuracy: 0.6030\n",
            "Epoch 3/50\n",
            "18582/18582 [==============================] - 28s 1ms/step - loss: 0.3412 - accuracy: 0.6244\n",
            "Epoch 4/50\n",
            "18582/18582 [==============================] - 28s 1ms/step - loss: 0.3345 - accuracy: 0.6372\n",
            "Epoch 5/50\n",
            "18582/18582 [==============================] - 27s 1ms/step - loss: 0.3305 - accuracy: 0.6480\n",
            "Epoch 6/50\n",
            "18582/18582 [==============================] - 28s 1ms/step - loss: 0.3278 - accuracy: 0.6550\n",
            "Epoch 7/50\n",
            "18582/18582 [==============================] - 28s 1ms/step - loss: 0.3261 - accuracy: 0.6582\n",
            "Epoch 8/50\n",
            "18582/18582 [==============================] - 27s 1ms/step - loss: 0.3244 - accuracy: 0.6577\n",
            "Epoch 9/50\n",
            "18582/18582 [==============================] - 28s 1ms/step - loss: 0.3232 - accuracy: 0.6631\n",
            "Epoch 10/50\n",
            "18582/18582 [==============================] - 28s 1ms/step - loss: 0.3222 - accuracy: 0.6637\n",
            "Epoch 11/50\n",
            "18582/18582 [==============================] - 27s 1ms/step - loss: 0.3214 - accuracy: 0.6619\n",
            "Epoch 12/50\n",
            "18582/18582 [==============================] - 28s 1ms/step - loss: 0.3201 - accuracy: 0.6637\n",
            "Epoch 13/50\n",
            "18582/18582 [==============================] - 28s 1ms/step - loss: 0.3202 - accuracy: 0.6642\n",
            "Epoch 14/50\n",
            "18582/18582 [==============================] - 28s 1ms/step - loss: 0.3197 - accuracy: 0.6637\n",
            "Epoch 15/50\n",
            "18582/18582 [==============================] - 27s 1ms/step - loss: 0.3196 - accuracy: 0.6611\n",
            "Epoch 16/50\n",
            "18582/18582 [==============================] - 27s 1ms/step - loss: 0.3184 - accuracy: 0.6640\n",
            "Epoch 17/50\n",
            "18582/18582 [==============================] - 27s 1ms/step - loss: 0.3179 - accuracy: 0.6651\n",
            "Epoch 18/50\n",
            "18582/18582 [==============================] - 27s 1ms/step - loss: 0.3176 - accuracy: 0.6672\n",
            "Epoch 19/50\n",
            "18582/18582 [==============================] - 27s 1ms/step - loss: 0.3174 - accuracy: 0.6700\n",
            "Epoch 20/50\n",
            "18582/18582 [==============================] - 27s 1ms/step - loss: 0.3168 - accuracy: 0.6693\n",
            "Epoch 21/50\n",
            "18582/18582 [==============================] - 28s 1ms/step - loss: 0.3167 - accuracy: 0.6659\n",
            "Epoch 22/50\n",
            "18582/18582 [==============================] - 31s 2ms/step - loss: 0.3156 - accuracy: 0.6699\n",
            "Epoch 23/50\n",
            "18582/18582 [==============================] - 28s 1ms/step - loss: 0.3154 - accuracy: 0.6699\n",
            "Epoch 24/50\n",
            "18582/18582 [==============================] - 27s 1ms/step - loss: 0.3145 - accuracy: 0.6688\n",
            "Epoch 25/50\n",
            "18582/18582 [==============================] - 27s 1ms/step - loss: 0.3149 - accuracy: 0.6711\n",
            "Epoch 26/50\n",
            "18582/18582 [==============================] - 28s 1ms/step - loss: 0.3137 - accuracy: 0.6755\n",
            "Epoch 27/50\n",
            "18582/18582 [==============================] - 28s 1ms/step - loss: 0.3136 - accuracy: 0.6745\n",
            "Epoch 28/50\n",
            "18582/18582 [==============================] - 28s 2ms/step - loss: 0.3135 - accuracy: 0.6756\n",
            "Epoch 29/50\n",
            "18582/18582 [==============================] - 27s 1ms/step - loss: 0.3134 - accuracy: 0.6764\n",
            "Epoch 30/50\n",
            "18582/18582 [==============================] - 28s 1ms/step - loss: 0.3125 - accuracy: 0.6760\n",
            "Epoch 31/50\n",
            "18582/18582 [==============================] - 28s 1ms/step - loss: 0.3123 - accuracy: 0.6764\n",
            "Epoch 32/50\n",
            "18582/18582 [==============================] - 28s 1ms/step - loss: 0.3124 - accuracy: 0.6780\n",
            "Epoch 33/50\n",
            "18582/18582 [==============================] - 28s 2ms/step - loss: 0.3119 - accuracy: 0.6788\n",
            "Epoch 34/50\n",
            "18582/18582 [==============================] - 28s 1ms/step - loss: 0.3116 - accuracy: 0.6801\n",
            "Epoch 35/50\n",
            "18582/18582 [==============================] - 28s 1ms/step - loss: 0.3117 - accuracy: 0.6771\n",
            "Epoch 36/50\n",
            "18582/18582 [==============================] - 28s 1ms/step - loss: 0.3113 - accuracy: 0.6792\n",
            "Epoch 37/50\n",
            "18582/18582 [==============================] - 28s 1ms/step - loss: 0.3115 - accuracy: 0.6797\n",
            "Epoch 38/50\n",
            "18582/18582 [==============================] - 28s 1ms/step - loss: 0.3111 - accuracy: 0.6815\n",
            "Epoch 39/50\n",
            "18582/18582 [==============================] - 28s 1ms/step - loss: 0.3114 - accuracy: 0.6768\n",
            "Epoch 40/50\n",
            "18582/18582 [==============================] - 28s 1ms/step - loss: 0.3115 - accuracy: 0.6787\n",
            "Epoch 41/50\n",
            "18582/18582 [==============================] - 28s 1ms/step - loss: 0.3102 - accuracy: 0.6822\n",
            "Epoch 42/50\n",
            "18582/18582 [==============================] - 28s 1ms/step - loss: 0.3101 - accuracy: 0.6830\n",
            "Epoch 43/50\n",
            "18582/18582 [==============================] - 28s 1ms/step - loss: 0.3110 - accuracy: 0.6833\n",
            "Epoch 44/50\n",
            "18582/18582 [==============================] - 28s 2ms/step - loss: 0.3105 - accuracy: 0.6836\n",
            "Epoch 45/50\n",
            "18582/18582 [==============================] - 28s 1ms/step - loss: 0.3104 - accuracy: 0.6831\n",
            "Epoch 46/50\n",
            "18582/18582 [==============================] - 28s 1ms/step - loss: 0.3098 - accuracy: 0.6826\n",
            "Epoch 47/50\n",
            "18582/18582 [==============================] - 28s 2ms/step - loss: 0.3103 - accuracy: 0.6853\n",
            "Epoch 48/50\n",
            "18582/18582 [==============================] - 28s 2ms/step - loss: 0.3100 - accuracy: 0.6825\n",
            "Epoch 49/50\n",
            "18582/18582 [==============================] - 27s 1ms/step - loss: 0.3095 - accuracy: 0.6842\n",
            "Epoch 50/50\n",
            "18582/18582 [==============================] - 28s 2ms/step - loss: 0.3095 - accuracy: 0.6846\n",
            "249/249 [==============================] - 1s 1ms/step - loss: 0.3190 - accuracy: 0.6642\n",
            "Test accuracy: 0.6642390489578247\n"
          ]
        }
      ]
    },
    {
      "cell_type": "code",
      "source": [
        ""
      ],
      "metadata": {
        "id": "K2gCjD-pmpxT"
      },
      "execution_count": null,
      "outputs": []
    }
  ]
}