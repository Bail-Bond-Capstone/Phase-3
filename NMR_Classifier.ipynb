{
  "cells": [
    {
      "cell_type": "markdown",
      "metadata": {
        "id": "YxSOQDCsy83s"
      },
      "source": [
        "# Non-Monetary Restrictions\n",
        "## Goal of Notebook:\n",
        "* Prepare the data for classification\n",
        "* Create classification(s) models\n",
        "* Compare accuracy of classification models"
      ]
    },
    {
      "cell_type": "code",
      "execution_count": null,
      "metadata": {
        "colab": {
          "base_uri": "https://localhost:8080/"
        },
        "id": "b6yvaBdwzR7i",
        "outputId": "f40a092a-24d6-4b6e-d197-440e43632147"
      },
      "outputs": [
        {
          "output_type": "stream",
          "name": "stdout",
          "text": [
            "Requirement already satisfied: category_encoders in /usr/local/lib/python3.7/dist-packages (2.4.1)\n",
            "Requirement already satisfied: statsmodels>=0.9.0 in /usr/local/lib/python3.7/dist-packages (from category_encoders) (0.10.2)\n",
            "Requirement already satisfied: numpy>=1.14.0 in /usr/local/lib/python3.7/dist-packages (from category_encoders) (1.21.6)\n",
            "Requirement already satisfied: scipy>=1.0.0 in /usr/local/lib/python3.7/dist-packages (from category_encoders) (1.4.1)\n",
            "Requirement already satisfied: scikit-learn>=0.20.0 in /usr/local/lib/python3.7/dist-packages (from category_encoders) (1.0.2)\n",
            "Requirement already satisfied: pandas>=0.21.1 in /usr/local/lib/python3.7/dist-packages (from category_encoders) (1.3.5)\n",
            "Requirement already satisfied: patsy>=0.5.1 in /usr/local/lib/python3.7/dist-packages (from category_encoders) (0.5.2)\n",
            "Requirement already satisfied: pytz>=2017.3 in /usr/local/lib/python3.7/dist-packages (from pandas>=0.21.1->category_encoders) (2022.1)\n",
            "Requirement already satisfied: python-dateutil>=2.7.3 in /usr/local/lib/python3.7/dist-packages (from pandas>=0.21.1->category_encoders) (2.8.2)\n",
            "Requirement already satisfied: six in /usr/local/lib/python3.7/dist-packages (from patsy>=0.5.1->category_encoders) (1.15.0)\n",
            "Requirement already satisfied: joblib>=0.11 in /usr/local/lib/python3.7/dist-packages (from scikit-learn>=0.20.0->category_encoders) (1.1.0)\n",
            "Requirement already satisfied: threadpoolctl>=2.0.0 in /usr/local/lib/python3.7/dist-packages (from scikit-learn>=0.20.0->category_encoders) (3.1.0)\n"
          ]
        }
      ],
      "source": [
        "#Import Libraries\n",
        "import numpy as np\n",
        "import pandas as pd\n",
        "pd.set_option('display.max_rows', 500)\n",
        "pd.set_option('display.max_columns', None)\n",
        "import matplotlib.pyplot as plt\n",
        "\n",
        "\n",
        "from sklearn.preprocessing import OneHotEncoder\n",
        "from sklearn.pipeline import Pipeline\n",
        "from sklearn.compose import make_column_transformer\n",
        "!pip install category_encoders\n",
        "from category_encoders import LeaveOneOutEncoder\n",
        "\n",
        "import seaborn as sns\n",
        "\n",
        "from sklearn.model_selection import GridSearchCV\n",
        "\n",
        "from sklearn import metrics\n",
        "from sklearn.linear_model import LogisticRegression\n",
        "from sklearn.linear_model import LogisticRegressionCV\n",
        "from sklearn.model_selection import train_test_split\n",
        "from sklearn import svm\n",
        "from sklearn.metrics import classification_report, confusion_matrix\n",
        "from sklearn.ensemble import RandomForestClassifier\n",
        "from sklearn.model_selection import RandomizedSearchCV\n",
        "from sklearn.naive_bayes import GaussianNB\n",
        "from sklearn.neighbors import KNeighborsClassifier\n",
        "from sklearn.svm import SVC\n",
        "from sklearn.multioutput import MultiOutputClassifier\n",
        "from sklearn.preprocessing import StandardScaler\n",
        "from sklearn.tree import DecisionTreeClassifier\n",
        "import tensorflow as tf\n",
        "from tensorflow import keras"
      ]
    },
    {
      "cell_type": "markdown",
      "metadata": {
        "id": "uYKgkVuQzrXK"
      },
      "source": [
        "# Prepare the data for classification\n",
        "\n",
        "* Remove nan data\n",
        "* create train and test data\n",
        "* create features and labels"
      ]
    },
    {
      "cell_type": "code",
      "execution_count": null,
      "metadata": {
        "id": "7EQk3f2dzUFR"
      },
      "outputs": [],
      "source": [
        "#select only columns applicable to classifier\n",
        "use_col = ['Gender', 'Race', 'Ethnicity', 'Age_at_Crime',\n",
        "            'Age_at_Arrest', 'Court_ORI',\n",
        "            'Judge_Name', 'Arrest_Type', 'Offense_Date',\n",
        "            'Top_Charge_Severity_at_Arrest', 'Top_Charge_Weight_at_Arrest',\n",
        "            'Top_Charge_at_Arrest_Violent_Felony_Ind', 'Arraign Charge Category',\n",
        "            'Representation_Type', 'prior_vfo_cnt', \n",
        "            'prior_nonvfo_cnt', 'prior_misd_cnt',\n",
        "            'supervision', 'NMR_at_Arraign', 'Pretrial_Supervision_at_Arraign',\n",
        "            'Contact_Pretrial_Service_Agency',\n",
        "            'Electronic_Monitoring', 'Travel_Restrictions',\n",
        "            'Passport_Surrender','No_Firearms_or_Weapons',\n",
        "            'Maintain_Employment', 'Maintain_Housing',\n",
        "            'Maintain_School', 'Placement_in_Mandatory_Program',\n",
        "            'Removal_to_Hospital', 'Obey_Order_of_Protection',\n",
        "            'Obey_Court_Conditions-Family_Offense', 'Other_NMR']\n",
        "#This is for when we want to make x, y sets\n",
        "pred_cols = ['NMR_at_Arraign', 'Pretrial_Supervision_at_Arraign',\n",
        "             'Contact_Pretrial_Service_Agency',\n",
        "             'Electronic_Monitoring', 'Travel_Restrictions',\n",
        "             'Passport_Surrender','No_Firearms_or_Weapons',\n",
        "             'Maintain_Employment', 'Maintain_Housing',\n",
        "             'Maintain_School', 'Placement_in_Mandatory_Program',\n",
        "             'Removal_to_Hospital', 'Obey_Order_of_Protection',\n",
        "             'Obey_Court_Conditions-Family_Offense', 'Other_NMR']\n",
        "#Load Data\n",
        "df = pd.read_pickle(\"clean_df.pkl\")\n",
        "df = df.filter(use_col)\n",
        "\n",
        "#Filter rows so we are only looking at 2018 to present years\n",
        "df = df[pd.DatetimeIndex(df['Offense_Date']).year >= 2018 ].reset_index(drop = True)\n",
        "\n",
        "#create df where no nan in NMF column\n",
        "df = df[df['NMR_at_Arraign'].notna()]"
      ]
    },
    {
      "cell_type": "code",
      "execution_count": null,
      "metadata": {
        "id": "ewYvQ8Pn_Ljy",
        "colab": {
          "base_uri": "https://localhost:8080/"
        },
        "outputId": "b29c4446-95f4-491e-a94d-1b2c70a87c2e"
      },
      "outputs": [
        {
          "output_type": "stream",
          "name": "stderr",
          "text": [
            "/usr/local/lib/python3.7/dist-packages/ipykernel_launcher.py:38: FutureWarning: Boolean inputs to the `inclusive` argument are deprecated infavour of `both` or `neither`.\n",
            "/usr/local/lib/python3.7/dist-packages/ipykernel_launcher.py:39: FutureWarning: Boolean inputs to the `inclusive` argument are deprecated infavour of `both` or `neither`.\n",
            "/usr/local/lib/python3.7/dist-packages/ipykernel_launcher.py:40: FutureWarning: Boolean inputs to the `inclusive` argument are deprecated infavour of `both` or `neither`.\n",
            "/usr/local/lib/python3.7/dist-packages/ipykernel_launcher.py:41: FutureWarning: Boolean inputs to the `inclusive` argument are deprecated infavour of `both` or `neither`.\n",
            "/usr/local/lib/python3.7/dist-packages/ipykernel_launcher.py:42: FutureWarning: Boolean inputs to the `inclusive` argument are deprecated infavour of `both` or `neither`.\n",
            "/usr/local/lib/python3.7/dist-packages/ipykernel_launcher.py:46: FutureWarning: Boolean inputs to the `inclusive` argument are deprecated infavour of `both` or `neither`.\n",
            "/usr/local/lib/python3.7/dist-packages/ipykernel_launcher.py:47: FutureWarning: Boolean inputs to the `inclusive` argument are deprecated infavour of `both` or `neither`.\n",
            "/usr/local/lib/python3.7/dist-packages/ipykernel_launcher.py:48: FutureWarning: Boolean inputs to the `inclusive` argument are deprecated infavour of `both` or `neither`.\n",
            "/usr/local/lib/python3.7/dist-packages/ipykernel_launcher.py:49: FutureWarning: Boolean inputs to the `inclusive` argument are deprecated infavour of `both` or `neither`.\n",
            "/usr/local/lib/python3.7/dist-packages/ipykernel_launcher.py:50: FutureWarning: Boolean inputs to the `inclusive` argument are deprecated infavour of `both` or `neither`.\n",
            "/usr/local/lib/python3.7/dist-packages/ipykernel_launcher.py:55: FutureWarning: The default value of regex will change from True to False in a future version.\n"
          ]
        }
      ],
      "source": [
        "#Tidy the data so that it is complete\n",
        "\n",
        "#Change nan to 'Unkown' in categorical data\n",
        "categories_list = ['Gender', 'Race', 'Ethnicity',\n",
        "                   'Judge_Name', 'Top_Charge_Severity_at_Arrest', 'Top_Charge_Weight_at_Arrest',\n",
        "                   'Top_Charge_at_Arrest_Violent_Felony_Ind', 'Arraign Charge Category',\n",
        "                   'Representation_Type' ]\n",
        "#In the categorical data change the nan values to 'Unknown'\n",
        "df[categories_list] = df[categories_list].fillna('Unknown')\n",
        "\n",
        "#Replace Age_at_Crime and Age_at_Arrest with median\n",
        "crime_age_median = df['Age_at_Crime'].median()\n",
        "arrest_age_median = df['Age_at_Arrest'].median()\n",
        "df['Age_at_Crime'].fillna(crime_age_median, inplace = True)\n",
        "df['Age_at_Arrest'].fillna(arrest_age_median, inplace = True)\n",
        "\n",
        "#Replace nan with a random value with correct weighted probability (to match the population)\n",
        "vfo_choices = [0.0, 1.0, 2.0]\n",
        "df['prior_vfo_cnt'] = df['prior_vfo_cnt'].apply(lambda l: l if not np.isnan(l) else float(np.random.choice(vfo_choices, p=[0.84, 0.13, 0.03])))\n",
        "nonvfo_choices = [0.0, 1.0, 2.0, 3.0, 4.0]\n",
        "df['prior_nonvfo_cnt'] = df['prior_nonvfo_cnt'].apply(lambda l: l if not np.isnan(l) else float(np.random.choice(nonvfo_choices, 1, p=[0.74, 0.14, 0.06, 0.03, 0.03])))\n",
        "misd_choices = [0.0, 1.0, 2.0, 3.0, 4.0, 5.0, 6.0, 7.0, 8.0, 9.0, 1.0]\n",
        "df['prior_misd_cnt'] = df['prior_misd_cnt'].apply(lambda l: l if not np.isnan(l) else float(np.random.choice(misd_choices, 1, p=[0.54, 0.13, 0.08, 0.07, 0.05, 0.04, 0.03, 0.02, 0.02, 0.01, 0.01])))\n",
        "supervision_choices = [0.0, 1.0]\n",
        "df['supervision'] = df['supervision'].apply(lambda l: l if not np.isnan(l) else float(np.random.choice(supervision_choices, 1, p=[0.91, 0.09])))\n",
        "\n",
        "#For NMR_at_Arraign and below change N to 0.0 and Y to 1.0\n",
        "binary_list = ['Top_Charge_at_Arrest_Violent_Felony_Ind','NMR_at_Arraign', 'Pretrial_Supervision_at_Arraign', 'Contact_Pretrial_Service_Agency',\n",
        "               'Electronic_Monitoring', 'Travel_Restrictions', 'Passport_Surrender', 'No_Firearms_or_Weapons',\n",
        "               'Maintain_Employment', 'Maintain_Housing', 'Maintain_School', 'Placement_in_Mandatory_Program',\n",
        "               'Removal_to_Hospital', 'Obey_Order_of_Protection', 'Obey_Court_Conditions-Family_Offense', 'Other_NMR']\n",
        "\n",
        "for i in binary_list:\n",
        "  df[i] = df[i].map({'Y': 1.0 ,'N': 0.0})\n",
        "\n",
        "#Make the age into age groups for both age at crime and age at arrest\n",
        "df.loc[df['Age_at_Crime'] <= 17, 'age_group_crime'] = 0\n",
        "df.loc[df['Age_at_Crime'].between(17,24, inclusive = True), 'age_group_crime'] = 1\n",
        "df.loc[df['Age_at_Crime'].between(25,34, inclusive = True), 'age_group_crime'] = 2\n",
        "df.loc[df['Age_at_Crime'].between(35,44, inclusive = True), 'age_group_crime'] = 3\n",
        "df.loc[df['Age_at_Crime'].between(45,54, inclusive = True), 'age_group_crime'] = 4\n",
        "df.loc[df['Age_at_Crime'].between(55,64, inclusive = True), 'age_group_crime'] = 5\n",
        "df.loc[df['Age_at_Crime'] >= 65, 'age_group_crime'] = 6\n",
        "\n",
        "df.loc[df['Age_at_Arrest'] <= 17, 'age_group_arrest'] = 0\n",
        "df.loc[df['Age_at_Arrest'].between(17,24, inclusive = True), 'age_group_arrest'] = 1\n",
        "df.loc[df['Age_at_Arrest'].between(25,34, inclusive = True), 'age_group_arrest'] = 2\n",
        "df.loc[df['Age_at_Arrest'].between(35,44, inclusive = True), 'age_group_arrest'] = 3\n",
        "df.loc[df['Age_at_Arrest'].between(45,54, inclusive = True), 'age_group_arrest'] = 4\n",
        "df.loc[df['Age_at_Arrest'].between(55,64, inclusive = True), 'age_group_arrest'] = 5\n",
        "df.loc[df['Age_at_Arrest'] >= 65, 'age_group_arrest'] = 6\n",
        "\n",
        "df['Court_ORI'].unique()\n",
        "##Remove Letters from Court ORI because they are consistent in each\n",
        "df['Court_ORI'] = df[\"Court_ORI\"].str.replace(\"[NYJ]\",\"\")\n",
        "#Convert Court ORI from string to int\n",
        "df['Court_ORI'] = [int(i) for i in df['Court_ORI']]\n",
        "\n",
        "#Make arrest type binary 'DAT' = 1, 'Custody' = 0\n",
        "df['Arrest_Type'] = df['Arrest_Type'].map({'DAT': 1.0 ,'Custody': 0.0})\n",
        "\n",
        "#For Top Charge Severity at Arrest Change them into integers based on severity\n",
        "#0- Unknown, 1-Violation, 2-Infraction, 3-Misdemeanor, 4-Felony\n",
        "df['Top_Charge_Severity_at_Arrest'] = df[\"Top_Charge_Severity_at_Arrest\"].replace(\"Unknown\",\"0.0\")\n",
        "df['Top_Charge_Severity_at_Arrest'] = df[\"Top_Charge_Severity_at_Arrest\"].replace(\"Violation\",\"1.0\")\n",
        "df['Top_Charge_Severity_at_Arrest'] = df[\"Top_Charge_Severity_at_Arrest\"].replace(\"Infraction\",\"2.0\")\n",
        "df['Top_Charge_Severity_at_Arrest'] = df[\"Top_Charge_Severity_at_Arrest\"].replace(\"Misdemeanor\",\"3.0\")\n",
        "df['Top_Charge_Severity_at_Arrest'] = df[\"Top_Charge_Severity_at_Arrest\"].replace(\"Felony\",\"4.0\")\n",
        "\n",
        "#For Top Charge Weight at Arrest give integers weights based on severity\n",
        "#0-Unknown, 1-V, 2-I, 3-UM, 4-BM, 5-AM, 6-EF, 7-DF, 8-CF, 9-BF, 10-AF\n",
        "df['Top_Charge_Weight_at_Arrest'] = df[\"Top_Charge_Weight_at_Arrest\"].replace(\"Unknown\", 0.0)\n",
        "df['Top_Charge_Weight_at_Arrest'] = df[\"Top_Charge_Weight_at_Arrest\"].replace(\"V\", 1.0)\n",
        "df['Top_Charge_Weight_at_Arrest'] = df[\"Top_Charge_Weight_at_Arrest\"].replace(\"I\", 2.0)\n",
        "df['Top_Charge_Weight_at_Arrest'] = df[\"Top_Charge_Weight_at_Arrest\"].replace(\"UM\", 3.0)\n",
        "df['Top_Charge_Weight_at_Arrest'] = df[\"Top_Charge_Weight_at_Arrest\"].replace(\"BM\", 4.0)\n",
        "df['Top_Charge_Weight_at_Arrest'] = df[\"Top_Charge_Weight_at_Arrest\"].replace(\"AM\", 5.0)\n",
        "df['Top_Charge_Weight_at_Arrest'] = df[\"Top_Charge_Weight_at_Arrest\"].replace(\"EF\", 6.0)\n",
        "df['Top_Charge_Weight_at_Arrest'] = df[\"Top_Charge_Weight_at_Arrest\"].replace(\"DF\", 7.0)\n",
        "df['Top_Charge_Weight_at_Arrest'] = df[\"Top_Charge_Weight_at_Arrest\"].replace(\"CF\", 8.0)\n",
        "df['Top_Charge_Weight_at_Arrest'] = df[\"Top_Charge_Weight_at_Arrest\"].replace(\"BF\", 9.0)\n",
        "df['Top_Charge_Weight_at_Arrest'] = df[\"Top_Charge_Weight_at_Arrest\"].replace(\"AF\", 10.0)"
      ]
    },
    {
      "cell_type": "code",
      "source": [
        "\n",
        "#For Top Charge Severity at Arrest Change them into integers based on severity\n",
        "#0- Unknown, 1-Violation, 2-Infraction, 3-Misdemeanor, 4-Felony\n",
        "#Mapping was taking long time so used .replace instead\n",
        "#for i in df['Top_Charge_Severity_at_Arrest']:\n",
        "  #df['Top_Charge_Severity_at_Arrest'] = df['Top_Charge_Severity_at_Arrest'].map({'Unknown': 0.0 ,'Violation': 1.0,\n",
        "                                                                                 #'Infraction': 2.0, 'Misdemeanor': 3.0, 'Felony': 4.0})\n"
      ],
      "metadata": {
        "id": "fnOTOw2y95ry"
      },
      "execution_count": null,
      "outputs": []
    },
    {
      "cell_type": "code",
      "source": [
        "df.head()"
      ],
      "metadata": {
        "colab": {
          "base_uri": "https://localhost:8080/",
          "height": 409
        },
        "id": "sLvmoCxWYLKh",
        "outputId": "0c6fcafd-038d-47b4-b2fd-3adf788d5fda"
      },
      "execution_count": null,
      "outputs": [
        {
          "output_type": "execute_result",
          "data": {
            "text/plain": [
              "  Gender     Race     Ethnicity  Age_at_Crime  Age_at_Arrest  Court_ORI  \\\n",
              "0   Male    Black  Non Hispanic          38.0           38.0      30033   \n",
              "1   Male    White  Non Hispanic          36.0           36.0      30033   \n",
              "2   Male    White  Non Hispanic          23.0           23.0      29013   \n",
              "3   Male    White  Non Hispanic          24.0           24.0      14011   \n",
              "4   Male  Unknown       Unknown          36.0           36.0      14011   \n",
              "\n",
              "                Judge_Name  Arrest_Type Offense_Date  \\\n",
              "0         Clynes, James G.          1.0   2019-11-01   \n",
              "1         Thompson, Ann D.          0.0   2020-01-01   \n",
              "2         McAndrews, David          1.0   2019-12-01   \n",
              "3  Johnson-Lee, Barbara R.          1.0   2019-12-01   \n",
              "4          Keane, Kevin J.          1.0   2019-12-01   \n",
              "\n",
              "  Top_Charge_Severity_at_Arrest  Top_Charge_Weight_at_Arrest  \\\n",
              "0                           3.0                          5.0   \n",
              "1                           3.0                          5.0   \n",
              "2                           3.0                          5.0   \n",
              "3                           3.0                          5.0   \n",
              "4                           3.0                          3.0   \n",
              "\n",
              "   Top_Charge_at_Arrest_Violent_Felony_Ind Arraign Charge Category  \\\n",
              "0                                      0.0                 Assault   \n",
              "1                                      0.0                 Larceny   \n",
              "2                                      0.0                    Drug   \n",
              "3                                      0.0                    Drug   \n",
              "4                                      0.0    Unlicensed Operation   \n",
              "\n",
              "  Representation_Type  prior_vfo_cnt  prior_nonvfo_cnt  prior_misd_cnt  \\\n",
              "0     Public Defender            0.0               0.0             0.0   \n",
              "1           Legal Aid            0.0               1.0            10.0   \n",
              "2             Unknown            0.0               0.0             0.0   \n",
              "3     Public Defender            0.0               0.0             0.0   \n",
              "4     Public Defender            0.0               0.0             4.0   \n",
              "\n",
              "   supervision  NMR_at_Arraign  Pretrial_Supervision_at_Arraign  \\\n",
              "0          0.0             0.0                              0.0   \n",
              "1          0.0             1.0                              1.0   \n",
              "2          0.0             0.0                              0.0   \n",
              "3          0.0             0.0                              0.0   \n",
              "4          0.0             0.0                              0.0   \n",
              "\n",
              "   Contact_Pretrial_Service_Agency  Electronic_Monitoring  \\\n",
              "0                              0.0                    0.0   \n",
              "1                              0.0                    0.0   \n",
              "2                              0.0                    0.0   \n",
              "3                              0.0                    0.0   \n",
              "4                              0.0                    0.0   \n",
              "\n",
              "   Travel_Restrictions  Passport_Surrender  No_Firearms_or_Weapons  \\\n",
              "0                  0.0                 0.0                     0.0   \n",
              "1                  0.0                 0.0                     0.0   \n",
              "2                  0.0                 0.0                     0.0   \n",
              "3                  0.0                 0.0                     0.0   \n",
              "4                  0.0                 0.0                     0.0   \n",
              "\n",
              "   Maintain_Employment  Maintain_Housing  Maintain_School  \\\n",
              "0                  0.0               0.0              0.0   \n",
              "1                  0.0               0.0              0.0   \n",
              "2                  0.0               0.0              0.0   \n",
              "3                  0.0               0.0              0.0   \n",
              "4                  0.0               0.0              0.0   \n",
              "\n",
              "   Placement_in_Mandatory_Program  Removal_to_Hospital  \\\n",
              "0                             0.0                  0.0   \n",
              "1                             0.0                  0.0   \n",
              "2                             0.0                  0.0   \n",
              "3                             0.0                  0.0   \n",
              "4                             0.0                  0.0   \n",
              "\n",
              "   Obey_Order_of_Protection  Obey_Court_Conditions-Family_Offense  Other_NMR  \\\n",
              "0                       0.0                                   0.0        0.0   \n",
              "1                       0.0                                   0.0        0.0   \n",
              "2                       0.0                                   0.0        0.0   \n",
              "3                       0.0                                   0.0        0.0   \n",
              "4                       0.0                                   0.0        0.0   \n",
              "\n",
              "   age_group_crime  age_group_arrest  \n",
              "0              3.0               3.0  \n",
              "1              3.0               3.0  \n",
              "2              1.0               1.0  \n",
              "3              1.0               1.0  \n",
              "4              3.0               3.0  "
            ],
            "text/html": [
              "\n",
              "  <div id=\"df-4d62b817-1133-4c41-a095-116b40063b96\">\n",
              "    <div class=\"colab-df-container\">\n",
              "      <div>\n",
              "<style scoped>\n",
              "    .dataframe tbody tr th:only-of-type {\n",
              "        vertical-align: middle;\n",
              "    }\n",
              "\n",
              "    .dataframe tbody tr th {\n",
              "        vertical-align: top;\n",
              "    }\n",
              "\n",
              "    .dataframe thead th {\n",
              "        text-align: right;\n",
              "    }\n",
              "</style>\n",
              "<table border=\"1\" class=\"dataframe\">\n",
              "  <thead>\n",
              "    <tr style=\"text-align: right;\">\n",
              "      <th></th>\n",
              "      <th>Gender</th>\n",
              "      <th>Race</th>\n",
              "      <th>Ethnicity</th>\n",
              "      <th>Age_at_Crime</th>\n",
              "      <th>Age_at_Arrest</th>\n",
              "      <th>Court_ORI</th>\n",
              "      <th>Judge_Name</th>\n",
              "      <th>Arrest_Type</th>\n",
              "      <th>Offense_Date</th>\n",
              "      <th>Top_Charge_Severity_at_Arrest</th>\n",
              "      <th>Top_Charge_Weight_at_Arrest</th>\n",
              "      <th>Top_Charge_at_Arrest_Violent_Felony_Ind</th>\n",
              "      <th>Arraign Charge Category</th>\n",
              "      <th>Representation_Type</th>\n",
              "      <th>prior_vfo_cnt</th>\n",
              "      <th>prior_nonvfo_cnt</th>\n",
              "      <th>prior_misd_cnt</th>\n",
              "      <th>supervision</th>\n",
              "      <th>NMR_at_Arraign</th>\n",
              "      <th>Pretrial_Supervision_at_Arraign</th>\n",
              "      <th>Contact_Pretrial_Service_Agency</th>\n",
              "      <th>Electronic_Monitoring</th>\n",
              "      <th>Travel_Restrictions</th>\n",
              "      <th>Passport_Surrender</th>\n",
              "      <th>No_Firearms_or_Weapons</th>\n",
              "      <th>Maintain_Employment</th>\n",
              "      <th>Maintain_Housing</th>\n",
              "      <th>Maintain_School</th>\n",
              "      <th>Placement_in_Mandatory_Program</th>\n",
              "      <th>Removal_to_Hospital</th>\n",
              "      <th>Obey_Order_of_Protection</th>\n",
              "      <th>Obey_Court_Conditions-Family_Offense</th>\n",
              "      <th>Other_NMR</th>\n",
              "      <th>age_group_crime</th>\n",
              "      <th>age_group_arrest</th>\n",
              "    </tr>\n",
              "  </thead>\n",
              "  <tbody>\n",
              "    <tr>\n",
              "      <th>0</th>\n",
              "      <td>Male</td>\n",
              "      <td>Black</td>\n",
              "      <td>Non Hispanic</td>\n",
              "      <td>38.0</td>\n",
              "      <td>38.0</td>\n",
              "      <td>30033</td>\n",
              "      <td>Clynes, James G.</td>\n",
              "      <td>1.0</td>\n",
              "      <td>2019-11-01</td>\n",
              "      <td>3.0</td>\n",
              "      <td>5.0</td>\n",
              "      <td>0.0</td>\n",
              "      <td>Assault</td>\n",
              "      <td>Public Defender</td>\n",
              "      <td>0.0</td>\n",
              "      <td>0.0</td>\n",
              "      <td>0.0</td>\n",
              "      <td>0.0</td>\n",
              "      <td>0.0</td>\n",
              "      <td>0.0</td>\n",
              "      <td>0.0</td>\n",
              "      <td>0.0</td>\n",
              "      <td>0.0</td>\n",
              "      <td>0.0</td>\n",
              "      <td>0.0</td>\n",
              "      <td>0.0</td>\n",
              "      <td>0.0</td>\n",
              "      <td>0.0</td>\n",
              "      <td>0.0</td>\n",
              "      <td>0.0</td>\n",
              "      <td>0.0</td>\n",
              "      <td>0.0</td>\n",
              "      <td>0.0</td>\n",
              "      <td>3.0</td>\n",
              "      <td>3.0</td>\n",
              "    </tr>\n",
              "    <tr>\n",
              "      <th>1</th>\n",
              "      <td>Male</td>\n",
              "      <td>White</td>\n",
              "      <td>Non Hispanic</td>\n",
              "      <td>36.0</td>\n",
              "      <td>36.0</td>\n",
              "      <td>30033</td>\n",
              "      <td>Thompson, Ann D.</td>\n",
              "      <td>0.0</td>\n",
              "      <td>2020-01-01</td>\n",
              "      <td>3.0</td>\n",
              "      <td>5.0</td>\n",
              "      <td>0.0</td>\n",
              "      <td>Larceny</td>\n",
              "      <td>Legal Aid</td>\n",
              "      <td>0.0</td>\n",
              "      <td>1.0</td>\n",
              "      <td>10.0</td>\n",
              "      <td>0.0</td>\n",
              "      <td>1.0</td>\n",
              "      <td>1.0</td>\n",
              "      <td>0.0</td>\n",
              "      <td>0.0</td>\n",
              "      <td>0.0</td>\n",
              "      <td>0.0</td>\n",
              "      <td>0.0</td>\n",
              "      <td>0.0</td>\n",
              "      <td>0.0</td>\n",
              "      <td>0.0</td>\n",
              "      <td>0.0</td>\n",
              "      <td>0.0</td>\n",
              "      <td>0.0</td>\n",
              "      <td>0.0</td>\n",
              "      <td>0.0</td>\n",
              "      <td>3.0</td>\n",
              "      <td>3.0</td>\n",
              "    </tr>\n",
              "    <tr>\n",
              "      <th>2</th>\n",
              "      <td>Male</td>\n",
              "      <td>White</td>\n",
              "      <td>Non Hispanic</td>\n",
              "      <td>23.0</td>\n",
              "      <td>23.0</td>\n",
              "      <td>29013</td>\n",
              "      <td>McAndrews, David</td>\n",
              "      <td>1.0</td>\n",
              "      <td>2019-12-01</td>\n",
              "      <td>3.0</td>\n",
              "      <td>5.0</td>\n",
              "      <td>0.0</td>\n",
              "      <td>Drug</td>\n",
              "      <td>Unknown</td>\n",
              "      <td>0.0</td>\n",
              "      <td>0.0</td>\n",
              "      <td>0.0</td>\n",
              "      <td>0.0</td>\n",
              "      <td>0.0</td>\n",
              "      <td>0.0</td>\n",
              "      <td>0.0</td>\n",
              "      <td>0.0</td>\n",
              "      <td>0.0</td>\n",
              "      <td>0.0</td>\n",
              "      <td>0.0</td>\n",
              "      <td>0.0</td>\n",
              "      <td>0.0</td>\n",
              "      <td>0.0</td>\n",
              "      <td>0.0</td>\n",
              "      <td>0.0</td>\n",
              "      <td>0.0</td>\n",
              "      <td>0.0</td>\n",
              "      <td>0.0</td>\n",
              "      <td>1.0</td>\n",
              "      <td>1.0</td>\n",
              "    </tr>\n",
              "    <tr>\n",
              "      <th>3</th>\n",
              "      <td>Male</td>\n",
              "      <td>White</td>\n",
              "      <td>Non Hispanic</td>\n",
              "      <td>24.0</td>\n",
              "      <td>24.0</td>\n",
              "      <td>14011</td>\n",
              "      <td>Johnson-Lee, Barbara R.</td>\n",
              "      <td>1.0</td>\n",
              "      <td>2019-12-01</td>\n",
              "      <td>3.0</td>\n",
              "      <td>5.0</td>\n",
              "      <td>0.0</td>\n",
              "      <td>Drug</td>\n",
              "      <td>Public Defender</td>\n",
              "      <td>0.0</td>\n",
              "      <td>0.0</td>\n",
              "      <td>0.0</td>\n",
              "      <td>0.0</td>\n",
              "      <td>0.0</td>\n",
              "      <td>0.0</td>\n",
              "      <td>0.0</td>\n",
              "      <td>0.0</td>\n",
              "      <td>0.0</td>\n",
              "      <td>0.0</td>\n",
              "      <td>0.0</td>\n",
              "      <td>0.0</td>\n",
              "      <td>0.0</td>\n",
              "      <td>0.0</td>\n",
              "      <td>0.0</td>\n",
              "      <td>0.0</td>\n",
              "      <td>0.0</td>\n",
              "      <td>0.0</td>\n",
              "      <td>0.0</td>\n",
              "      <td>1.0</td>\n",
              "      <td>1.0</td>\n",
              "    </tr>\n",
              "    <tr>\n",
              "      <th>4</th>\n",
              "      <td>Male</td>\n",
              "      <td>Unknown</td>\n",
              "      <td>Unknown</td>\n",
              "      <td>36.0</td>\n",
              "      <td>36.0</td>\n",
              "      <td>14011</td>\n",
              "      <td>Keane, Kevin J.</td>\n",
              "      <td>1.0</td>\n",
              "      <td>2019-12-01</td>\n",
              "      <td>3.0</td>\n",
              "      <td>3.0</td>\n",
              "      <td>0.0</td>\n",
              "      <td>Unlicensed Operation</td>\n",
              "      <td>Public Defender</td>\n",
              "      <td>0.0</td>\n",
              "      <td>0.0</td>\n",
              "      <td>4.0</td>\n",
              "      <td>0.0</td>\n",
              "      <td>0.0</td>\n",
              "      <td>0.0</td>\n",
              "      <td>0.0</td>\n",
              "      <td>0.0</td>\n",
              "      <td>0.0</td>\n",
              "      <td>0.0</td>\n",
              "      <td>0.0</td>\n",
              "      <td>0.0</td>\n",
              "      <td>0.0</td>\n",
              "      <td>0.0</td>\n",
              "      <td>0.0</td>\n",
              "      <td>0.0</td>\n",
              "      <td>0.0</td>\n",
              "      <td>0.0</td>\n",
              "      <td>0.0</td>\n",
              "      <td>3.0</td>\n",
              "      <td>3.0</td>\n",
              "    </tr>\n",
              "  </tbody>\n",
              "</table>\n",
              "</div>\n",
              "      <button class=\"colab-df-convert\" onclick=\"convertToInteractive('df-4d62b817-1133-4c41-a095-116b40063b96')\"\n",
              "              title=\"Convert this dataframe to an interactive table.\"\n",
              "              style=\"display:none;\">\n",
              "        \n",
              "  <svg xmlns=\"http://www.w3.org/2000/svg\" height=\"24px\"viewBox=\"0 0 24 24\"\n",
              "       width=\"24px\">\n",
              "    <path d=\"M0 0h24v24H0V0z\" fill=\"none\"/>\n",
              "    <path d=\"M18.56 5.44l.94 2.06.94-2.06 2.06-.94-2.06-.94-.94-2.06-.94 2.06-2.06.94zm-11 1L8.5 8.5l.94-2.06 2.06-.94-2.06-.94L8.5 2.5l-.94 2.06-2.06.94zm10 10l.94 2.06.94-2.06 2.06-.94-2.06-.94-.94-2.06-.94 2.06-2.06.94z\"/><path d=\"M17.41 7.96l-1.37-1.37c-.4-.4-.92-.59-1.43-.59-.52 0-1.04.2-1.43.59L10.3 9.45l-7.72 7.72c-.78.78-.78 2.05 0 2.83L4 21.41c.39.39.9.59 1.41.59.51 0 1.02-.2 1.41-.59l7.78-7.78 2.81-2.81c.8-.78.8-2.07 0-2.86zM5.41 20L4 18.59l7.72-7.72 1.47 1.35L5.41 20z\"/>\n",
              "  </svg>\n",
              "      </button>\n",
              "      \n",
              "  <style>\n",
              "    .colab-df-container {\n",
              "      display:flex;\n",
              "      flex-wrap:wrap;\n",
              "      gap: 12px;\n",
              "    }\n",
              "\n",
              "    .colab-df-convert {\n",
              "      background-color: #E8F0FE;\n",
              "      border: none;\n",
              "      border-radius: 50%;\n",
              "      cursor: pointer;\n",
              "      display: none;\n",
              "      fill: #1967D2;\n",
              "      height: 32px;\n",
              "      padding: 0 0 0 0;\n",
              "      width: 32px;\n",
              "    }\n",
              "\n",
              "    .colab-df-convert:hover {\n",
              "      background-color: #E2EBFA;\n",
              "      box-shadow: 0px 1px 2px rgba(60, 64, 67, 0.3), 0px 1px 3px 1px rgba(60, 64, 67, 0.15);\n",
              "      fill: #174EA6;\n",
              "    }\n",
              "\n",
              "    [theme=dark] .colab-df-convert {\n",
              "      background-color: #3B4455;\n",
              "      fill: #D2E3FC;\n",
              "    }\n",
              "\n",
              "    [theme=dark] .colab-df-convert:hover {\n",
              "      background-color: #434B5C;\n",
              "      box-shadow: 0px 1px 3px 1px rgba(0, 0, 0, 0.15);\n",
              "      filter: drop-shadow(0px 1px 2px rgba(0, 0, 0, 0.3));\n",
              "      fill: #FFFFFF;\n",
              "    }\n",
              "  </style>\n",
              "\n",
              "      <script>\n",
              "        const buttonEl =\n",
              "          document.querySelector('#df-4d62b817-1133-4c41-a095-116b40063b96 button.colab-df-convert');\n",
              "        buttonEl.style.display =\n",
              "          google.colab.kernel.accessAllowed ? 'block' : 'none';\n",
              "\n",
              "        async function convertToInteractive(key) {\n",
              "          const element = document.querySelector('#df-4d62b817-1133-4c41-a095-116b40063b96');\n",
              "          const dataTable =\n",
              "            await google.colab.kernel.invokeFunction('convertToInteractive',\n",
              "                                                     [key], {});\n",
              "          if (!dataTable) return;\n",
              "\n",
              "          const docLinkHtml = 'Like what you see? Visit the ' +\n",
              "            '<a target=\"_blank\" href=https://colab.research.google.com/notebooks/data_table.ipynb>data table notebook</a>'\n",
              "            + ' to learn more about interactive tables.';\n",
              "          element.innerHTML = '';\n",
              "          dataTable['output_type'] = 'display_data';\n",
              "          await google.colab.output.renderOutput(dataTable, element);\n",
              "          const docLink = document.createElement('div');\n",
              "          docLink.innerHTML = docLinkHtml;\n",
              "          element.appendChild(docLink);\n",
              "        }\n",
              "      </script>\n",
              "    </div>\n",
              "  </div>\n",
              "  "
            ]
          },
          "metadata": {},
          "execution_count": 6
        }
      ]
    },
    {
      "cell_type": "code",
      "source": [
        "df.info()"
      ],
      "metadata": {
        "colab": {
          "base_uri": "https://localhost:8080/"
        },
        "id": "nKHCNdPB_6tF",
        "outputId": "5893f7ac-c6ca-4427-f60e-4d45962da36e"
      },
      "execution_count": null,
      "outputs": [
        {
          "output_type": "stream",
          "name": "stdout",
          "text": [
            "<class 'pandas.core.frame.DataFrame'>\n",
            "Int64Index: 278454 entries, 0 to 278453\n",
            "Data columns (total 35 columns):\n",
            " #   Column                                   Non-Null Count   Dtype         \n",
            "---  ------                                   --------------   -----         \n",
            " 0   Gender                                   278454 non-null  object        \n",
            " 1   Race                                     278454 non-null  object        \n",
            " 2   Ethnicity                                278454 non-null  object        \n",
            " 3   Age_at_Crime                             278454 non-null  float64       \n",
            " 4   Age_at_Arrest                            278454 non-null  float64       \n",
            " 5   Court_ORI                                278454 non-null  int64         \n",
            " 6   Judge_Name                               278454 non-null  object        \n",
            " 7   Arrest_Type                              278454 non-null  float64       \n",
            " 8   Offense_Date                             278454 non-null  datetime64[ns]\n",
            " 9   Top_Charge_Severity_at_Arrest            278454 non-null  object        \n",
            " 10  Top_Charge_Weight_at_Arrest              278454 non-null  float64       \n",
            " 11  Top_Charge_at_Arrest_Violent_Felony_Ind  278454 non-null  float64       \n",
            " 12  Arraign Charge Category                  278454 non-null  object        \n",
            " 13  Representation_Type                      278454 non-null  object        \n",
            " 14  prior_vfo_cnt                            278454 non-null  float64       \n",
            " 15  prior_nonvfo_cnt                         278454 non-null  float64       \n",
            " 16  prior_misd_cnt                           278454 non-null  float64       \n",
            " 17  supervision                              278454 non-null  float64       \n",
            " 18  NMR_at_Arraign                           278454 non-null  float64       \n",
            " 19  Pretrial_Supervision_at_Arraign          278454 non-null  float64       \n",
            " 20  Contact_Pretrial_Service_Agency          278454 non-null  float64       \n",
            " 21  Electronic_Monitoring                    278454 non-null  float64       \n",
            " 22  Travel_Restrictions                      278454 non-null  float64       \n",
            " 23  Passport_Surrender                       278454 non-null  float64       \n",
            " 24  No_Firearms_or_Weapons                   278454 non-null  float64       \n",
            " 25  Maintain_Employment                      278454 non-null  float64       \n",
            " 26  Maintain_Housing                         278454 non-null  float64       \n",
            " 27  Maintain_School                          278454 non-null  float64       \n",
            " 28  Placement_in_Mandatory_Program           278454 non-null  float64       \n",
            " 29  Removal_to_Hospital                      278454 non-null  float64       \n",
            " 30  Obey_Order_of_Protection                 278454 non-null  float64       \n",
            " 31  Obey_Court_Conditions-Family_Offense     278454 non-null  float64       \n",
            " 32  Other_NMR                                278454 non-null  float64       \n",
            " 33  age_group_crime                          278454 non-null  float64       \n",
            " 34  age_group_arrest                         278454 non-null  float64       \n",
            "dtypes: datetime64[ns](1), float64(26), int64(1), object(7)\n",
            "memory usage: 76.5+ MB\n"
          ]
        }
      ]
    },
    {
      "cell_type": "code",
      "source": [
        "df.nunique()"
      ],
      "metadata": {
        "colab": {
          "base_uri": "https://localhost:8080/"
        },
        "id": "kUZlUEA1_4xg",
        "outputId": "7cf8daea-b3e0-4478-dc52-c1ebed3f2b86"
      },
      "execution_count": null,
      "outputs": [
        {
          "output_type": "execute_result",
          "data": {
            "text/plain": [
              "Gender                                       3\n",
              "Race                                         6\n",
              "Ethnicity                                    3\n",
              "Age_at_Crime                                79\n",
              "Age_at_Arrest                               76\n",
              "Court_ORI                                   71\n",
              "Judge_Name                                 671\n",
              "Arrest_Type                                  2\n",
              "Offense_Date                                42\n",
              "Top_Charge_Severity_at_Arrest                5\n",
              "Top_Charge_Weight_at_Arrest                 11\n",
              "Top_Charge_at_Arrest_Violent_Felony_Ind      2\n",
              "Arraign Charge Category                     20\n",
              "Representation_Type                          9\n",
              "prior_vfo_cnt                                3\n",
              "prior_nonvfo_cnt                             5\n",
              "prior_misd_cnt                              11\n",
              "supervision                                  2\n",
              "NMR_at_Arraign                               2\n",
              "Pretrial_Supervision_at_Arraign              2\n",
              "Contact_Pretrial_Service_Agency              2\n",
              "Electronic_Monitoring                        2\n",
              "Travel_Restrictions                          2\n",
              "Passport_Surrender                           2\n",
              "No_Firearms_or_Weapons                       2\n",
              "Maintain_Employment                          2\n",
              "Maintain_Housing                             2\n",
              "Maintain_School                              2\n",
              "Placement_in_Mandatory_Program               2\n",
              "Removal_to_Hospital                          2\n",
              "Obey_Order_of_Protection                     2\n",
              "Obey_Court_Conditions-Family_Offense         2\n",
              "Other_NMR                                    2\n",
              "age_group_crime                              7\n",
              "age_group_arrest                             6\n",
              "dtype: int64"
            ]
          },
          "metadata": {},
          "execution_count": 8
        }
      ]
    },
    {
      "cell_type": "markdown",
      "source": [
        "# Analyzing the Dataset for NMR"
      ],
      "metadata": {
        "id": "adcFcRDGvRlQ"
      }
    },
    {
      "cell_type": "code",
      "source": [
        "#Make a pie chart of whether or not NMR is assigned\n",
        "# Creating plot\n",
        "df['NMR_at_Arraign'].value_counts()\n",
        "NMR_counts = [251908, 26546]\n",
        "labels = ['No NMR', 'NMR']\n",
        "\n",
        "plt.pie(NMR_counts, labels=labels, autopct=\"%1.1f%%\")\n",
        "plt.title(\"Non-Monetary Restrictions at Arraignment\")\n",
        "plt.show()"
      ],
      "metadata": {
        "colab": {
          "base_uri": "https://localhost:8080/",
          "height": 264
        },
        "id": "EgYwrEGWvWH5",
        "outputId": "0e2a3041-a914-4650-e48e-c22ab11851ba"
      },
      "execution_count": null,
      "outputs": [
        {
          "output_type": "display_data",
          "data": {
            "text/plain": [
              "<Figure size 432x288 with 1 Axes>"
            ],
            "image/png": "[encoded data removed]"
          },
          "metadata": {}
        }
      ]
    },
    {
      "cell_type": "code",
      "source": [
        "#Counts of NMR_at_Arraign by Gender\n",
        "dfg = df.groupby(\"Gender\")[\"NMR_at_Arraign\"].value_counts(normalize =True)\n",
        "dfg"
      ],
      "metadata": {
        "colab": {
          "base_uri": "https://localhost:8080/"
        },
        "id": "bdJVvS5lydNO",
        "outputId": "a4baa883-1459-4730-ea9a-b1ccf58464b1"
      },
      "execution_count": null,
      "outputs": [
        {
          "output_type": "execute_result",
          "data": {
            "text/plain": [
              "Gender   NMR_at_Arraign\n",
              "Female   0.0               0.927099\n",
              "         1.0               0.072901\n",
              "Male     0.0               0.898757\n",
              "         1.0               0.101243\n",
              "Unknown  0.0               0.966781\n",
              "         1.0               0.033219\n",
              "Name: NMR_at_Arraign, dtype: float64"
            ]
          },
          "metadata": {},
          "execution_count": 9
        }
      ]
    },
    {
      "cell_type": "code",
      "source": [
        "#Create Plot of Gender Percentage with NMR\n",
        "Gender = ['Female', 'Male', 'Unkown']\n",
        "gender_nmr = [ dfg[1], dfg[3], dfg[5]]\n",
        "\n",
        "fig = plt.figure()\n",
        "ax = fig.add_axes([0,0,1,1])\n",
        "ax.bar(Gender, gender_nmr)\n",
        "ax.set_title('Percentage of Person with NMR by Gender')\n",
        "plt.show()"
      ],
      "metadata": {
        "colab": {
          "base_uri": "https://localhost:8080/",
          "height": 352
        },
        "id": "KiHHjqaM2Yi1",
        "outputId": "c50796fc-bc23-43bb-8f3e-7d1836d0a07f"
      },
      "execution_count": null,
      "outputs": [
        {
          "output_type": "display_data",
          "data": {
            "text/plain": [
              "<Figure size 432x288 with 1 Axes>"
            ],
            "image/png": "[encoded data removed]"
          },
          "metadata": {
            "needs_background": "light"
          }
        }
      ]
    },
    {
      "cell_type": "code",
      "source": [
        "#Counts of NMR_at_Arraign by Gender\n",
        "dfr = df.groupby(\"Race\")[\"NMR_at_Arraign\"].value_counts(normalize =True)\n",
        "dfr"
      ],
      "metadata": {
        "colab": {
          "base_uri": "https://localhost:8080/"
        },
        "id": "OkDOCF0P4rC0",
        "outputId": "147308ab-8ea2-424f-eb41-f988d9e86b8b"
      },
      "execution_count": null,
      "outputs": [
        {
          "output_type": "execute_result",
          "data": {
            "text/plain": [
              "Race                            NMR_at_Arraign\n",
              "American Indian/Alaskan Native  0.0               0.938776\n",
              "                                1.0               0.061224\n",
              "Asian/Pacific Islander          0.0               0.924658\n",
              "                                1.0               0.075342\n",
              "Black                           0.0               0.884408\n",
              "                                1.0               0.115592\n",
              "Other                           0.0               0.917208\n",
              "                                1.0               0.082792\n",
              "Unknown                         0.0               0.956105\n",
              "                                1.0               0.043895\n",
              "White                           0.0               0.897144\n",
              "                                1.0               0.102856\n",
              "Name: NMR_at_Arraign, dtype: float64"
            ]
          },
          "metadata": {},
          "execution_count": 11
        }
      ]
    },
    {
      "cell_type": "code",
      "source": [
        "#Create Plot of Gender Percentage with NMR\n",
        "Gender = ['American Indian/Alakan Native', 'Asian/Pacific Islander', 'Black', 'Other', 'Unknown', 'White']\n",
        "gender_nmr = [ dfr[1], dfr[3], dfr[5], dfr[7], dfr[9], dfr[11]]\n",
        "\n",
        "fig = plt.figure()\n",
        "ax = fig.add_axes([0,0,1,1])\n",
        "ax.bar(Gender, gender_nmr)\n",
        "ax.set_title('Percentage of Person with NMR by Race')\n",
        "plt.xticks(rotation=90)\n",
        "plt.show()"
      ],
      "metadata": {
        "colab": {
          "base_uri": "https://localhost:8080/",
          "height": 497
        },
        "id": "z0xmKuz34-BB",
        "outputId": "572ab90f-df3a-495c-8d07-8df075d28321"
      },
      "execution_count": null,
      "outputs": [
        {
          "output_type": "display_data",
          "data": {
            "text/plain": [
              "<Figure size 432x288 with 1 Axes>"
            ],
            "image/png": "[encoded data removed]"
          },
          "metadata": {
            "needs_background": "light"
          }
        }
      ]
    },
    {
      "cell_type": "markdown",
      "source": [
        "# Creating Prediction Models for NMR"
      ],
      "metadata": {
        "id": "laJ-VwZQ9_81"
      }
    },
    {
      "cell_type": "code",
      "execution_count": null,
      "metadata": {
        "id": "DbalV9ovLel1"
      },
      "outputs": [],
      "source": [
        "#Separate to features and labels\n",
        "df_clean = df.drop(['Age_at_Crime', 'Age_at_Arrest', 'Offense_Date'], axis = 1)\n",
        "features = df_clean.drop(pred_cols, axis = 1)\n",
        "labels = df['NMR_at_Arraign'].copy()"
      ]
    },
    {
      "cell_type": "code",
      "source": [
        "features.head()"
      ],
      "metadata": {
        "colab": {
          "base_uri": "https://localhost:8080/",
          "height": 409
        },
        "id": "CHoUwKln4O9u",
        "outputId": "94de579d-8204-40a9-afb1-9086d3bbab40"
      },
      "execution_count": null,
      "outputs": [
        {
          "output_type": "execute_result",
          "data": {
            "text/plain": [
              "  Gender     Race     Ethnicity  Court_ORI               Judge_Name  \\\n",
              "0   Male    Black  Non Hispanic      30033         Clynes, James G.   \n",
              "1   Male    White  Non Hispanic      30033         Thompson, Ann D.   \n",
              "2   Male    White  Non Hispanic      29013         McAndrews, David   \n",
              "3   Male    White  Non Hispanic      14011  Johnson-Lee, Barbara R.   \n",
              "4   Male  Unknown       Unknown      14011          Keane, Kevin J.   \n",
              "\n",
              "   Arrest_Type Top_Charge_Severity_at_Arrest  Top_Charge_Weight_at_Arrest  \\\n",
              "0          1.0                           3.0                          5.0   \n",
              "1          0.0                           3.0                          5.0   \n",
              "2          1.0                           3.0                          5.0   \n",
              "3          1.0                           3.0                          5.0   \n",
              "4          1.0                           3.0                          3.0   \n",
              "\n",
              "   Top_Charge_at_Arrest_Violent_Felony_Ind Arraign Charge Category  \\\n",
              "0                                      0.0                 Assault   \n",
              "1                                      0.0                 Larceny   \n",
              "2                                      0.0                    Drug   \n",
              "3                                      0.0                    Drug   \n",
              "4                                      0.0    Unlicensed Operation   \n",
              "\n",
              "  Representation_Type  prior_vfo_cnt  prior_nonvfo_cnt  prior_misd_cnt  \\\n",
              "0     Public Defender            0.0               0.0             0.0   \n",
              "1           Legal Aid            0.0               1.0            10.0   \n",
              "2             Unknown            0.0               0.0             0.0   \n",
              "3     Public Defender            0.0               0.0             0.0   \n",
              "4     Public Defender            0.0               0.0             4.0   \n",
              "\n",
              "   supervision  age_group_crime  age_group_arrest  \n",
              "0          0.0              3.0               3.0  \n",
              "1          0.0              3.0               3.0  \n",
              "2          0.0              1.0               1.0  \n",
              "3          0.0              1.0               1.0  \n",
              "4          0.0              3.0               3.0  "
            ],
            "text/html": [
              "\n",
              "  <div id=\"df-b0ace669-f31c-40c6-8313-f21881f923e1\">\n",
              "    <div class=\"colab-df-container\">\n",
              "      <div>\n",
              "<style scoped>\n",
              "    .dataframe tbody tr th:only-of-type {\n",
              "        vertical-align: middle;\n",
              "    }\n",
              "\n",
              "    .dataframe tbody tr th {\n",
              "        vertical-align: top;\n",
              "    }\n",
              "\n",
              "    .dataframe thead th {\n",
              "        text-align: right;\n",
              "    }\n",
              "</style>\n",
              "<table border=\"1\" class=\"dataframe\">\n",
              "  <thead>\n",
              "    <tr style=\"text-align: right;\">\n",
              "      <th></th>\n",
              "      <th>Gender</th>\n",
              "      <th>Race</th>\n",
              "      <th>Ethnicity</th>\n",
              "      <th>Court_ORI</th>\n",
              "      <th>Judge_Name</th>\n",
              "      <th>Arrest_Type</th>\n",
              "      <th>Top_Charge_Severity_at_Arrest</th>\n",
              "      <th>Top_Charge_Weight_at_Arrest</th>\n",
              "      <th>Top_Charge_at_Arrest_Violent_Felony_Ind</th>\n",
              "      <th>Arraign Charge Category</th>\n",
              "      <th>Representation_Type</th>\n",
              "      <th>prior_vfo_cnt</th>\n",
              "      <th>prior_nonvfo_cnt</th>\n",
              "      <th>prior_misd_cnt</th>\n",
              "      <th>supervision</th>\n",
              "      <th>age_group_crime</th>\n",
              "      <th>age_group_arrest</th>\n",
              "    </tr>\n",
              "  </thead>\n",
              "  <tbody>\n",
              "    <tr>\n",
              "      <th>0</th>\n",
              "      <td>Male</td>\n",
              "      <td>Black</td>\n",
              "      <td>Non Hispanic</td>\n",
              "      <td>30033</td>\n",
              "      <td>Clynes, James G.</td>\n",
              "      <td>1.0</td>\n",
              "      <td>3.0</td>\n",
              "      <td>5.0</td>\n",
              "      <td>0.0</td>\n",
              "      <td>Assault</td>\n",
              "      <td>Public Defender</td>\n",
              "      <td>0.0</td>\n",
              "      <td>0.0</td>\n",
              "      <td>0.0</td>\n",
              "      <td>0.0</td>\n",
              "      <td>3.0</td>\n",
              "      <td>3.0</td>\n",
              "    </tr>\n",
              "    <tr>\n",
              "      <th>1</th>\n",
              "      <td>Male</td>\n",
              "      <td>White</td>\n",
              "      <td>Non Hispanic</td>\n",
              "      <td>30033</td>\n",
              "      <td>Thompson, Ann D.</td>\n",
              "      <td>0.0</td>\n",
              "      <td>3.0</td>\n",
              "      <td>5.0</td>\n",
              "      <td>0.0</td>\n",
              "      <td>Larceny</td>\n",
              "      <td>Legal Aid</td>\n",
              "      <td>0.0</td>\n",
              "      <td>1.0</td>\n",
              "      <td>10.0</td>\n",
              "      <td>0.0</td>\n",
              "      <td>3.0</td>\n",
              "      <td>3.0</td>\n",
              "    </tr>\n",
              "    <tr>\n",
              "      <th>2</th>\n",
              "      <td>Male</td>\n",
              "      <td>White</td>\n",
              "      <td>Non Hispanic</td>\n",
              "      <td>29013</td>\n",
              "      <td>McAndrews, David</td>\n",
              "      <td>1.0</td>\n",
              "      <td>3.0</td>\n",
              "      <td>5.0</td>\n",
              "      <td>0.0</td>\n",
              "      <td>Drug</td>\n",
              "      <td>Unknown</td>\n",
              "      <td>0.0</td>\n",
              "      <td>0.0</td>\n",
              "      <td>0.0</td>\n",
              "      <td>0.0</td>\n",
              "      <td>1.0</td>\n",
              "      <td>1.0</td>\n",
              "    </tr>\n",
              "    <tr>\n",
              "      <th>3</th>\n",
              "      <td>Male</td>\n",
              "      <td>White</td>\n",
              "      <td>Non Hispanic</td>\n",
              "      <td>14011</td>\n",
              "      <td>Johnson-Lee, Barbara R.</td>\n",
              "      <td>1.0</td>\n",
              "      <td>3.0</td>\n",
              "      <td>5.0</td>\n",
              "      <td>0.0</td>\n",
              "      <td>Drug</td>\n",
              "      <td>Public Defender</td>\n",
              "      <td>0.0</td>\n",
              "      <td>0.0</td>\n",
              "      <td>0.0</td>\n",
              "      <td>0.0</td>\n",
              "      <td>1.0</td>\n",
              "      <td>1.0</td>\n",
              "    </tr>\n",
              "    <tr>\n",
              "      <th>4</th>\n",
              "      <td>Male</td>\n",
              "      <td>Unknown</td>\n",
              "      <td>Unknown</td>\n",
              "      <td>14011</td>\n",
              "      <td>Keane, Kevin J.</td>\n",
              "      <td>1.0</td>\n",
              "      <td>3.0</td>\n",
              "      <td>3.0</td>\n",
              "      <td>0.0</td>\n",
              "      <td>Unlicensed Operation</td>\n",
              "      <td>Public Defender</td>\n",
              "      <td>0.0</td>\n",
              "      <td>0.0</td>\n",
              "      <td>4.0</td>\n",
              "      <td>0.0</td>\n",
              "      <td>3.0</td>\n",
              "      <td>3.0</td>\n",
              "    </tr>\n",
              "  </tbody>\n",
              "</table>\n",
              "</div>\n",
              "      <button class=\"colab-df-convert\" onclick=\"convertToInteractive('df-b0ace669-f31c-40c6-8313-f21881f923e1')\"\n",
              "              title=\"Convert this dataframe to an interactive table.\"\n",
              "              style=\"display:none;\">\n",
              "        \n",
              "  <svg xmlns=\"http://www.w3.org/2000/svg\" height=\"24px\"viewBox=\"0 0 24 24\"\n",
              "       width=\"24px\">\n",
              "    <path d=\"M0 0h24v24H0V0z\" fill=\"none\"/>\n",
              "    <path d=\"M18.56 5.44l.94 2.06.94-2.06 2.06-.94-2.06-.94-.94-2.06-.94 2.06-2.06.94zm-11 1L8.5 8.5l.94-2.06 2.06-.94-2.06-.94L8.5 2.5l-.94 2.06-2.06.94zm10 10l.94 2.06.94-2.06 2.06-.94-2.06-.94-.94-2.06-.94 2.06-2.06.94z\"/><path d=\"M17.41 7.96l-1.37-1.37c-.4-.4-.92-.59-1.43-.59-.52 0-1.04.2-1.43.59L10.3 9.45l-7.72 7.72c-.78.78-.78 2.05 0 2.83L4 21.41c.39.39.9.59 1.41.59.51 0 1.02-.2 1.41-.59l7.78-7.78 2.81-2.81c.8-.78.8-2.07 0-2.86zM5.41 20L4 18.59l7.72-7.72 1.47 1.35L5.41 20z\"/>\n",
              "  </svg>\n",
              "      </button>\n",
              "      \n",
              "  <style>\n",
              "    .colab-df-container {\n",
              "      display:flex;\n",
              "      flex-wrap:wrap;\n",
              "      gap: 12px;\n",
              "    }\n",
              "\n",
              "    .colab-df-convert {\n",
              "      background-color: #E8F0FE;\n",
              "      border: none;\n",
              "      border-radius: 50%;\n",
              "      cursor: pointer;\n",
              "      display: none;\n",
              "      fill: #1967D2;\n",
              "      height: 32px;\n",
              "      padding: 0 0 0 0;\n",
              "      width: 32px;\n",
              "    }\n",
              "\n",
              "    .colab-df-convert:hover {\n",
              "      background-color: #E2EBFA;\n",
              "      box-shadow: 0px 1px 2px rgba(60, 64, 67, 0.3), 0px 1px 3px 1px rgba(60, 64, 67, 0.15);\n",
              "      fill: #174EA6;\n",
              "    }\n",
              "\n",
              "    [theme=dark] .colab-df-convert {\n",
              "      background-color: #3B4455;\n",
              "      fill: #D2E3FC;\n",
              "    }\n",
              "\n",
              "    [theme=dark] .colab-df-convert:hover {\n",
              "      background-color: #434B5C;\n",
              "      box-shadow: 0px 1px 3px 1px rgba(0, 0, 0, 0.15);\n",
              "      filter: drop-shadow(0px 1px 2px rgba(0, 0, 0, 0.3));\n",
              "      fill: #FFFFFF;\n",
              "    }\n",
              "  </style>\n",
              "\n",
              "      <script>\n",
              "        const buttonEl =\n",
              "          document.querySelector('#df-b0ace669-f31c-40c6-8313-f21881f923e1 button.colab-df-convert');\n",
              "        buttonEl.style.display =\n",
              "          google.colab.kernel.accessAllowed ? 'block' : 'none';\n",
              "\n",
              "        async function convertToInteractive(key) {\n",
              "          const element = document.querySelector('#df-b0ace669-f31c-40c6-8313-f21881f923e1');\n",
              "          const dataTable =\n",
              "            await google.colab.kernel.invokeFunction('convertToInteractive',\n",
              "                                                     [key], {});\n",
              "          if (!dataTable) return;\n",
              "\n",
              "          const docLinkHtml = 'Like what you see? Visit the ' +\n",
              "            '<a target=\"_blank\" href=https://colab.research.google.com/notebooks/data_table.ipynb>data table notebook</a>'\n",
              "            + ' to learn more about interactive tables.';\n",
              "          element.innerHTML = '';\n",
              "          dataTable['output_type'] = 'display_data';\n",
              "          await google.colab.output.renderOutput(dataTable, element);\n",
              "          const docLink = document.createElement('div');\n",
              "          docLink.innerHTML = docLinkHtml;\n",
              "          element.appendChild(docLink);\n",
              "        }\n",
              "      </script>\n",
              "    </div>\n",
              "  </div>\n",
              "  "
            ]
          },
          "metadata": {},
          "execution_count": 10
        }
      ]
    },
    {
      "cell_type": "code",
      "source": [
        "features.nunique()"
      ],
      "metadata": {
        "colab": {
          "base_uri": "https://localhost:8080/"
        },
        "id": "k1j6UN6P34cQ",
        "outputId": "7bd4374d-3faf-46aa-d902-7743630db9be"
      },
      "execution_count": null,
      "outputs": [
        {
          "output_type": "execute_result",
          "data": {
            "text/plain": [
              "Gender                                       3\n",
              "Race                                         6\n",
              "Ethnicity                                    3\n",
              "Court_ORI                                   71\n",
              "Judge_Name                                 671\n",
              "Arrest_Type                                  2\n",
              "Top_Charge_Severity_at_Arrest                5\n",
              "Top_Charge_Weight_at_Arrest                 11\n",
              "Top_Charge_at_Arrest_Violent_Felony_Ind      2\n",
              "Arraign Charge Category                     20\n",
              "Representation_Type                          9\n",
              "prior_vfo_cnt                                3\n",
              "prior_nonvfo_cnt                             5\n",
              "prior_misd_cnt                              11\n",
              "supervision                                  2\n",
              "age_group_crime                              7\n",
              "age_group_arrest                             6\n",
              "dtype: int64"
            ]
          },
          "metadata": {},
          "execution_count": 11
        }
      ]
    },
    {
      "cell_type": "code",
      "execution_count": null,
      "metadata": {
        "id": "1MsgTwfu3SCz"
      },
      "outputs": [],
      "source": [
        "#Transform Categorical data Numerical \n",
        "\n",
        "#For columns with 10 categories or less, OneHotEncode\n",
        "ohe_categories = ['Gender', 'Race', 'Ethnicity']\n",
        "\n",
        "features = pd.get_dummies(features, columns = ohe_categories)"
      ]
    },
    {
      "cell_type": "code",
      "execution_count": null,
      "metadata": {
        "colab": {
          "base_uri": "https://localhost:8080/",
          "height": 305
        },
        "id": "3MdKPcKO9uX_",
        "outputId": "12e13fcd-dbf9-4235-fbd4-9ad5f9a2d678"
      },
      "outputs": [
        {
          "output_type": "execute_result",
          "data": {
            "text/plain": [
              "   Court_ORI  Judge_Name  Arrest_Type Top_Charge_Severity_at_Arrest  \\\n",
              "0      30033    0.150000          1.0                           3.0   \n",
              "1      30033    0.141361          0.0                           3.0   \n",
              "2      29013    0.025061          1.0                           3.0   \n",
              "3      14011    0.007955          1.0                           3.0   \n",
              "4      14011    0.001621          1.0                           3.0   \n",
              "\n",
              "   Top_Charge_Weight_at_Arrest  Top_Charge_at_Arrest_Violent_Felony_Ind  \\\n",
              "0                          5.0                                      0.0   \n",
              "1                          5.0                                      0.0   \n",
              "2                          5.0                                      0.0   \n",
              "3                          5.0                                      0.0   \n",
              "4                          3.0                                      0.0   \n",
              "\n",
              "   Arraign Charge Category  Representation_Type  prior_vfo_cnt  \\\n",
              "0                 0.092990             0.089994            0.0   \n",
              "1                 0.111830             0.111493            0.0   \n",
              "2                 0.117247             0.035369            0.0   \n",
              "3                 0.117247             0.089994            0.0   \n",
              "4                 0.019769             0.089994            0.0   \n",
              "\n",
              "   prior_nonvfo_cnt  prior_misd_cnt  supervision  age_group_crime  \\\n",
              "0               0.0             0.0          0.0              3.0   \n",
              "1               1.0            10.0          0.0              3.0   \n",
              "2               0.0             0.0          0.0              1.0   \n",
              "3               0.0             0.0          0.0              1.0   \n",
              "4               0.0             4.0          0.0              3.0   \n",
              "\n",
              "   age_group_arrest  Gender_Female  Gender_Male  Gender_Unknown  \\\n",
              "0               3.0              0            1               0   \n",
              "1               3.0              0            1               0   \n",
              "2               1.0              0            1               0   \n",
              "3               1.0              0            1               0   \n",
              "4               3.0              0            1               0   \n",
              "\n",
              "   Race_American Indian/Alaskan Native  Race_Asian/Pacific Islander  \\\n",
              "0                                    0                            0   \n",
              "1                                    0                            0   \n",
              "2                                    0                            0   \n",
              "3                                    0                            0   \n",
              "4                                    0                            0   \n",
              "\n",
              "   Race_Black  Race_Other  Race_Unknown  Race_White  Ethnicity_Hispanic  \\\n",
              "0           1           0             0           0                   0   \n",
              "1           0           0             0           1                   0   \n",
              "2           0           0             0           1                   0   \n",
              "3           0           0             0           1                   0   \n",
              "4           0           0             1           0                   0   \n",
              "\n",
              "   Ethnicity_Non Hispanic  Ethnicity_Unknown  \n",
              "0                       1                  0  \n",
              "1                       1                  0  \n",
              "2                       1                  0  \n",
              "3                       1                  0  \n",
              "4                       0                  1  "
            ],
            "text/html": [
              "\n",
              "  <div id=\"df-c4d05383-02d3-4c7a-a885-8ecb3fc52687\">\n",
              "    <div class=\"colab-df-container\">\n",
              "      <div>\n",
              "<style scoped>\n",
              "    .dataframe tbody tr th:only-of-type {\n",
              "        vertical-align: middle;\n",
              "    }\n",
              "\n",
              "    .dataframe tbody tr th {\n",
              "        vertical-align: top;\n",
              "    }\n",
              "\n",
              "    .dataframe thead th {\n",
              "        text-align: right;\n",
              "    }\n",
              "</style>\n",
              "<table border=\"1\" class=\"dataframe\">\n",
              "  <thead>\n",
              "    <tr style=\"text-align: right;\">\n",
              "      <th></th>\n",
              "      <th>Court_ORI</th>\n",
              "      <th>Judge_Name</th>\n",
              "      <th>Arrest_Type</th>\n",
              "      <th>Top_Charge_Severity_at_Arrest</th>\n",
              "      <th>Top_Charge_Weight_at_Arrest</th>\n",
              "      <th>Top_Charge_at_Arrest_Violent_Felony_Ind</th>\n",
              "      <th>Arraign Charge Category</th>\n",
              "      <th>Representation_Type</th>\n",
              "      <th>prior_vfo_cnt</th>\n",
              "      <th>prior_nonvfo_cnt</th>\n",
              "      <th>prior_misd_cnt</th>\n",
              "      <th>supervision</th>\n",
              "      <th>age_group_crime</th>\n",
              "      <th>age_group_arrest</th>\n",
              "      <th>Gender_Female</th>\n",
              "      <th>Gender_Male</th>\n",
              "      <th>Gender_Unknown</th>\n",
              "      <th>Race_American Indian/Alaskan Native</th>\n",
              "      <th>Race_Asian/Pacific Islander</th>\n",
              "      <th>Race_Black</th>\n",
              "      <th>Race_Other</th>\n",
              "      <th>Race_Unknown</th>\n",
              "      <th>Race_White</th>\n",
              "      <th>Ethnicity_Hispanic</th>\n",
              "      <th>Ethnicity_Non Hispanic</th>\n",
              "      <th>Ethnicity_Unknown</th>\n",
              "    </tr>\n",
              "  </thead>\n",
              "  <tbody>\n",
              "    <tr>\n",
              "      <th>0</th>\n",
              "      <td>30033</td>\n",
              "      <td>0.150000</td>\n",
              "      <td>1.0</td>\n",
              "      <td>3.0</td>\n",
              "      <td>5.0</td>\n",
              "      <td>0.0</td>\n",
              "      <td>0.092990</td>\n",
              "      <td>0.089994</td>\n",
              "      <td>0.0</td>\n",
              "      <td>0.0</td>\n",
              "      <td>0.0</td>\n",
              "      <td>0.0</td>\n",
              "      <td>3.0</td>\n",
              "      <td>3.0</td>\n",
              "      <td>0</td>\n",
              "      <td>1</td>\n",
              "      <td>0</td>\n",
              "      <td>0</td>\n",
              "      <td>0</td>\n",
              "      <td>1</td>\n",
              "      <td>0</td>\n",
              "      <td>0</td>\n",
              "      <td>0</td>\n",
              "      <td>0</td>\n",
              "      <td>1</td>\n",
              "      <td>0</td>\n",
              "    </tr>\n",
              "    <tr>\n",
              "      <th>1</th>\n",
              "      <td>30033</td>\n",
              "      <td>0.141361</td>\n",
              "      <td>0.0</td>\n",
              "      <td>3.0</td>\n",
              "      <td>5.0</td>\n",
              "      <td>0.0</td>\n",
              "      <td>0.111830</td>\n",
              "      <td>0.111493</td>\n",
              "      <td>0.0</td>\n",
              "      <td>1.0</td>\n",
              "      <td>10.0</td>\n",
              "      <td>0.0</td>\n",
              "      <td>3.0</td>\n",
              "      <td>3.0</td>\n",
              "      <td>0</td>\n",
              "      <td>1</td>\n",
              "      <td>0</td>\n",
              "      <td>0</td>\n",
              "      <td>0</td>\n",
              "      <td>0</td>\n",
              "      <td>0</td>\n",
              "      <td>0</td>\n",
              "      <td>1</td>\n",
              "      <td>0</td>\n",
              "      <td>1</td>\n",
              "      <td>0</td>\n",
              "    </tr>\n",
              "    <tr>\n",
              "      <th>2</th>\n",
              "      <td>29013</td>\n",
              "      <td>0.025061</td>\n",
              "      <td>1.0</td>\n",
              "      <td>3.0</td>\n",
              "      <td>5.0</td>\n",
              "      <td>0.0</td>\n",
              "      <td>0.117247</td>\n",
              "      <td>0.035369</td>\n",
              "      <td>0.0</td>\n",
              "      <td>0.0</td>\n",
              "      <td>0.0</td>\n",
              "      <td>0.0</td>\n",
              "      <td>1.0</td>\n",
              "      <td>1.0</td>\n",
              "      <td>0</td>\n",
              "      <td>1</td>\n",
              "      <td>0</td>\n",
              "      <td>0</td>\n",
              "      <td>0</td>\n",
              "      <td>0</td>\n",
              "      <td>0</td>\n",
              "      <td>0</td>\n",
              "      <td>1</td>\n",
              "      <td>0</td>\n",
              "      <td>1</td>\n",
              "      <td>0</td>\n",
              "    </tr>\n",
              "    <tr>\n",
              "      <th>3</th>\n",
              "      <td>14011</td>\n",
              "      <td>0.007955</td>\n",
              "      <td>1.0</td>\n",
              "      <td>3.0</td>\n",
              "      <td>5.0</td>\n",
              "      <td>0.0</td>\n",
              "      <td>0.117247</td>\n",
              "      <td>0.089994</td>\n",
              "      <td>0.0</td>\n",
              "      <td>0.0</td>\n",
              "      <td>0.0</td>\n",
              "      <td>0.0</td>\n",
              "      <td>1.0</td>\n",
              "      <td>1.0</td>\n",
              "      <td>0</td>\n",
              "      <td>1</td>\n",
              "      <td>0</td>\n",
              "      <td>0</td>\n",
              "      <td>0</td>\n",
              "      <td>0</td>\n",
              "      <td>0</td>\n",
              "      <td>0</td>\n",
              "      <td>1</td>\n",
              "      <td>0</td>\n",
              "      <td>1</td>\n",
              "      <td>0</td>\n",
              "    </tr>\n",
              "    <tr>\n",
              "      <th>4</th>\n",
              "      <td>14011</td>\n",
              "      <td>0.001621</td>\n",
              "      <td>1.0</td>\n",
              "      <td>3.0</td>\n",
              "      <td>3.0</td>\n",
              "      <td>0.0</td>\n",
              "      <td>0.019769</td>\n",
              "      <td>0.089994</td>\n",
              "      <td>0.0</td>\n",
              "      <td>0.0</td>\n",
              "      <td>4.0</td>\n",
              "      <td>0.0</td>\n",
              "      <td>3.0</td>\n",
              "      <td>3.0</td>\n",
              "      <td>0</td>\n",
              "      <td>1</td>\n",
              "      <td>0</td>\n",
              "      <td>0</td>\n",
              "      <td>0</td>\n",
              "      <td>0</td>\n",
              "      <td>0</td>\n",
              "      <td>1</td>\n",
              "      <td>0</td>\n",
              "      <td>0</td>\n",
              "      <td>0</td>\n",
              "      <td>1</td>\n",
              "    </tr>\n",
              "  </tbody>\n",
              "</table>\n",
              "</div>\n",
              "      <button class=\"colab-df-convert\" onclick=\"convertToInteractive('df-c4d05383-02d3-4c7a-a885-8ecb3fc52687')\"\n",
              "              title=\"Convert this dataframe to an interactive table.\"\n",
              "              style=\"display:none;\">\n",
              "        \n",
              "  <svg xmlns=\"http://www.w3.org/2000/svg\" height=\"24px\"viewBox=\"0 0 24 24\"\n",
              "       width=\"24px\">\n",
              "    <path d=\"M0 0h24v24H0V0z\" fill=\"none\"/>\n",
              "    <path d=\"M18.56 5.44l.94 2.06.94-2.06 2.06-.94-2.06-.94-.94-2.06-.94 2.06-2.06.94zm-11 1L8.5 8.5l.94-2.06 2.06-.94-2.06-.94L8.5 2.5l-.94 2.06-2.06.94zm10 10l.94 2.06.94-2.06 2.06-.94-2.06-.94-.94-2.06-.94 2.06-2.06.94z\"/><path d=\"M17.41 7.96l-1.37-1.37c-.4-.4-.92-.59-1.43-.59-.52 0-1.04.2-1.43.59L10.3 9.45l-7.72 7.72c-.78.78-.78 2.05 0 2.83L4 21.41c.39.39.9.59 1.41.59.51 0 1.02-.2 1.41-.59l7.78-7.78 2.81-2.81c.8-.78.8-2.07 0-2.86zM5.41 20L4 18.59l7.72-7.72 1.47 1.35L5.41 20z\"/>\n",
              "  </svg>\n",
              "      </button>\n",
              "      \n",
              "  <style>\n",
              "    .colab-df-container {\n",
              "      display:flex;\n",
              "      flex-wrap:wrap;\n",
              "      gap: 12px;\n",
              "    }\n",
              "\n",
              "    .colab-df-convert {\n",
              "      background-color: #E8F0FE;\n",
              "      border: none;\n",
              "      border-radius: 50%;\n",
              "      cursor: pointer;\n",
              "      display: none;\n",
              "      fill: #1967D2;\n",
              "      height: 32px;\n",
              "      padding: 0 0 0 0;\n",
              "      width: 32px;\n",
              "    }\n",
              "\n",
              "    .colab-df-convert:hover {\n",
              "      background-color: #E2EBFA;\n",
              "      box-shadow: 0px 1px 2px rgba(60, 64, 67, 0.3), 0px 1px 3px 1px rgba(60, 64, 67, 0.15);\n",
              "      fill: #174EA6;\n",
              "    }\n",
              "\n",
              "    [theme=dark] .colab-df-convert {\n",
              "      background-color: #3B4455;\n",
              "      fill: #D2E3FC;\n",
              "    }\n",
              "\n",
              "    [theme=dark] .colab-df-convert:hover {\n",
              "      background-color: #434B5C;\n",
              "      box-shadow: 0px 1px 3px 1px rgba(0, 0, 0, 0.15);\n",
              "      filter: drop-shadow(0px 1px 2px rgba(0, 0, 0, 0.3));\n",
              "      fill: #FFFFFF;\n",
              "    }\n",
              "  </style>\n",
              "\n",
              "      <script>\n",
              "        const buttonEl =\n",
              "          document.querySelector('#df-c4d05383-02d3-4c7a-a885-8ecb3fc52687 button.colab-df-convert');\n",
              "        buttonEl.style.display =\n",
              "          google.colab.kernel.accessAllowed ? 'block' : 'none';\n",
              "\n",
              "        async function convertToInteractive(key) {\n",
              "          const element = document.querySelector('#df-c4d05383-02d3-4c7a-a885-8ecb3fc52687');\n",
              "          const dataTable =\n",
              "            await google.colab.kernel.invokeFunction('convertToInteractive',\n",
              "                                                     [key], {});\n",
              "          if (!dataTable) return;\n",
              "\n",
              "          const docLinkHtml = 'Like what you see? Visit the ' +\n",
              "            '<a target=\"_blank\" href=https://colab.research.google.com/notebooks/data_table.ipynb>data table notebook</a>'\n",
              "            + ' to learn more about interactive tables.';\n",
              "          element.innerHTML = '';\n",
              "          dataTable['output_type'] = 'display_data';\n",
              "          await google.colab.output.renderOutput(dataTable, element);\n",
              "          const docLink = document.createElement('div');\n",
              "          docLink.innerHTML = docLinkHtml;\n",
              "          element.appendChild(docLink);\n",
              "        }\n",
              "      </script>\n",
              "    </div>\n",
              "  </div>\n",
              "  "
            ]
          },
          "metadata": {},
          "execution_count": 13
        }
      ],
      "source": [
        "#For columns with too many categories apply leave one out encoder\n",
        "enc = LeaveOneOutEncoder(cols=['Judge_Name', 'Representation_Type', 'Arraign Charge Category'])\n",
        "features =  enc.fit_transform(features, labels)\n",
        "features.head()\n",
        "\n",
        "#TO DO: ask if they did any sort of feature normalization."
      ]
    },
    {
      "cell_type": "code",
      "source": [
        "#Feature Scaling\n",
        "\n",
        "scaler = StandardScaler()\n",
        "\n",
        "features_scaled = scaler.fit_transform(features)\n",
        "features_scaled"
      ],
      "metadata": {
        "colab": {
          "base_uri": "https://localhost:8080/"
        },
        "id": "-WqwMhDQi4Ds",
        "outputId": "0d2eb5c4-5b6d-4610-89f3-2b28ca4655af"
      },
      "execution_count": null,
      "outputs": [
        {
          "output_type": "execute_result",
          "data": {
            "text/plain": [
              "array([[-0.34218082,  0.78069711,  1.42340502, ..., -0.51748052,\n",
              "         0.83606144, -0.50030412],\n",
              "       [-0.34218082,  0.65732404, -0.70254073, ..., -0.51748052,\n",
              "         0.83606144, -0.50030412],\n",
              "       [-0.40776613, -1.00360793,  1.42340502, ..., -0.51748052,\n",
              "         0.83606144, -0.50030412],\n",
              "       ...,\n",
              "       [ 1.71539732,  0.55729376, -0.70254073, ..., -0.51748052,\n",
              "         0.83606144, -0.50030412],\n",
              "       [-0.34218082,  0.45254226, -0.70254073, ..., -0.51748052,\n",
              "         0.83606144, -0.50030412],\n",
              "       [-0.79227604,  0.17019258, -0.70254073, ..., -0.51748052,\n",
              "         0.83606144, -0.50030412]])"
            ]
          },
          "metadata": {},
          "execution_count": 14
        }
      ]
    },
    {
      "cell_type": "code",
      "source": [
        "feature = pd.DataFrame(features_scaled)\n",
        "feature.shape"
      ],
      "metadata": {
        "colab": {
          "base_uri": "https://localhost:8080/"
        },
        "id": "Qxp0qyTxjc5m",
        "outputId": "fc40d5a4-0280-467a-c6f8-3844d720829c"
      },
      "execution_count": null,
      "outputs": [
        {
          "output_type": "execute_result",
          "data": {
            "text/plain": [
              "(278454, 26)"
            ]
          },
          "metadata": {},
          "execution_count": 15
        }
      ]
    },
    {
      "cell_type": "markdown",
      "metadata": {
        "id": "HCrTUEWHM9Hs"
      },
      "source": [
        "### NMR Prediction\n",
        "\n",
        "In this section of the notebook, we will explore multiple different binary prediction models to predict whether a person will have a NMR condition\n",
        "Here are the different classifications:\n",
        "* TO DO: Add a heat map to show correlation\n",
        "* Logistic Regression\n",
        "* Naive Bayes\n",
        "* KNN\n",
        "* SVM\n",
        "* TO DO: Try Berta and Neural Networks (Tensor Flow)"
      ]
    },
    {
      "cell_type": "code",
      "source": [
        "#Make a train and test set\n",
        "#Note: we have features: no scaling and feature: scaled\n",
        "#TO DO: check uniformity on test size and random state\n",
        "\n",
        "X_train, X_test, y_train, y_test = train_test_split(feature, labels, test_size=0.3, random_state=3)\n",
        "X_Train, X_Test, y_Train, y_Test = train_test_split(features, labels, test_size=0.3, random_state=3)"
      ],
      "metadata": {
        "id": "MR6k4YUpkEq-"
      },
      "execution_count": null,
      "outputs": []
    },
    {
      "cell_type": "markdown",
      "metadata": {
        "id": "SotmLu6wC56b"
      },
      "source": [
        "# Logistic Regression"
      ]
    },
    {
      "cell_type": "code",
      "execution_count": null,
      "metadata": {
        "colab": {
          "base_uri": "https://localhost:8080/"
        },
        "id": "UdpAr1AlNRsG",
        "outputId": "5b3d3b5f-d72c-4482-c77c-138ad48d7d9f"
      },
      "outputs": [
        {
          "output_type": "stream",
          "name": "stdout",
          "text": [
            "Best parameters {'max_iter': 100}\n",
            "Logistic Regression Accuracy: 0.710116475334283\n",
            "Logistic Regression Precision: 0.21052256616677947\n",
            "Logistic Regression Recall: 0.7421825944995605\n",
            "CPU times: user 6min 1s, sys: 2min 54s, total: 8min 56s\n",
            "Wall time: 4min 37s\n"
          ]
        }
      ],
      "source": [
        "%%time\n",
        "#Make a train and test set\n",
        "LogReg = GridSearchCV(LogisticRegressionCV(random_state = 3, class_weight = 'balanced'), \n",
        "                      {'max_iter': [100, 500, 1000]} ,cv = 5)\n",
        "\n",
        "LogReg.fit(X_train, y_train)\n",
        "\n",
        "print(\"Best parameters\", LogReg.best_params_)\n",
        "\n",
        "#Predict the response for the test set\n",
        "y_pred = LogReg.predict(X_test)\n",
        "#Find the accuracy, precision, and recall\n",
        "print(\"Logistic Regression Accuracy:\", metrics.accuracy_score(y_test, y_pred))\n",
        "print(\"Logistic Regression Precision:\", metrics.precision_score(y_test, y_pred))\n",
        "print(\"Logistic Regression Recall:\", metrics.recall_score(y_test, y_pred))\n",
        "\n"
      ]
    },
    {
      "cell_type": "code",
      "execution_count": null,
      "metadata": {
        "colab": {
          "base_uri": "https://localhost:8080/",
          "height": 503
        },
        "id": "-Q-s4pIgWTCe",
        "outputId": "348662d8-0a18-4079-cde1-38a952f9155d"
      },
      "outputs": [
        {
          "output_type": "stream",
          "name": "stdout",
          "text": [
            "[[53411 22163]\n",
            " [ 2053  5910]]\n",
            "              precision    recall  f1-score   support\n",
            "\n",
            "         0.0       0.71      0.96      0.82     55464\n",
            "         1.0       0.74      0.21      0.33     28073\n",
            "\n",
            "    accuracy                           0.71     83537\n",
            "   macro avg       0.72      0.59      0.57     83537\n",
            "weighted avg       0.72      0.71      0.65     83537\n",
            "\n"
          ]
        },
        {
          "output_type": "display_data",
          "data": {
            "text/plain": [
              "<Figure size 432x288 with 2 Axes>"
            ],
            "image/png": "[encoded data removed]"
          },
          "metadata": {
            "needs_background": "light"
          }
        }
      ],
      "source": [
        "\n",
        "cm = metrics.confusion_matrix(y_test, y_pred)\n",
        "print(cm)\n",
        "print(classification_report(y_pred, y_test))\n",
        "\n",
        "ax = sns.heatmap(cm, annot=True, cmap='Blues')\n",
        "\n",
        "ax.set_title('Confusion Matrix for Logistic Regression');\n",
        "ax.set_xlabel('\\nPredicted Values')\n",
        "ax.set_ylabel('Actual Values ');\n",
        "\n",
        "## Ticket labels - List must be in alphabetical order\n",
        "ax.xaxis.set_ticklabels(['False','True'])\n",
        "ax.yaxis.set_ticklabels(['False','True'])\n",
        "\n",
        "## Display the visualization of the Confusion Matrix.\n",
        "plt.show()\n"
      ]
    },
    {
      "cell_type": "markdown",
      "metadata": {
        "id": "RsvyypwrHMqz"
      },
      "source": [
        "# Naives Bayes"
      ]
    },
    {
      "cell_type": "code",
      "execution_count": null,
      "metadata": {
        "colab": {
          "base_uri": "https://localhost:8080/"
        },
        "id": "iuYzU5Xwauev",
        "outputId": "43e9adc0-fdd7-495c-9398-f223d3b3dc76"
      },
      "outputs": [
        {
          "output_type": "stream",
          "name": "stdout",
          "text": [
            "Fitting 10 folds for each of 100 candidates, totalling 1000 fits\n",
            "Naives Bayes Accuracy: 0.8356895746794833\n",
            "Naives Bayes Precision: 0.21857603281570465\n",
            "Naives Bayes Recall: 0.2810498555820671\n",
            "CPU times: user 9.38 s, sys: 2.08 s, total: 11.5 s\n",
            "Wall time: 2min 27s\n"
          ]
        }
      ],
      "source": [
        "%%time\n",
        "#Create the NB classifier\n",
        "#NBclassifier = GaussianNB()\n",
        "\n",
        "param_grid_nb = {'var_smoothing': np.logspace(0,-9, num=100)}\n",
        "NBclassifier = GridSearchCV(estimator=GaussianNB(), param_grid=param_grid_nb, verbose=1, cv=10, n_jobs=-1)\n",
        "NBclassifier.fit(X_train, y_train)\n",
        "\n",
        "nb_predictions = NBclassifier.predict(X_test)\n",
        "\n",
        "#Find the accuracy, precision, and recall\n",
        "print(\"Naives Bayes Accuracy:\", metrics.accuracy_score(y_test, nb_predictions))\n",
        "print(\"Naives Bayes Precision:\", metrics.precision_score(y_test, nb_predictions))\n",
        "print(\"Naives Bayes Recall:\", metrics.recall_score(y_test, nb_predictions))\n"
      ]
    },
    {
      "cell_type": "code",
      "execution_count": null,
      "metadata": {
        "colab": {
          "base_uri": "https://localhost:8080/",
          "height": 503
        },
        "id": "KnDOIlZWHlAo",
        "outputId": "b3650b53-2831-4a8f-b376-c2c1a461613a"
      },
      "outputs": [
        {
          "output_type": "stream",
          "name": "stdout",
          "text": [
            "[[67573  8001]\n",
            " [ 5725  2238]]\n",
            "              precision    recall  f1-score   support\n",
            "\n",
            "         0.0       0.89      0.92      0.91     73298\n",
            "         1.0       0.28      0.22      0.25     10239\n",
            "\n",
            "    accuracy                           0.84     83537\n",
            "   macro avg       0.59      0.57      0.58     83537\n",
            "weighted avg       0.82      0.84      0.83     83537\n",
            "\n"
          ]
        },
        {
          "output_type": "display_data",
          "data": {
            "text/plain": [
              "<Figure size 432x288 with 2 Axes>"
            ],
            "image/png": "[encoded data removed]"
          },
          "metadata": {
            "needs_background": "light"
          }
        }
      ],
      "source": [
        "\n",
        "cm = metrics.confusion_matrix(y_test, nb_predictions)\n",
        "print(cm)\n",
        "print(classification_report(nb_predictions, y_test))\n",
        "\n",
        "ax = sns.heatmap(cm, annot=True, cmap='Blues')\n",
        "\n",
        "ax.set_title('Confusion Matrix for Naives Bayes');\n",
        "ax.set_xlabel('\\nPredicted Values')\n",
        "ax.set_ylabel('Actual Values ');\n",
        "\n",
        "## Ticket labels - List must be in alphabetical order\n",
        "ax.xaxis.set_ticklabels(['False','True'])\n",
        "ax.yaxis.set_ticklabels(['False','True'])\n",
        "\n",
        "## Display the visualization of the Confusion Matrix.\n",
        "plt.show()"
      ]
    },
    {
      "cell_type": "markdown",
      "metadata": {
        "id": "MsvZgHiaIiZ8"
      },
      "source": [
        "# k-nearest neighbor"
      ]
    },
    {
      "cell_type": "code",
      "execution_count": null,
      "metadata": {
        "colab": {
          "base_uri": "https://localhost:8080/"
        },
        "id": "cnDNf8XyIbxC",
        "outputId": "0f2c41a8-0c4c-4003-f270-bf916a6bc4ef"
      },
      "outputs": [
        {
          "output_type": "stream",
          "name": "stdout",
          "text": [
            "KNN Accuracy: 0.895267965093312\n",
            "KNN Precision: 0.36677966101694914\n",
            "KNN Recall: 0.135878437774708\n",
            "CPU times: user 14min 15s, sys: 24 s, total: 14min 39s\n",
            "Wall time: 11min 47s\n"
          ]
        }
      ],
      "source": [
        "%%time\n",
        "#KNN\n",
        "knn_classifier = KNeighborsClassifier(algorithm = 'brute', n_jobs=-1)\n",
        "knn_classifier.fit(X_train, y_train)\n",
        "knn_predictions = knn_classifier.predict(X_test)\n",
        "\n",
        "#Find the accuracy, precision, and recall\n",
        "print(\"KNN Accuracy:\", metrics.accuracy_score(y_test, knn_predictions))\n",
        "print(\"KNN Precision:\", metrics.precision_score(y_test, knn_predictions))\n",
        "print(\"KNN Recall:\", metrics.recall_score(y_test, knn_predictions))"
      ]
    },
    {
      "cell_type": "code",
      "execution_count": null,
      "metadata": {
        "colab": {
          "base_uri": "https://localhost:8080/",
          "height": 503
        },
        "id": "KZmNfPKIIWO6",
        "outputId": "f3e9efe5-c0e2-4a5a-85c2-044c6cdbb33a"
      },
      "outputs": [
        {
          "output_type": "stream",
          "name": "stdout",
          "text": [
            "[[73706  1868]\n",
            " [ 6881  1082]]\n",
            "              precision    recall  f1-score   support\n",
            "\n",
            "         0.0       0.98      0.91      0.94     80587\n",
            "         1.0       0.14      0.37      0.20      2950\n",
            "\n",
            "    accuracy                           0.90     83537\n",
            "   macro avg       0.56      0.64      0.57     83537\n",
            "weighted avg       0.95      0.90      0.92     83537\n",
            "\n"
          ]
        },
        {
          "output_type": "display_data",
          "data": {
            "text/plain": [
              "<Figure size 432x288 with 2 Axes>"
            ],
            "image/png": "[encoded data removed]"
          },
          "metadata": {
            "needs_background": "light"
          }
        }
      ],
      "source": [
        "\n",
        "cm = metrics.confusion_matrix(y_test, knn_predictions)\n",
        "print(cm)\n",
        "print(classification_report(knn_predictions, y_test))\n",
        "\n",
        "ax = sns.heatmap(cm, annot=True, cmap='Blues')\n",
        "\n",
        "ax.set_title('Confusion Matrix for KNN');\n",
        "ax.set_xlabel('\\nPredicted Values')\n",
        "ax.set_ylabel('Actual Values ');\n",
        "\n",
        "## Ticket labels - List must be in alphabetical order\n",
        "ax.xaxis.set_ticklabels(['False','True'])\n",
        "ax.yaxis.set_ticklabels(['False','True'])\n",
        "\n",
        "## Display the visualization of the Confusion Matrix.\n",
        "plt.show()"
      ]
    },
    {
      "cell_type": "markdown",
      "metadata": {
        "id": "Ei-qQHBVRiR6"
      },
      "source": [
        "# SVM\n",
        "<https://scikit-learn.org/stable/modules/svm.html>"
      ]
    },
    {
      "cell_type": "code",
      "execution_count": null,
      "metadata": {
        "id": "vnTl_6l3Rfh1",
        "colab": {
          "base_uri": "https://localhost:8080/",
          "height": 550
        },
        "outputId": "724fc00b-7b69-4528-bca8-255387d6dda6"
      },
      "outputs": [
        {
          "output_type": "error",
          "ename": "NameError",
          "evalue": "ignored",
          "traceback": [
            "\u001b[0;31m---------------------------------------------------------------------------\u001b[0m",
            "\u001b[0;31mNameError\u001b[0m                                 Traceback (most recent call last)",
            "\u001b[0;32m<ipython-input-1-617479518d9e>\u001b[0m in \u001b[0;36m<module>\u001b[0;34m()\u001b[0m\n\u001b[0;32m----> 1\u001b[0;31m \u001b[0mget_ipython\u001b[0m\u001b[0;34m(\u001b[0m\u001b[0;34m)\u001b[0m\u001b[0;34m.\u001b[0m\u001b[0mrun_cell_magic\u001b[0m\u001b[0;34m(\u001b[0m\u001b[0;34m'time'\u001b[0m\u001b[0;34m,\u001b[0m \u001b[0;34m''\u001b[0m\u001b[0;34m,\u001b[0m \u001b[0;34m'#SVM \\nsvm_classifier = svm.SVC(kernal = \\'Linear\\')\\nsvm_classifier.fit(X_train, y_train)\\nsvm_predictions = svm_classifier.predict(X_test)\\n\\n#Find the accuracy, precision, and recall\\nprint(\"svm Accuracy:\", metrics.accuracy_score(y_test, svm_predictions))\\nprint(\"svm Precision:\", metrics.precision_score(y_test, svm_predictions))\\nprint(\"svm Recall:\", metrics.recall_score(y_test, svm_predictions))'\u001b[0m\u001b[0;34m)\u001b[0m\u001b[0;34m\u001b[0m\u001b[0;34m\u001b[0m\u001b[0m\n\u001b[0m",
            "\u001b[0;32m/usr/local/lib/python3.7/dist-packages/IPython/core/interactiveshell.py\u001b[0m in \u001b[0;36mrun_cell_magic\u001b[0;34m(self, magic_name, line, cell)\u001b[0m\n\u001b[1;32m   2115\u001b[0m             \u001b[0mmagic_arg_s\u001b[0m \u001b[0;34m=\u001b[0m \u001b[0mself\u001b[0m\u001b[0;34m.\u001b[0m\u001b[0mvar_expand\u001b[0m\u001b[0;34m(\u001b[0m\u001b[0mline\u001b[0m\u001b[0;34m,\u001b[0m \u001b[0mstack_depth\u001b[0m\u001b[0;34m)\u001b[0m\u001b[0;34m\u001b[0m\u001b[0;34m\u001b[0m\u001b[0m\n\u001b[1;32m   2116\u001b[0m             \u001b[0;32mwith\u001b[0m \u001b[0mself\u001b[0m\u001b[0;34m.\u001b[0m\u001b[0mbuiltin_trap\u001b[0m\u001b[0;34m:\u001b[0m\u001b[0;34m\u001b[0m\u001b[0;34m\u001b[0m\u001b[0m\n\u001b[0;32m-> 2117\u001b[0;31m                 \u001b[0mresult\u001b[0m \u001b[0;34m=\u001b[0m \u001b[0mfn\u001b[0m\u001b[0;34m(\u001b[0m\u001b[0mmagic_arg_s\u001b[0m\u001b[0;34m,\u001b[0m \u001b[0mcell\u001b[0m\u001b[0;34m)\u001b[0m\u001b[0;34m\u001b[0m\u001b[0;34m\u001b[0m\u001b[0m\n\u001b[0m\u001b[1;32m   2118\u001b[0m             \u001b[0;32mreturn\u001b[0m \u001b[0mresult\u001b[0m\u001b[0;34m\u001b[0m\u001b[0;34m\u001b[0m\u001b[0m\n\u001b[1;32m   2119\u001b[0m \u001b[0;34m\u001b[0m\u001b[0m\n",
            "\u001b[0;32m<decorator-gen-53>\u001b[0m in \u001b[0;36mtime\u001b[0;34m(self, line, cell, local_ns)\u001b[0m\n",
            "\u001b[0;32m/usr/local/lib/python3.7/dist-packages/IPython/core/magic.py\u001b[0m in \u001b[0;36m<lambda>\u001b[0;34m(f, *a, **k)\u001b[0m\n\u001b[1;32m    186\u001b[0m     \u001b[0;31m# but it's overkill for just that one bit of state.\u001b[0m\u001b[0;34m\u001b[0m\u001b[0;34m\u001b[0m\u001b[0;34m\u001b[0m\u001b[0m\n\u001b[1;32m    187\u001b[0m     \u001b[0;32mdef\u001b[0m \u001b[0mmagic_deco\u001b[0m\u001b[0;34m(\u001b[0m\u001b[0marg\u001b[0m\u001b[0;34m)\u001b[0m\u001b[0;34m:\u001b[0m\u001b[0;34m\u001b[0m\u001b[0;34m\u001b[0m\u001b[0m\n\u001b[0;32m--> 188\u001b[0;31m         \u001b[0mcall\u001b[0m \u001b[0;34m=\u001b[0m \u001b[0;32mlambda\u001b[0m \u001b[0mf\u001b[0m\u001b[0;34m,\u001b[0m \u001b[0;34m*\u001b[0m\u001b[0ma\u001b[0m\u001b[0;34m,\u001b[0m \u001b[0;34m**\u001b[0m\u001b[0mk\u001b[0m\u001b[0;34m:\u001b[0m \u001b[0mf\u001b[0m\u001b[0;34m(\u001b[0m\u001b[0;34m*\u001b[0m\u001b[0ma\u001b[0m\u001b[0;34m,\u001b[0m \u001b[0;34m**\u001b[0m\u001b[0mk\u001b[0m\u001b[0;34m)\u001b[0m\u001b[0;34m\u001b[0m\u001b[0;34m\u001b[0m\u001b[0m\n\u001b[0m\u001b[1;32m    189\u001b[0m \u001b[0;34m\u001b[0m\u001b[0m\n\u001b[1;32m    190\u001b[0m         \u001b[0;32mif\u001b[0m \u001b[0mcallable\u001b[0m\u001b[0;34m(\u001b[0m\u001b[0marg\u001b[0m\u001b[0;34m)\u001b[0m\u001b[0;34m:\u001b[0m\u001b[0;34m\u001b[0m\u001b[0;34m\u001b[0m\u001b[0m\n",
            "\u001b[0;32m/usr/local/lib/python3.7/dist-packages/IPython/core/magics/execution.py\u001b[0m in \u001b[0;36mtime\u001b[0;34m(self, line, cell, local_ns)\u001b[0m\n\u001b[1;32m   1191\u001b[0m         \u001b[0;32melse\u001b[0m\u001b[0;34m:\u001b[0m\u001b[0;34m\u001b[0m\u001b[0;34m\u001b[0m\u001b[0m\n\u001b[1;32m   1192\u001b[0m             \u001b[0mst\u001b[0m \u001b[0;34m=\u001b[0m \u001b[0mclock2\u001b[0m\u001b[0;34m(\u001b[0m\u001b[0;34m)\u001b[0m\u001b[0;34m\u001b[0m\u001b[0;34m\u001b[0m\u001b[0m\n\u001b[0;32m-> 1193\u001b[0;31m             \u001b[0mexec\u001b[0m\u001b[0;34m(\u001b[0m\u001b[0mcode\u001b[0m\u001b[0;34m,\u001b[0m \u001b[0mglob\u001b[0m\u001b[0;34m,\u001b[0m \u001b[0mlocal_ns\u001b[0m\u001b[0;34m)\u001b[0m\u001b[0;34m\u001b[0m\u001b[0;34m\u001b[0m\u001b[0m\n\u001b[0m\u001b[1;32m   1194\u001b[0m             \u001b[0mend\u001b[0m \u001b[0;34m=\u001b[0m \u001b[0mclock2\u001b[0m\u001b[0;34m(\u001b[0m\u001b[0;34m)\u001b[0m\u001b[0;34m\u001b[0m\u001b[0;34m\u001b[0m\u001b[0m\n\u001b[1;32m   1195\u001b[0m             \u001b[0mout\u001b[0m \u001b[0;34m=\u001b[0m \u001b[0;32mNone\u001b[0m\u001b[0;34m\u001b[0m\u001b[0;34m\u001b[0m\u001b[0m\n",
            "\u001b[0;32m<timed exec>\u001b[0m in \u001b[0;36m<module>\u001b[0;34m()\u001b[0m\n",
            "\u001b[0;31mNameError\u001b[0m: name 'svm' is not defined"
          ]
        }
      ],
      "source": [
        "%%time\n",
        "#SVM \n",
        "svm_classifier = svm.SVC(kernal = 'Linear')\n",
        "svm_classifier.fit(X_train, y_train)\n",
        "svm_predictions = svm_classifier.predict(X_test)\n",
        "\n",
        "#Find the accuracy, precision, and recall\n",
        "print(\"svm Accuracy:\", metrics.accuracy_score(y_test, svm_predictions))\n",
        "print(\"svm Precision:\", metrics.precision_score(y_test, svm_predictions))\n",
        "print(\"svm Recall:\", metrics.recall_score(y_test, svm_predictions))\n"
      ]
    },
    {
      "cell_type": "markdown",
      "source": [
        "#Random Forest"
      ],
      "metadata": {
        "id": "sglAEwJi1AIb"
      }
    },
    {
      "cell_type": "code",
      "source": [
        "%%time\n",
        "rf_clf = RandomForestClassifier(n_estimators=100, max_depth = 2, random_state= 3, class_weight= 'balanced')\n",
        "\n",
        "#Train the model using the training sets\n",
        "rf_clf.fit(X_train, y_train)\n",
        "\n",
        "#Predict the response for test dataset\n",
        "y_pred_rf = rf_clf.predict(X_test)\n",
        "\n",
        "#Find the accuracy, precision, and recall\n",
        "print(\"Random Forest Accuracy:\", metrics.accuracy_score(y_test, y_pred_rf))\n",
        "print(\"Random Forest Precision:\", metrics.precision_score(y_test, y_pred_rf))\n",
        "print(\"Random Forest Recall:\", metrics.recall_score(y_test, y_pred_rf))"
      ],
      "metadata": {
        "colab": {
          "base_uri": "https://localhost:8080/"
        },
        "id": "xLZy-xUG0-7h",
        "outputId": "260435c4-d025-4ffd-af9a-efdb4d83b150"
      },
      "execution_count": null,
      "outputs": [
        {
          "output_type": "stream",
          "name": "stdout",
          "text": [
            "Random Forest Accuracy: 0.6426014819780457\n",
            "Random Forest Precision: 0.19266080804110397\n",
            "Random Forest Recall: 0.8617355268115032\n",
            "CPU times: user 5.35 s, sys: 1.43 s, total: 6.79 s\n",
            "Wall time: 6.75 s\n"
          ]
        }
      ]
    },
    {
      "cell_type": "code",
      "source": [
        "cm = metrics.confusion_matrix(y_test, y_pred_rf)\n",
        "print(cm)\n",
        "print(classification_report(y_pred_rf, y_test))\n",
        "\n",
        "ax = sns.heatmap(cm, annot=True, cmap='Blues')\n",
        "\n",
        "ax.set_title('Confusion Matrix for Random Forest');\n",
        "ax.set_xlabel('\\nPredicted Values')\n",
        "ax.set_ylabel('Actual Values ');\n",
        "\n",
        "## Ticket labels - List must be in alphabetical order\n",
        "ax.xaxis.set_ticklabels(['False','True'])\n",
        "ax.yaxis.set_ticklabels(['False','True'])\n",
        "\n",
        "## Display the visualization of the Confusion Matrix.\n",
        "plt.show()"
      ],
      "metadata": {
        "colab": {
          "base_uri": "https://localhost:8080/",
          "height": 503
        },
        "id": "-MC5FDcO10if",
        "outputId": "ba781cf1-9efe-4598-88ba-02b26e752a7e"
      },
      "execution_count": null,
      "outputs": [
        {
          "output_type": "stream",
          "name": "stdout",
          "text": [
            "[[46819 28755]\n",
            " [ 1101  6862]]\n",
            "              precision    recall  f1-score   support\n",
            "\n",
            "         0.0       0.62      0.98      0.76     47920\n",
            "         1.0       0.86      0.19      0.31     35617\n",
            "\n",
            "    accuracy                           0.64     83537\n",
            "   macro avg       0.74      0.58      0.54     83537\n",
            "weighted avg       0.72      0.64      0.57     83537\n",
            "\n"
          ]
        },
        {
          "output_type": "display_data",
          "data": {
            "text/plain": [
              "<Figure size 432x288 with 2 Axes>"
            ],
            "image/png": "[encoded data removed]"
          },
          "metadata": {
            "needs_background": "light"
          }
        }
      ]
    },
    {
      "cell_type": "markdown",
      "source": [
        "# Decision Trees"
      ],
      "metadata": {
        "id": "KghIib3PixzW"
      }
    },
    {
      "cell_type": "code",
      "source": [
        "%%time\n",
        "\n",
        "dt_clf = DecisionTreeClassifier(random_state=0)\n",
        "dt_clf.fit(X_train, y_train)\n",
        "\n",
        "#Predict the response for test dataset\n",
        "y_pred_dt = dt_clf.predict(X_test)\n",
        "\n",
        "#Find the accuracy, precision, and recall\n",
        "print(\"Random Forest Accuracy:\", metrics.accuracy_score(y_test, y_pred_dt))\n",
        "print(\"Random Forest Precision:\", metrics.precision_score(y_test, y_pred_dt))\n",
        "print(\"Random Forest Recall:\", metrics.recall_score(y_test, y_pred_dt))"
      ],
      "metadata": {
        "id": "kLS0xXwyNzK5",
        "colab": {
          "base_uri": "https://localhost:8080/"
        },
        "outputId": "1dcc43b4-b451-411e-e654-22df774f8300"
      },
      "execution_count": null,
      "outputs": [
        {
          "output_type": "stream",
          "name": "stdout",
          "text": [
            "Random Forest Accuracy: 0.9997366436429367\n",
            "Random Forest Precision: 0.998869204673954\n",
            "Random Forest Recall: 0.9983674494537235\n",
            "CPU times: user 1.04 s, sys: 10.5 ms, total: 1.05 s\n",
            "Wall time: 1.2 s\n"
          ]
        }
      ]
    },
    {
      "cell_type": "code",
      "source": [
        "cm = metrics.confusion_matrix(y_test, y_pred_dt)\n",
        "print(cm)\n",
        "print(classification_report(y_pred_dt, y_test))\n",
        "\n",
        "ax = sns.heatmap(cm, annot=True, cmap='Blues')\n",
        "\n",
        "ax.set_title('Confusion Matrix for Decision Tree');\n",
        "ax.set_xlabel('\\nPredicted Values')\n",
        "ax.set_ylabel('Actual Values ');\n",
        "\n",
        "## Ticket labels - List must be in alphabetical order\n",
        "ax.xaxis.set_ticklabels(['False','True'])\n",
        "ax.yaxis.set_ticklabels(['False','True'])\n",
        "\n",
        "## Display the visualization of the Confusion Matrix.\n",
        "plt.show()"
      ],
      "metadata": {
        "colab": {
          "base_uri": "https://localhost:8080/",
          "height": 503
        },
        "id": "nNh7Mz0zrejw",
        "outputId": "945571fc-67ae-4905-9e9a-cfdcc0c55969"
      },
      "execution_count": null,
      "outputs": [
        {
          "output_type": "stream",
          "name": "stdout",
          "text": [
            "[[75565     9]\n",
            " [   13  7950]]\n",
            "              precision    recall  f1-score   support\n",
            "\n",
            "         0.0       1.00      1.00      1.00     75578\n",
            "         1.0       1.00      1.00      1.00      7959\n",
            "\n",
            "    accuracy                           1.00     83537\n",
            "   macro avg       1.00      1.00      1.00     83537\n",
            "weighted avg       1.00      1.00      1.00     83537\n",
            "\n"
          ]
        },
        {
          "output_type": "display_data",
          "data": {
            "text/plain": [
              "<Figure size 432x288 with 2 Axes>"
            ],
            "image/png": "[encoded data removed]"
          },
          "metadata": {
            "needs_background": "light"
          }
        }
      ]
    },
    {
      "cell_type": "markdown",
      "source": [
        "# Neural Network\n",
        "<https://machinelearningmastery.com/binary-classification-tutorial-with-the-keras-deep-learning-library/>"
      ],
      "metadata": {
        "id": "P7VRplQGsfVU"
      }
    },
    {
      "cell_type": "code",
      "source": [
        "%%time\n",
        "nn_model = keras.Sequential([\n",
        "                             keras.layers.Flatten(input_shape=(26,)),\n",
        "                             keras.layers.Dense(16, activation=tf.nn.relu),\n",
        "                             keras.layers.Dense(16, activation=tf.nn.relu),\n",
        "                             keras.layers.Dense(1, activation=tf.nn.sigmoid),\n",
        "                             ])\n",
        "\n",
        "nn_model.compile(optimizer='adam',\n",
        "                 loss='binary_crossentropy',\n",
        "                 metrics=['accuracy'])\n",
        "\n",
        "nn_model.fit(X_train, y_train, epochs=10, batch_size=1)\n",
        "\n",
        "test_loss, test_acc = nn_model.evaluate(X_test, y_test)\n",
        "print('Test accuracy:', test_acc)"
      ],
      "metadata": {
        "colab": {
          "base_uri": "https://localhost:8080/"
        },
        "id": "Q-rLC19UsenE",
        "outputId": "aa4e44de-fa8f-427f-b049-6d07c166211c"
      },
      "execution_count": null,
      "outputs": [
        {
          "output_type": "stream",
          "name": "stdout",
          "text": [
            "Epoch 1/10\n",
            "194917/194917 [==============================] - 347s 2ms/step - loss: 0.2616 - accuracy: 0.9048\n",
            "Epoch 2/10\n",
            "194917/194917 [==============================] - 337s 2ms/step - loss: 0.2587 - accuracy: 0.9051\n",
            "Epoch 3/10\n",
            "194917/194917 [==============================] - 335s 2ms/step - loss: 0.2578 - accuracy: 0.9053\n",
            "Epoch 4/10\n",
            "194917/194917 [==============================] - 335s 2ms/step - loss: 0.2588 - accuracy: 0.9054\n",
            "Epoch 5/10\n",
            "194917/194917 [==============================] - 334s 2ms/step - loss: 0.2586 - accuracy: 0.9052\n",
            "Epoch 6/10\n",
            "194917/194917 [==============================] - 339s 2ms/step - loss: 0.2584 - accuracy: 0.9050\n",
            "Epoch 7/10\n",
            "194917/194917 [==============================] - 339s 2ms/step - loss: 0.2579 - accuracy: 0.9053\n",
            "Epoch 8/10\n",
            "194917/194917 [==============================] - 334s 2ms/step - loss: 0.2576 - accuracy: 0.9052\n",
            "Epoch 9/10\n",
            "194917/194917 [==============================] - 337s 2ms/step - loss: 0.2576 - accuracy: 0.9053\n",
            "Epoch 10/10\n",
            "194917/194917 [==============================] - 334s 2ms/step - loss: 0.2583 - accuracy: 0.9051\n",
            "2611/2611 [==============================] - 4s 2ms/step - loss: 0.2582 - accuracy: 0.9048\n",
            "Test accuracy: 0.9048206210136414\n",
            "CPU times: user 1h 3min 28s, sys: 4min 21s, total: 1h 7min 49s\n",
            "Wall time: 56min 27s\n"
          ]
        }
      ]
    }
  ],
  "metadata": {
    "colab": {
      "name": "NMR_Classifier.ipynb",
      "provenance": [],
      "collapsed_sections": []
    },
    "kernelspec": {
      "display_name": "Python 3",
      "name": "python3"
    },
    "language_info": {
      "name": "python"
    }
  },
  "nbformat": 4,
  "nbformat_minor": 0
}