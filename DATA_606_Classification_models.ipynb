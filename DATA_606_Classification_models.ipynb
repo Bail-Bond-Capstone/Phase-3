{
  "cells": [
    {
      "cell_type": "code",
      "execution_count": null,
      "metadata": {
        "id": "QBYnb7r25A53"
      },
      "outputs": [],
      "source": [
        "import pandas as pd"
      ]
    },
    {
      "cell_type": "code",
      "execution_count": null,
      "metadata": {
        "id": "LwlJU-ne5A55"
      },
      "outputs": [],
      "source": [
        "df1 = pd.read_csv(\"606_bail_columns_modelfeeder.csv\")"
      ]
    },
    {
      "cell_type": "code",
      "execution_count": null,
      "metadata": {
        "id": "ZVSuYL0T5A56"
      },
      "outputs": [],
      "source": [
        "# Set table view \n",
        "pd.set_option('display.max_columns', None)"
      ]
    },
    {
      "cell_type": "code",
      "execution_count": null,
      "metadata": {
        "id": "oBQg0jOY5A56",
        "outputId": "4c25d7aa-8acb-49d0-db0e-ad1cd8043efe"
      },
      "outputs": [
        {
          "data": {
            "text/plain": [
              "Index(['Unnamed: 0', 'Gender', 'Race', 'Age_at_Crime', 'Age_at_Arrest',\n",
              "       'Court_ORI', 'Judge_Name', 'Arrest_Type', 'Top_Arrest_Article_Section',\n",
              "       'Top_Charge_at_Arrest', 'Top_Charge_Severity_at_Arrest',\n",
              "       'Top_Charge_Weight_at_Arrest',\n",
              "       'Top_Charge_at_Arrest_Violent_Felony_Ind', 'Arraign Charge Category',\n",
              "       'Representation_Type', 'Def_Attended_Sched_Pretrials',\n",
              "       'Release Decision at Arraign', 'Bail_Amount', 'Age', 'Violent_Fel',\n",
              "       'Year'],\n",
              "      dtype='object')"
            ]
          },
          "execution_count": 11,
          "metadata": {},
          "output_type": "execute_result"
        }
      ],
      "source": [
        "df1.columns"
      ]
    },
    {
      "cell_type": "code",
      "execution_count": null,
      "metadata": {
        "id": "F4vmn2JW5A58"
      },
      "outputs": [],
      "source": [
        "df1 = df1.drop(\"Unnamed: 0\", axis=1)"
      ]
    },
    {
      "cell_type": "code",
      "execution_count": null,
      "metadata": {
        "id": "hWeE_-8S5A58"
      },
      "outputs": [],
      "source": [
        "df1[\"Bail_Pct\"] = df1[\"Bail_Amount\"].rank(method=\"first\")"
      ]
    },
    {
      "cell_type": "code",
      "execution_count": null,
      "metadata": {
        "id": "jtdPLzni5A58",
        "outputId": "e1a00468-cc72-41b7-9307-b8cb13d8aad5"
      },
      "outputs": [
        {
          "data": {
            "text/html": [
              "<div>\n",
              "<style scoped>\n",
              "    .dataframe tbody tr th:only-of-type {\n",
              "        vertical-align: middle;\n",
              "    }\n",
              "\n",
              "    .dataframe tbody tr th {\n",
              "        vertical-align: top;\n",
              "    }\n",
              "\n",
              "    .dataframe thead th {\n",
              "        text-align: right;\n",
              "    }\n",
              "</style>\n",
              "<table border=\"1\" class=\"dataframe\">\n",
              "  <thead>\n",
              "    <tr style=\"text-align: right;\">\n",
              "      <th></th>\n",
              "      <th>Gender</th>\n",
              "      <th>Race</th>\n",
              "      <th>Age_at_Crime</th>\n",
              "      <th>Age_at_Arrest</th>\n",
              "      <th>Court_ORI</th>\n",
              "      <th>Judge_Name</th>\n",
              "      <th>Arrest_Type</th>\n",
              "      <th>Top_Arrest_Article_Section</th>\n",
              "      <th>Top_Charge_at_Arrest</th>\n",
              "      <th>Top_Charge_Severity_at_Arrest</th>\n",
              "      <th>Top_Charge_Weight_at_Arrest</th>\n",
              "      <th>Top_Charge_at_Arrest_Violent_Felony_Ind</th>\n",
              "      <th>Arraign Charge Category</th>\n",
              "      <th>Representation_Type</th>\n",
              "      <th>Def_Attended_Sched_Pretrials</th>\n",
              "      <th>Release Decision at Arraign</th>\n",
              "      <th>Bail_Amount</th>\n",
              "      <th>Age</th>\n",
              "      <th>Violent_Fel</th>\n",
              "      <th>Year</th>\n",
              "      <th>Bail_Pct</th>\n",
              "    </tr>\n",
              "  </thead>\n",
              "  <tbody>\n",
              "    <tr>\n",
              "      <th>0</th>\n",
              "      <td>1</td>\n",
              "      <td>Black</td>\n",
              "      <td>59.0</td>\n",
              "      <td>59.0</td>\n",
              "      <td>NY033011J</td>\n",
              "      <td>Andrews, Ross P.</td>\n",
              "      <td>Custody</td>\n",
              "      <td>145</td>\n",
              "      <td>PL 145.00 01 AM Crim Mis:Intent Damage Proprty</td>\n",
              "      <td>Misdemeanor</td>\n",
              "      <td>AM</td>\n",
              "      <td>N</td>\n",
              "      <td>Property</td>\n",
              "      <td>18B (Assigned Counsel)</td>\n",
              "      <td>0</td>\n",
              "      <td>Bail-set</td>\n",
              "      <td>50.0</td>\n",
              "      <td>59.0</td>\n",
              "      <td>0</td>\n",
              "      <td>2020.0</td>\n",
              "      <td>8756.0</td>\n",
              "    </tr>\n",
              "    <tr>\n",
              "      <th>1</th>\n",
              "      <td>1</td>\n",
              "      <td>Unknown</td>\n",
              "      <td>45.0</td>\n",
              "      <td>45.0</td>\n",
              "      <td>NY023033J</td>\n",
              "      <td>Levy-Abadi, Gina</td>\n",
              "      <td>Custody</td>\n",
              "      <td>160.1</td>\n",
              "      <td>PL 160.10 02A CF Rob-2nd:Causes Physical Injury</td>\n",
              "      <td>Felony</td>\n",
              "      <td>CF</td>\n",
              "      <td>Y</td>\n",
              "      <td>Robbery</td>\n",
              "      <td>Legal Aid</td>\n",
              "      <td>0</td>\n",
              "      <td>Bail-set</td>\n",
              "      <td>10000.0</td>\n",
              "      <td>45.0</td>\n",
              "      <td>1</td>\n",
              "      <td>2020.0</td>\n",
              "      <td>16671.0</td>\n",
              "    </tr>\n",
              "    <tr>\n",
              "      <th>2</th>\n",
              "      <td>1</td>\n",
              "      <td>Black</td>\n",
              "      <td>39.0</td>\n",
              "      <td>43.0</td>\n",
              "      <td>NY035011J</td>\n",
              "      <td>Calderin, Noreen F.</td>\n",
              "      <td>Custody</td>\n",
              "      <td>215.5</td>\n",
              "      <td>PL 215.50 03 AM Crim Contempt-2nd:Disobey Crt</td>\n",
              "      <td>Misdemeanor</td>\n",
              "      <td>AM</td>\n",
              "      <td>N</td>\n",
              "      <td>Criminal Contempt</td>\n",
              "      <td>18B (Assigned Counsel)</td>\n",
              "      <td>5</td>\n",
              "      <td>Bail-set</td>\n",
              "      <td>5000.0</td>\n",
              "      <td>43.0</td>\n",
              "      <td>0</td>\n",
              "      <td>2021.0</td>\n",
              "      <td>12726.0</td>\n",
              "    </tr>\n",
              "    <tr>\n",
              "      <th>3</th>\n",
              "      <td>1</td>\n",
              "      <td>Hispanic</td>\n",
              "      <td>33.0</td>\n",
              "      <td>34.0</td>\n",
              "      <td>NY023033J</td>\n",
              "      <td>Levy-Abadi, Gina</td>\n",
              "      <td>Custody</td>\n",
              "      <td>120.05</td>\n",
              "      <td>PL 120.05 02 DF Aslt W/Int Cause Ph Inj W/Weap</td>\n",
              "      <td>Felony</td>\n",
              "      <td>DF</td>\n",
              "      <td>Y</td>\n",
              "      <td>Assault</td>\n",
              "      <td>Public Defender</td>\n",
              "      <td>0</td>\n",
              "      <td>Bail-set</td>\n",
              "      <td>20000.0</td>\n",
              "      <td>34.0</td>\n",
              "      <td>1</td>\n",
              "      <td>2020.0</td>\n",
              "      <td>21828.0</td>\n",
              "    </tr>\n",
              "    <tr>\n",
              "      <th>4</th>\n",
              "      <td>1</td>\n",
              "      <td>Black</td>\n",
              "      <td>31.0</td>\n",
              "      <td>31.0</td>\n",
              "      <td>NY031011J</td>\n",
              "      <td>Faso Jr., James J.</td>\n",
              "      <td>Custody</td>\n",
              "      <td>160.1</td>\n",
              "      <td>PL 160.10 02A CF Rob-2nd:Causes Physical Injury</td>\n",
              "      <td>Felony</td>\n",
              "      <td>CF</td>\n",
              "      <td>Y</td>\n",
              "      <td>Robbery</td>\n",
              "      <td>Public Defender</td>\n",
              "      <td>0</td>\n",
              "      <td>Bail-set</td>\n",
              "      <td>40000.0</td>\n",
              "      <td>31.0</td>\n",
              "      <td>1</td>\n",
              "      <td>2019.0</td>\n",
              "      <td>26938.0</td>\n",
              "    </tr>\n",
              "  </tbody>\n",
              "</table>\n",
              "</div>"
            ],
            "text/plain": [
              "   Gender      Race  Age_at_Crime  Age_at_Arrest  Court_ORI  \\\n",
              "0       1     Black          59.0           59.0  NY033011J   \n",
              "1       1   Unknown          45.0           45.0  NY023033J   \n",
              "2       1     Black          39.0           43.0  NY035011J   \n",
              "3       1  Hispanic          33.0           34.0  NY023033J   \n",
              "4       1     Black          31.0           31.0  NY031011J   \n",
              "\n",
              "            Judge_Name Arrest_Type Top_Arrest_Article_Section  \\\n",
              "0     Andrews, Ross P.     Custody                        145   \n",
              "1     Levy-Abadi, Gina     Custody                      160.1   \n",
              "2  Calderin, Noreen F.     Custody                      215.5   \n",
              "3     Levy-Abadi, Gina     Custody                     120.05   \n",
              "4   Faso Jr., James J.     Custody                      160.1   \n",
              "\n",
              "                              Top_Charge_at_Arrest  \\\n",
              "0   PL 145.00 01 AM Crim Mis:Intent Damage Proprty   \n",
              "1  PL 160.10 02A CF Rob-2nd:Causes Physical Injury   \n",
              "2    PL 215.50 03 AM Crim Contempt-2nd:Disobey Crt   \n",
              "3   PL 120.05 02 DF Aslt W/Int Cause Ph Inj W/Weap   \n",
              "4  PL 160.10 02A CF Rob-2nd:Causes Physical Injury   \n",
              "\n",
              "  Top_Charge_Severity_at_Arrest Top_Charge_Weight_at_Arrest  \\\n",
              "0                   Misdemeanor                          AM   \n",
              "1                        Felony                          CF   \n",
              "2                   Misdemeanor                          AM   \n",
              "3                        Felony                          DF   \n",
              "4                        Felony                          CF   \n",
              "\n",
              "  Top_Charge_at_Arrest_Violent_Felony_Ind Arraign Charge Category  \\\n",
              "0                                       N                Property   \n",
              "1                                       Y                 Robbery   \n",
              "2                                       N       Criminal Contempt   \n",
              "3                                       Y                 Assault   \n",
              "4                                       Y                 Robbery   \n",
              "\n",
              "      Representation_Type  Def_Attended_Sched_Pretrials  \\\n",
              "0  18B (Assigned Counsel)                             0   \n",
              "1               Legal Aid                             0   \n",
              "2  18B (Assigned Counsel)                             5   \n",
              "3         Public Defender                             0   \n",
              "4         Public Defender                             0   \n",
              "\n",
              "  Release Decision at Arraign  Bail_Amount   Age  Violent_Fel    Year  \\\n",
              "0                    Bail-set         50.0  59.0            0  2020.0   \n",
              "1                    Bail-set      10000.0  45.0            1  2020.0   \n",
              "2                    Bail-set       5000.0  43.0            0  2021.0   \n",
              "3                    Bail-set      20000.0  34.0            1  2020.0   \n",
              "4                    Bail-set      40000.0  31.0            1  2019.0   \n",
              "\n",
              "   Bail_Pct  \n",
              "0    8756.0  \n",
              "1   16671.0  \n",
              "2   12726.0  \n",
              "3   21828.0  \n",
              "4   26938.0  "
            ]
          },
          "execution_count": 48,
          "metadata": {},
          "output_type": "execute_result"
        }
      ],
      "source": [
        "df1.head()"
      ]
    },
    {
      "cell_type": "code",
      "execution_count": null,
      "metadata": {
        "id": "J83OMLOF5A59"
      },
      "outputs": [],
      "source": [
        ""
      ]
    },
    {
      "cell_type": "code",
      "execution_count": null,
      "metadata": {
        "id": "jl3_4f0G5A5-"
      },
      "outputs": [],
      "source": [
        "labels = [\"very low\", \"low\",\"medium\", \"high\", \"very high\"]\n",
        "\n",
        "df1[\"Bail_Cat\"] = pd.cut((df1[\"Bail_Pct\"]), 5, labels=labels)"
      ]
    },
    {
      "cell_type": "code",
      "execution_count": null,
      "metadata": {
        "id": "Dggo1NTR5A5_",
        "outputId": "1e048e0f-5a98-4a02-c591-7bf51e583a3a"
      },
      "outputs": [
        {
          "data": {
            "text/plain": [
              "(0              low\n",
              " 1           medium\n",
              " 2              low\n",
              " 3           medium\n",
              " 4             high\n",
              "            ...    \n",
              " 36535         high\n",
              " 36536    very high\n",
              " 36537    very high\n",
              " 36538    very high\n",
              " 36539       medium\n",
              " Name: Bail_Pct, Length: 36540, dtype: category\n",
              " Categories (5, object): ['very low' < 'low' < 'medium' < 'high' < 'very high'],\n",
              " array([-3.55390e+01,  7.30880e+03,  1.46166e+04,  2.19244e+04,\n",
              "         2.92322e+04,  3.65400e+04]))"
            ]
          },
          "execution_count": 59,
          "metadata": {},
          "output_type": "execute_result"
        }
      ],
      "source": [
        "pd.cut((df1[\"Bail_Pct\"]), 5, labels=labels, retbins=True)"
      ]
    },
    {
      "cell_type": "code",
      "execution_count": null,
      "metadata": {
        "id": "QhM2shdI5A5_",
        "outputId": "55310043-330d-4162-e2df-d178572c74a0"
      },
      "outputs": [
        {
          "data": {
            "text/html": [
              "<div>\n",
              "<style scoped>\n",
              "    .dataframe tbody tr th:only-of-type {\n",
              "        vertical-align: middle;\n",
              "    }\n",
              "\n",
              "    .dataframe tbody tr th {\n",
              "        vertical-align: top;\n",
              "    }\n",
              "\n",
              "    .dataframe thead th {\n",
              "        text-align: right;\n",
              "    }\n",
              "</style>\n",
              "<table border=\"1\" class=\"dataframe\">\n",
              "  <thead>\n",
              "    <tr style=\"text-align: right;\">\n",
              "      <th></th>\n",
              "      <th>Gender</th>\n",
              "      <th>Race</th>\n",
              "      <th>Age_at_Crime</th>\n",
              "      <th>Age_at_Arrest</th>\n",
              "      <th>Court_ORI</th>\n",
              "      <th>Judge_Name</th>\n",
              "      <th>Arrest_Type</th>\n",
              "      <th>Top_Arrest_Article_Section</th>\n",
              "      <th>Top_Charge_at_Arrest</th>\n",
              "      <th>Top_Charge_Severity_at_Arrest</th>\n",
              "      <th>Top_Charge_Weight_at_Arrest</th>\n",
              "      <th>Top_Charge_at_Arrest_Violent_Felony_Ind</th>\n",
              "      <th>Arraign Charge Category</th>\n",
              "      <th>Representation_Type</th>\n",
              "      <th>Def_Attended_Sched_Pretrials</th>\n",
              "      <th>Release Decision at Arraign</th>\n",
              "      <th>Bail_Amount</th>\n",
              "      <th>Age</th>\n",
              "      <th>Violent_Fel</th>\n",
              "      <th>Year</th>\n",
              "      <th>Bail_Pct</th>\n",
              "      <th>Bail_Cat</th>\n",
              "    </tr>\n",
              "  </thead>\n",
              "  <tbody>\n",
              "    <tr>\n",
              "      <th>0</th>\n",
              "      <td>1</td>\n",
              "      <td>Black</td>\n",
              "      <td>59.0</td>\n",
              "      <td>59.0</td>\n",
              "      <td>NY033011J</td>\n",
              "      <td>Andrews, Ross P.</td>\n",
              "      <td>Custody</td>\n",
              "      <td>145</td>\n",
              "      <td>PL 145.00 01 AM Crim Mis:Intent Damage Proprty</td>\n",
              "      <td>Misdemeanor</td>\n",
              "      <td>AM</td>\n",
              "      <td>N</td>\n",
              "      <td>Property</td>\n",
              "      <td>18B (Assigned Counsel)</td>\n",
              "      <td>0</td>\n",
              "      <td>Bail-set</td>\n",
              "      <td>50.0</td>\n",
              "      <td>59.0</td>\n",
              "      <td>0</td>\n",
              "      <td>2020.0</td>\n",
              "      <td>8756.0</td>\n",
              "      <td>low</td>\n",
              "    </tr>\n",
              "    <tr>\n",
              "      <th>1</th>\n",
              "      <td>1</td>\n",
              "      <td>Unknown</td>\n",
              "      <td>45.0</td>\n",
              "      <td>45.0</td>\n",
              "      <td>NY023033J</td>\n",
              "      <td>Levy-Abadi, Gina</td>\n",
              "      <td>Custody</td>\n",
              "      <td>160.1</td>\n",
              "      <td>PL 160.10 02A CF Rob-2nd:Causes Physical Injury</td>\n",
              "      <td>Felony</td>\n",
              "      <td>CF</td>\n",
              "      <td>Y</td>\n",
              "      <td>Robbery</td>\n",
              "      <td>Legal Aid</td>\n",
              "      <td>0</td>\n",
              "      <td>Bail-set</td>\n",
              "      <td>10000.0</td>\n",
              "      <td>45.0</td>\n",
              "      <td>1</td>\n",
              "      <td>2020.0</td>\n",
              "      <td>16671.0</td>\n",
              "      <td>medium</td>\n",
              "    </tr>\n",
              "    <tr>\n",
              "      <th>2</th>\n",
              "      <td>1</td>\n",
              "      <td>Black</td>\n",
              "      <td>39.0</td>\n",
              "      <td>43.0</td>\n",
              "      <td>NY035011J</td>\n",
              "      <td>Calderin, Noreen F.</td>\n",
              "      <td>Custody</td>\n",
              "      <td>215.5</td>\n",
              "      <td>PL 215.50 03 AM Crim Contempt-2nd:Disobey Crt</td>\n",
              "      <td>Misdemeanor</td>\n",
              "      <td>AM</td>\n",
              "      <td>N</td>\n",
              "      <td>Criminal Contempt</td>\n",
              "      <td>18B (Assigned Counsel)</td>\n",
              "      <td>5</td>\n",
              "      <td>Bail-set</td>\n",
              "      <td>5000.0</td>\n",
              "      <td>43.0</td>\n",
              "      <td>0</td>\n",
              "      <td>2021.0</td>\n",
              "      <td>12726.0</td>\n",
              "      <td>low</td>\n",
              "    </tr>\n",
              "    <tr>\n",
              "      <th>3</th>\n",
              "      <td>1</td>\n",
              "      <td>Hispanic</td>\n",
              "      <td>33.0</td>\n",
              "      <td>34.0</td>\n",
              "      <td>NY023033J</td>\n",
              "      <td>Levy-Abadi, Gina</td>\n",
              "      <td>Custody</td>\n",
              "      <td>120.05</td>\n",
              "      <td>PL 120.05 02 DF Aslt W/Int Cause Ph Inj W/Weap</td>\n",
              "      <td>Felony</td>\n",
              "      <td>DF</td>\n",
              "      <td>Y</td>\n",
              "      <td>Assault</td>\n",
              "      <td>Public Defender</td>\n",
              "      <td>0</td>\n",
              "      <td>Bail-set</td>\n",
              "      <td>20000.0</td>\n",
              "      <td>34.0</td>\n",
              "      <td>1</td>\n",
              "      <td>2020.0</td>\n",
              "      <td>21828.0</td>\n",
              "      <td>medium</td>\n",
              "    </tr>\n",
              "    <tr>\n",
              "      <th>4</th>\n",
              "      <td>1</td>\n",
              "      <td>Black</td>\n",
              "      <td>31.0</td>\n",
              "      <td>31.0</td>\n",
              "      <td>NY031011J</td>\n",
              "      <td>Faso Jr., James J.</td>\n",
              "      <td>Custody</td>\n",
              "      <td>160.1</td>\n",
              "      <td>PL 160.10 02A CF Rob-2nd:Causes Physical Injury</td>\n",
              "      <td>Felony</td>\n",
              "      <td>CF</td>\n",
              "      <td>Y</td>\n",
              "      <td>Robbery</td>\n",
              "      <td>Public Defender</td>\n",
              "      <td>0</td>\n",
              "      <td>Bail-set</td>\n",
              "      <td>40000.0</td>\n",
              "      <td>31.0</td>\n",
              "      <td>1</td>\n",
              "      <td>2019.0</td>\n",
              "      <td>26938.0</td>\n",
              "      <td>high</td>\n",
              "    </tr>\n",
              "  </tbody>\n",
              "</table>\n",
              "</div>"
            ],
            "text/plain": [
              "   Gender      Race  Age_at_Crime  Age_at_Arrest  Court_ORI  \\\n",
              "0       1     Black          59.0           59.0  NY033011J   \n",
              "1       1   Unknown          45.0           45.0  NY023033J   \n",
              "2       1     Black          39.0           43.0  NY035011J   \n",
              "3       1  Hispanic          33.0           34.0  NY023033J   \n",
              "4       1     Black          31.0           31.0  NY031011J   \n",
              "\n",
              "            Judge_Name Arrest_Type Top_Arrest_Article_Section  \\\n",
              "0     Andrews, Ross P.     Custody                        145   \n",
              "1     Levy-Abadi, Gina     Custody                      160.1   \n",
              "2  Calderin, Noreen F.     Custody                      215.5   \n",
              "3     Levy-Abadi, Gina     Custody                     120.05   \n",
              "4   Faso Jr., James J.     Custody                      160.1   \n",
              "\n",
              "                              Top_Charge_at_Arrest  \\\n",
              "0   PL 145.00 01 AM Crim Mis:Intent Damage Proprty   \n",
              "1  PL 160.10 02A CF Rob-2nd:Causes Physical Injury   \n",
              "2    PL 215.50 03 AM Crim Contempt-2nd:Disobey Crt   \n",
              "3   PL 120.05 02 DF Aslt W/Int Cause Ph Inj W/Weap   \n",
              "4  PL 160.10 02A CF Rob-2nd:Causes Physical Injury   \n",
              "\n",
              "  Top_Charge_Severity_at_Arrest Top_Charge_Weight_at_Arrest  \\\n",
              "0                   Misdemeanor                          AM   \n",
              "1                        Felony                          CF   \n",
              "2                   Misdemeanor                          AM   \n",
              "3                        Felony                          DF   \n",
              "4                        Felony                          CF   \n",
              "\n",
              "  Top_Charge_at_Arrest_Violent_Felony_Ind Arraign Charge Category  \\\n",
              "0                                       N                Property   \n",
              "1                                       Y                 Robbery   \n",
              "2                                       N       Criminal Contempt   \n",
              "3                                       Y                 Assault   \n",
              "4                                       Y                 Robbery   \n",
              "\n",
              "      Representation_Type  Def_Attended_Sched_Pretrials  \\\n",
              "0  18B (Assigned Counsel)                             0   \n",
              "1               Legal Aid                             0   \n",
              "2  18B (Assigned Counsel)                             5   \n",
              "3         Public Defender                             0   \n",
              "4         Public Defender                             0   \n",
              "\n",
              "  Release Decision at Arraign  Bail_Amount   Age  Violent_Fel    Year  \\\n",
              "0                    Bail-set         50.0  59.0            0  2020.0   \n",
              "1                    Bail-set      10000.0  45.0            1  2020.0   \n",
              "2                    Bail-set       5000.0  43.0            0  2021.0   \n",
              "3                    Bail-set      20000.0  34.0            1  2020.0   \n",
              "4                    Bail-set      40000.0  31.0            1  2019.0   \n",
              "\n",
              "   Bail_Pct Bail_Cat  \n",
              "0    8756.0      low  \n",
              "1   16671.0   medium  \n",
              "2   12726.0      low  \n",
              "3   21828.0   medium  \n",
              "4   26938.0     high  "
            ]
          },
          "execution_count": 62,
          "metadata": {},
          "output_type": "execute_result"
        }
      ],
      "source": [
        "df1.head()"
      ]
    },
    {
      "cell_type": "code",
      "execution_count": null,
      "metadata": {
        "id": "mwn_ltpi5A6A"
      },
      "outputs": [],
      "source": [
        "df2 = df1.drop(labels=[\"Bail_Pct\", \"Bail_Amount\"], axis=1)"
      ]
    },
    {
      "cell_type": "code",
      "execution_count": null,
      "metadata": {
        "id": "3j-Ew9NO5A6A"
      },
      "outputs": [],
      "source": [
        "df2 = df2.drop(labels=[\"Release Decision at Arraign\", \"Representation_Type\",\n",
        "                      \"Arraign Charge Category\", \n",
        "                       \"Top_Charge_at_Arrest_Violent_Felony_Ind\",\n",
        "                      \"Top_Charge_Weight_at_Arrest\",\"Top_Charge_Severity_at_Arrest\",\n",
        "                      \"Top_Arrest_Article_Section\",\"Arrest_Type\",\"Judge_Name\", \n",
        "                     \"Age_at_Crime\", \"Age_at_Arrest\" ], axis=1)"
      ]
    },
    {
      "cell_type": "code",
      "execution_count": null,
      "metadata": {
        "id": "I470E1JM5A6B",
        "outputId": "ddbabd2c-cc73-4a3f-a334-9d5fd151f0a7"
      },
      "outputs": [
        {
          "data": {
            "text/plain": [
              "Gender                             int64\n",
              "Race                              object\n",
              "Court_ORI                         object\n",
              "Top_Charge_at_Arrest              object\n",
              "Def_Attended_Sched_Pretrials       int64\n",
              "Age                              float64\n",
              "Violent_Fel                        int64\n",
              "Year                             float64\n",
              "Bail_Cat                        category\n",
              "dtype: object"
            ]
          },
          "execution_count": 67,
          "metadata": {},
          "output_type": "execute_result"
        }
      ],
      "source": [
        "df2.dtypes"
      ]
    },
    {
      "cell_type": "code",
      "execution_count": null,
      "metadata": {
        "id": "RGc2uyne5A6B"
      },
      "outputs": [],
      "source": [
        "# Top Charge at Arrest Dummies\n",
        "df2 = pd.concat([df2,pd.get_dummies(df2['Top_Charge_at_Arrest'], prefix='law')],axis=1).drop(['Top_Charge_at_Arrest'],axis=1)\n"
      ]
    },
    {
      "cell_type": "code",
      "execution_count": null,
      "metadata": {
        "id": "Qi346j-25A6B"
      },
      "outputs": [],
      "source": [
        "# Race Dummies\n",
        "df2 = pd.concat([df2,pd.get_dummies(df2['Race'], prefix='Race')],axis=1).drop(['Race'],axis=1)\n"
      ]
    },
    {
      "cell_type": "code",
      "execution_count": null,
      "metadata": {
        "id": "QIsGf2yD5A6C"
      },
      "outputs": [],
      "source": [
        "# court ORI Dummies\n",
        "df2 = pd.concat([df2,pd.get_dummies(df2['Court_ORI'], prefix='Court_ORI')],axis=1).drop(['Court_ORI'],axis=1)\n"
      ]
    },
    {
      "cell_type": "code",
      "execution_count": null,
      "metadata": {
        "id": "6tm_17555A6C",
        "outputId": "38864f15-6112-4732-a2be-b9d01c7bb78b"
      },
      "outputs": [
        {
          "data": {
            "text/plain": [
              "(36540, 743)"
            ]
          },
          "execution_count": 73,
          "metadata": {},
          "output_type": "execute_result"
        }
      ],
      "source": [
        "df2.shape"
      ]
    },
    {
      "cell_type": "code",
      "execution_count": null,
      "metadata": {
        "id": "j6cNiRQf5A6C"
      },
      "outputs": [],
      "source": [
        "from sklearn.compose import ColumnTransformer\n",
        "from sklearn.preprocessing import StandardScaler\n",
        "\n",
        "#list of columns\n",
        "cols_to_scale = ['Age','Def_Attended_Sched_Pretrials']\n",
        "\n",
        "\n",
        "scaler = StandardScaler()\n",
        "scaler.fit(df2[cols_to_scale])\n",
        "\n",
        "#scale  data\n",
        "df2[cols_to_scale] = scaler.transform(df2[cols_to_scale])\n"
      ]
    },
    {
      "cell_type": "code",
      "execution_count": null,
      "metadata": {
        "id": "_xQM6hPB5A6D"
      },
      "outputs": [],
      "source": [
        "# df2.head()"
      ]
    },
    {
      "cell_type": "code",
      "execution_count": null,
      "metadata": {
        "id": "Eee7JOyX5A6D"
      },
      "outputs": [],
      "source": [
        "X = df2.drop(labels=[\"Bail_Cat\", \"Year\"],axis=1)\n",
        "y = df2[\"Bail_Cat\"]"
      ]
    },
    {
      "cell_type": "code",
      "execution_count": null,
      "metadata": {
        "id": "lILeNAR45A6D"
      },
      "outputs": [],
      "source": [
        "#Test_Train Split \n",
        "from sklearn.model_selection import train_test_split\n",
        "\n",
        "X_train, X_test, y_train, y_test = train_test_split(X, y, test_size=0.3)\n"
      ]
    },
    {
      "cell_type": "code",
      "execution_count": null,
      "metadata": {
        "id": "djk8PySS5A6E"
      },
      "outputs": [],
      "source": [
        "%%time\n",
        "#Make a train and test set\n",
        "LogReg = GridSearchCV(LogisticRegressionCV(random_state = 3, class_weight = 'balanced'), \n",
        "                      {'max_iter': [100, 500, 1000]} ,cv = 5)\n",
        "\n",
        "LogReg.fit(X_train, y_train)\n",
        "\n",
        "print(\"Best parameters\", LogReg.best_params_)\n",
        "\n",
        "#Predict the response for the test set\n",
        "y_pred = LogReg.predict(X_test)\n",
        "#Find the accuracy, precision, and recall\n",
        "print(\"Logistic Regression Accuracy:\", metrics.accuracy_score(y_test, y_pred))\n",
        "print(\"Logistic Regression Precision:\", metrics.precision_score(y_test, y_pred))\n",
        "print(\"Logistic Regression Recall:\", metrics.recall_score(y_test, y_pred))\n",
        "\n"
      ]
    },
    {
      "cell_type": "code",
      "execution_count": null,
      "metadata": {
        "id": "MOdVOwH65A6E",
        "outputId": "f4fe58db-92fb-43df-9293-559c8cf414a0"
      },
      "outputs": [
        {
          "data": {
            "text/plain": [
              "LogisticRegression(max_iter=500, multi_class='multinomial')"
            ]
          },
          "execution_count": 84,
          "metadata": {},
          "output_type": "execute_result"
        }
      ],
      "source": [
        "# Define Model\n",
        "from sklearn.linear_model import LogisticRegression\n",
        "\n",
        "## Linear Regression\n",
        "lr_model = LogisticRegression( multi_class= \"multinomial\", max_iter=500)\n",
        "\n",
        "#Fit model\n",
        "lr_model.fit(X_train, y_train)\n",
        "\n"
      ]
    },
    {
      "cell_type": "code",
      "execution_count": null,
      "metadata": {
        "id": "xKgFO_915A6E"
      },
      "outputs": [],
      "source": [
        "predicted_y_test = lr_model.predict(X_test) "
      ]
    },
    {
      "cell_type": "code",
      "execution_count": null,
      "metadata": {
        "id": "7baxKTyA5A6F",
        "outputId": "a719ff5e-d085-4ee7-dca3-4a595ba1f472"
      },
      "outputs": [
        {
          "name": "stdout",
          "output_type": "stream",
          "text": [
            "Recall Score: 0.5045612114577632\n",
            "F1 Score: 0.49323880937036235\n",
            "Precision Score: 0.49304877929031826\n",
            "Accuracy Score: 0.5045612114577632\n"
          ]
        }
      ],
      "source": [
        "from sklearn.metrics import recall_score\n",
        "from sklearn.metrics import f1_score\n",
        "from sklearn.metrics import precision_score\n",
        "from sklearn.metrics import accuracy_score\n",
        "\n",
        "\n",
        "print(\"Recall Score:\", recall_score(y_true=y_test, y_pred=predicted_y_test, average=\"weighted\"))\n",
        "print( \"F1 Score:\",f1_score(y_test,predicted_y_test, average=\"weighted\"))\n",
        "print(\"Precision Score:\",precision_score(y_test,predicted_y_test, average=\"weighted\"))\n",
        "print(\"Accuracy Score:\",accuracy_score(y_test,predicted_y_test))\n",
        "\n",
        "      "
      ]
    },
    {
      "cell_type": "code",
      "execution_count": null,
      "metadata": {
        "id": "eurUSFAj5A6F",
        "outputId": "9ece621c-c85b-4cf5-ccfc-765097d3b51b"
      },
      "outputs": [
        {
          "name": "stdout",
          "output_type": "stream",
          "text": [
            "[[ 643  171  552  572  211]\n",
            " [ 186  914  392  124  578]\n",
            " [ 452  380  861  272  262]\n",
            " [ 444   36  250 1326  136]\n",
            " [  69  184   81   79 1787]]\n"
          ]
        }
      ],
      "source": [
        "from sklearn.metrics import confusion_matrix\n",
        "\n",
        "\n",
        "confusion_matrix = confusion_matrix(y_test, predicted_y_test)\n",
        "print(confusion_matrix)"
      ]
    }
  ],
  "metadata": {
    "kernelspec": {
      "display_name": "Python 3",
      "language": "python",
      "name": "python3"
    },
    "language_info": {
      "codemirror_mode": {
        "name": "ipython",
        "version": 3
      },
      "file_extension": ".py",
      "mimetype": "text/x-python",
      "name": "python",
      "nbconvert_exporter": "python",
      "pygments_lexer": "ipython3",
      "version": "3.8.5"
    },
    "colab": {
      "name": "DATA_606_Classification_models.ipynb",
      "provenance": []
    }
  },
  "nbformat": 4,
  "nbformat_minor": 0
}